{
 "cells": [
  {
   "cell_type": "code",
   "execution_count": 1,
   "metadata": {},
   "outputs": [],
   "source": [
    "# define a model using pytorch\n",
    "# a pretrained model adding layers to classify the 4 classes of the images\n",
    "import torch.nn as nn\n",
    "from torchvision import models\n",
    "from torchvision.models import squeezenet1_1\n",
    "from torchvision.models.squeezenet import SqueezeNet1_1_Weights\n",
    "\n",
    "\n",
    "\n",
    "class MIDmodel(nn.Module):\n",
    "    def __init__(self):\n",
    "        super(MIDmodel, self).__init__()\n",
    "        self.pretrained = squeezenet1_1()\n",
    "        self.fc1 = nn.Linear(1000, 128)\n",
    "        self.fc2 = nn.Linear(128, 4)\n",
    "        self.dropout = nn.Dropout(0.7)\n",
    "\n",
    "    def forward(self, x):\n",
    "        x = self.pretrained(x)\n",
    "        x = self.dropout(x)\n",
    "        x = self.fc1(x)\n",
    "        x = self.dropout(x)\n",
    "        x = self.fc2(x)\n",
    "        return x"
   ]
  },
  {
   "cell_type": "code",
   "execution_count": 2,
   "metadata": {},
   "outputs": [],
   "source": [
    "from torch.utils.data import Dataset, DataLoader\n",
    "from torchvision import transforms\n",
    "import pandas as pd\n",
    "from PIL import Image\n",
    "import os\n",
    "\n",
    "class ImageDataset(Dataset):\n",
    "    def __init__(self, root_dir, patients_ids, patients_df, transform=None):\n",
    "        # select the rows of the dataframe that correspond to the patients in the list\n",
    "        self.patients_df = patients_df[patients_df[\"patient_id\"].isin(patients_ids)]\n",
    "        self.root_dir = root_dir\n",
    "        self.idxs = set()\n",
    "        if transform:\n",
    "            self.transform = transform\n",
    "            # duplicate the patients_df, so the network will see each image twice, one standard and one transformed\n",
    "            # self.patients_df = pd.concat([self.patients_df] * 2, ignore_index=True)\n",
    "        else:\n",
    "            self.transform = None\n",
    "               \n",
    "            \n",
    "    def __len__(self):\n",
    "        return len(self.patients_df)\n",
    "\n",
    "    def __getitem__(self, idx):\n",
    "        # get idx row of the dataframe\n",
    "        row = self.patients_df.iloc[idx]\n",
    "        # path = root_dir/patientid_examid_spot_framenumber_score.png\n",
    "        path = os.path.join(self.root_dir, row[\"patient_id\"] + \"_\" + row[\"exam_id\"] + \"_\" + row[\"spot\"] + \"_\" + row[\"frame_number\"] + \"_\" + row[\"score\"] + \".png\")\n",
    "        image = Image.open(path)\n",
    "        label = row[\"score\"]\n",
    "        # if the image is grayscale, convert it to RGB (used to test with the smaller dataset)\n",
    "        # if image.mode != \"RGB\":\n",
    "        #     image = image.convert(\"RGB\")\n",
    "               \n",
    "        if self.transform:\n",
    "            image = self.transform(image)\n",
    "            # if path not in self.idxs: # if it's the first time we see the image, add its path to the set\n",
    "            #     self.idxs.add(path)\n",
    "            # else: # if it's the second time we see the image, apply the transform and remove its path from the set \n",
    "            #     image = self.transform(image)\n",
    "            #     self.idxs.remove(path)\n",
    "        # in any case, transform to tensor\n",
    "        image = transforms.ToTensor()(image)\n",
    "        image = transforms.Resize((224, 224))(image)\n",
    "        # Finally the values are first rescaled to [0.0, 1.0] and then normalized using mean=[0.485, 0.456, 0.406] and std=[0.229, 0.224, 0.225].\n",
    "        image = transforms.Normalize(mean=[0.485, 0.456, 0.406], std=[0.229, 0.224, 0.225])(image)\n",
    "        return image, int(label)"
   ]
  },
  {
   "cell_type": "code",
   "execution_count": 3,
   "metadata": {},
   "outputs": [
    {
     "name": "stdout",
     "output_type": "stream",
     "text": [
      "['1051', '1050', '1067', '1017', '1052', '1047', '1069', '1048']\n",
      "score\n",
      "0    7888\n",
      "1    7540\n",
      "2    7189\n",
      "3    7592\n",
      "Name: patient_id, dtype: int64\n",
      "['1068', '1045', '1066']\n",
      "score\n",
      "0    6625\n",
      "1    1721\n",
      "2    5535\n",
      "3    3631\n",
      "Name: patient_id, dtype: int64\n"
     ]
    }
   ],
   "source": [
    "import pandas as pd\n",
    "import torch\n",
    "import glob\n",
    "data_dir = \"images/\"\n",
    "device = torch.device(\"cuda\" if torch.cuda.is_available() else \"cpu\")\n",
    "images_paths = glob.glob(f\"{data_dir}*.png\", recursive=True)\n",
    "# images are named as: patientid_examid_spotnumber_framenumber_score.png\n",
    "# create a dataframe with the data removing \"images/\"\n",
    "images_df = pd.DataFrame([path[len(data_dir):-4].split(\"_\") for path in images_paths], columns=[\"patient_id\", \"exam_id\", \"spot\", \"frame_number\", \"score\"])\n",
    "images_df[\"score\"] = images_df[\"score\"].astype(str)\n",
    "images_df[\"frame_number\"] = images_df[\"frame_number\"].astype(str)\n",
    "images_df[\"spot\"] = images_df[\"spot\"].astype(str)\n",
    "images_df[\"patient_id\"] = images_df[\"patient_id\"].astype(str)\n",
    "images_df[\"exam_id\"] = images_df[\"exam_id\"].astype(str)\n",
    "patients_ids = set(images_df[\"patient_id\"])\n",
    "patients_ids = list(patients_ids)\n",
    "\n",
    "# select the 8 patients for training based on the most balanced distribution of the scores\n",
    "import itertools\n",
    "combs = list(itertools.combinations(patients_ids, 8))\n",
    "stds = []\n",
    "for i, c in enumerate(combs):\n",
    "    stds.append((images_df[images_df[\"patient_id\"].isin(c)].groupby(\"score\").count()[\"patient_id\"].std(), i))\n",
    "\n",
    "train_patients = [x for x in combs[min(stds)[1]]]\n",
    "print(train_patients)\n",
    "print(images_df[images_df[\"patient_id\"].isin(train_patients)].groupby(\"score\").count()[\"patient_id\"])\n",
    "test_patients = [x for x in patients_ids if x not in train_patients]\n",
    "print(test_patients)\n",
    "print(images_df[images_df[\"patient_id\"].isin(test_patients)].groupby(\"score\").count()[\"patient_id\"])\n"
   ]
  },
  {
   "attachments": {},
   "cell_type": "markdown",
   "metadata": {},
   "source": [
    "transformations from the paper Deep Learning for Classification and Localization of COVID-19 Markers in Point-of-Care Lung Ultrasound\n",
    "were each activated on the image-label pair with a probability of 0.33. The set of augmentation functions, each applied with a randomly sampled strength bounded by a set maximum, consists of:\n",
    "- affine transformations (translation (max. ±15%), rotation (max. ±15◦), scaling (max. ±45%), and shearing (max. ±4.5◦))\n",
    "- multiplication with a constant (max. ±45%)\n",
    "- Gaussian blurring (σmax = 3/4 )\n",
    "- contrast distortion (max. ±45%)\n",
    "- horizontal flipping (p = 0.5)\n",
    "- additive white Gaussian noise (σmax = 0.015)"
   ]
  },
  {
   "cell_type": "code",
   "execution_count": 4,
   "metadata": {},
   "outputs": [],
   "source": [
    "transformations = transforms.Compose([\n",
    "    transforms.RandomApply([transforms.RandomAffine(degrees=15, translate=(0.15, 0.15), scale=(0.55, 1.45), shear=4.5)], p=1/3),\n",
    "    transforms.RandomApply([transforms.ColorJitter(brightness=0.45, contrast=0.45, saturation=0.45, hue=0.45)], p=1/3),\n",
    "    transforms.RandomApply([transforms.GaussianBlur(kernel_size=3, sigma=(0.75))], p=1/3),\n",
    "    transforms.RandomApply([transforms.RandomHorizontalFlip(p=0.5)], p=1/3)\n",
    "    ])"
   ]
  },
  {
   "cell_type": "code",
   "execution_count": 5,
   "metadata": {},
   "outputs": [],
   "source": [
    "from torch import optim\n",
    "from tqdm import tqdm\n",
    "\n",
    "def train_model(model, dataloader, optimizer, criterion, device):\n",
    "    model.train()\n",
    "    running_loss = 0.0\n",
    "    running_corrects = 0\n",
    "    for inputs, labels in tqdm(dataloader):\n",
    "        inputs = inputs.to(device)\n",
    "        labels = labels.to(device)\n",
    "        optimizer.zero_grad()\n",
    "        outputs = model(inputs)\n",
    "        _, preds = torch.max(outputs, 1)\n",
    "        loss = criterion(outputs, labels)\n",
    "        loss.backward()\n",
    "        optimizer.step()\n",
    "        running_loss += loss.item() * inputs.size(0)\n",
    "        running_corrects += torch.sum(preds == labels.data)\n",
    "    epoch_loss = running_loss / len(dataloader.dataset)\n",
    "    epoch_acc = running_corrects/ len(dataloader.dataset)\n",
    "    return epoch_loss, epoch_acc\n",
    "\n",
    "def test_model(model, dataloader, criterion, device):\n",
    "    model.eval()\n",
    "    running_loss = 0.0\n",
    "    running_corrects = 0\n",
    "    with torch.no_grad():\n",
    "        for inputs, labels in tqdm(dataloader):\n",
    "            inputs = inputs.to(device)\n",
    "            labels = labels.to(device)\n",
    "            outputs = model(inputs)\n",
    "            _, preds = torch.max(outputs, 1)\n",
    "            loss = criterion(outputs, labels)\n",
    "            running_loss += loss.item() * inputs.size(0)\n",
    "            running_corrects += torch.sum(preds == labels.data)\n",
    "    epoch_loss = running_loss / len(dataloader.dataset)\n",
    "    epoch_acc = running_corrects / len(dataloader.dataset)\n",
    "    return epoch_loss, epoch_acc\n"
   ]
  },
  {
   "cell_type": "code",
   "execution_count": 6,
   "metadata": {},
   "outputs": [],
   "source": [
    "data_dir = \"images/\"\n",
    "num_epochs = 10\n",
    "learning_rate = 0.00001\n",
    "batch_size = 8\n",
    "\n",
    "model = MIDmodel()\n",
    "model = model.to(device)\n",
    "criterion = nn.CrossEntropyLoss()\n",
    "optimizer = optim.Adam(model.parameters(), lr=learning_rate)\n",
    "\n",
    "\n",
    "train_dataset = ImageDataset(data_dir, train_patients, images_df, transformations)\n",
    "test_dataset = ImageDataset(data_dir, test_patients, images_df)\n",
    "train_dataloader = DataLoader(train_dataset, batch_size=batch_size, shuffle=True)\n",
    "test_dataloader = DataLoader(test_dataset, batch_size=batch_size, shuffle=False)"
   ]
  },
  {
   "cell_type": "code",
   "execution_count": 21,
   "metadata": {},
   "outputs": [
    {
     "name": "stdout",
     "output_type": "stream",
     "text": [
      "Epoch 0\n"
     ]
    },
    {
     "name": "stderr",
     "output_type": "stream",
     "text": [
      "100%|██████████| 3777/3777 [17:01<00:00,  3.70it/s]\n"
     ]
    },
    {
     "name": "stdout",
     "output_type": "stream",
     "text": [
      "Training Loss: 1.4453 Training Accuracy: 0.2713\n"
     ]
    },
    {
     "name": "stderr",
     "output_type": "stream",
     "text": [
      "100%|██████████| 2189/2189 [04:26<00:00,  8.21it/s]\n"
     ]
    },
    {
     "name": "stdout",
     "output_type": "stream",
     "text": [
      "Test Loss: 1.3651 Test Accuracy: 0.3936\n",
      "Epoch 1\n"
     ]
    },
    {
     "name": "stderr",
     "output_type": "stream",
     "text": [
      "100%|██████████| 3777/3777 [16:30<00:00,  3.81it/s]\n"
     ]
    },
    {
     "name": "stdout",
     "output_type": "stream",
     "text": [
      "Training Loss: 1.2787 Training Accuracy: 0.4056\n"
     ]
    },
    {
     "name": "stderr",
     "output_type": "stream",
     "text": [
      "100%|██████████| 2189/2189 [04:31<00:00,  8.05it/s]\n"
     ]
    },
    {
     "name": "stdout",
     "output_type": "stream",
     "text": [
      "Test Loss: 1.3009 Test Accuracy: 0.4223\n",
      "Epoch 2\n"
     ]
    },
    {
     "name": "stderr",
     "output_type": "stream",
     "text": [
      "100%|██████████| 3777/3777 [17:32<00:00,  3.59it/s]\n"
     ]
    },
    {
     "name": "stdout",
     "output_type": "stream",
     "text": [
      "Training Loss: 1.0871 Training Accuracy: 0.5218\n"
     ]
    },
    {
     "name": "stderr",
     "output_type": "stream",
     "text": [
      "100%|██████████| 2189/2189 [04:25<00:00,  8.25it/s]\n"
     ]
    },
    {
     "name": "stdout",
     "output_type": "stream",
     "text": [
      "Test Loss: 1.5074 Test Accuracy: 0.3301\n",
      "Epoch 3\n"
     ]
    },
    {
     "name": "stderr",
     "output_type": "stream",
     "text": [
      "100%|██████████| 3777/3777 [17:42<00:00,  3.56it/s]\n"
     ]
    },
    {
     "name": "stdout",
     "output_type": "stream",
     "text": [
      "Training Loss: 0.9238 Training Accuracy: 0.6007\n"
     ]
    },
    {
     "name": "stderr",
     "output_type": "stream",
     "text": [
      "100%|██████████| 2189/2189 [04:17<00:00,  8.49it/s]\n"
     ]
    },
    {
     "name": "stdout",
     "output_type": "stream",
     "text": [
      "Test Loss: 1.6293 Test Accuracy: 0.4055\n",
      "Epoch 4\n"
     ]
    },
    {
     "name": "stderr",
     "output_type": "stream",
     "text": [
      "100%|██████████| 3777/3777 [16:56<00:00,  3.72it/s]\n"
     ]
    },
    {
     "name": "stdout",
     "output_type": "stream",
     "text": [
      "Training Loss: 0.8184 Training Accuracy: 0.6576\n"
     ]
    },
    {
     "name": "stderr",
     "output_type": "stream",
     "text": [
      "100%|██████████| 2189/2189 [04:08<00:00,  8.79it/s]\n"
     ]
    },
    {
     "name": "stdout",
     "output_type": "stream",
     "text": [
      "Test Loss: 1.5699 Test Accuracy: 0.4069\n",
      "Epoch 5\n"
     ]
    },
    {
     "name": "stderr",
     "output_type": "stream",
     "text": [
      "100%|██████████| 3777/3777 [16:41<00:00,  3.77it/s]\n"
     ]
    },
    {
     "name": "stdout",
     "output_type": "stream",
     "text": [
      "Training Loss: 0.7403 Training Accuracy: 0.6972\n"
     ]
    },
    {
     "name": "stderr",
     "output_type": "stream",
     "text": [
      "100%|██████████| 2189/2189 [04:18<00:00,  8.46it/s]\n"
     ]
    },
    {
     "name": "stdout",
     "output_type": "stream",
     "text": [
      "Test Loss: 1.5488 Test Accuracy: 0.4343\n",
      "Epoch 6\n"
     ]
    },
    {
     "name": "stderr",
     "output_type": "stream",
     "text": [
      "100%|██████████| 3777/3777 [16:40<00:00,  3.78it/s]\n"
     ]
    },
    {
     "name": "stdout",
     "output_type": "stream",
     "text": [
      "Training Loss: 0.6809 Training Accuracy: 0.7247\n"
     ]
    },
    {
     "name": "stderr",
     "output_type": "stream",
     "text": [
      "100%|██████████| 2189/2189 [04:02<00:00,  9.02it/s]\n"
     ]
    },
    {
     "name": "stdout",
     "output_type": "stream",
     "text": [
      "Test Loss: 1.4956 Test Accuracy: 0.4344\n",
      "Epoch 7\n"
     ]
    },
    {
     "name": "stderr",
     "output_type": "stream",
     "text": [
      "100%|██████████| 3777/3777 [16:38<00:00,  3.78it/s]\n"
     ]
    },
    {
     "name": "stdout",
     "output_type": "stream",
     "text": [
      "Training Loss: 0.6463 Training Accuracy: 0.7430\n"
     ]
    },
    {
     "name": "stderr",
     "output_type": "stream",
     "text": [
      "100%|██████████| 2189/2189 [04:32<00:00,  8.03it/s]\n"
     ]
    },
    {
     "name": "stdout",
     "output_type": "stream",
     "text": [
      "Test Loss: 1.7523 Test Accuracy: 0.4585\n",
      "Epoch 8\n"
     ]
    },
    {
     "name": "stderr",
     "output_type": "stream",
     "text": [
      "100%|██████████| 3777/3777 [16:42<00:00,  3.77it/s]\n"
     ]
    },
    {
     "name": "stdout",
     "output_type": "stream",
     "text": [
      "Training Loss: 0.6038 Training Accuracy: 0.7579\n"
     ]
    },
    {
     "name": "stderr",
     "output_type": "stream",
     "text": [
      "100%|██████████| 2189/2189 [04:23<00:00,  8.30it/s]\n"
     ]
    },
    {
     "name": "stdout",
     "output_type": "stream",
     "text": [
      "Test Loss: 1.4515 Test Accuracy: 0.4854\n",
      "Epoch 9\n"
     ]
    },
    {
     "name": "stderr",
     "output_type": "stream",
     "text": [
      "100%|██████████| 3777/3777 [16:44<00:00,  3.76it/s]\n"
     ]
    },
    {
     "name": "stdout",
     "output_type": "stream",
     "text": [
      "Training Loss: 0.5772 Training Accuracy: 0.7737\n"
     ]
    },
    {
     "name": "stderr",
     "output_type": "stream",
     "text": [
      "100%|██████████| 2189/2189 [03:58<00:00,  9.18it/s]"
     ]
    },
    {
     "name": "stdout",
     "output_type": "stream",
     "text": [
      "Test Loss: 1.5062 Test Accuracy: 0.4978\n",
      "Train:  [[1.4453151551324965, tensor(0.2713, device='cuda:0')], [1.278736829047383, tensor(0.4056, device='cuda:0')], [1.0870531683799356, tensor(0.5218, device='cuda:0')], [0.923765770988631, tensor(0.6007, device='cuda:0')], [0.8183876516514437, tensor(0.6576, device='cuda:0')], [0.7402640066483773, tensor(0.6972, device='cuda:0')], [0.6809365507032136, tensor(0.7247, device='cuda:0')], [0.6463492192383963, tensor(0.7430, device='cuda:0')], [0.6037752303301651, tensor(0.7579, device='cuda:0')], [0.5771569872453134, tensor(0.7737, device='cuda:0')]]\n",
      "Test:  [[1.3650751340982847, tensor(0.3936, device='cuda:0')], [1.3009044412419697, tensor(0.4223, device='cuda:0')], [1.507390807594214, tensor(0.3301, device='cuda:0')], [1.6292844691393364, tensor(0.4055, device='cuda:0')], [1.5698632373725132, tensor(0.4069, device='cuda:0')], [1.5488062066295345, tensor(0.4343, device='cuda:0')], [1.4955579021049161, tensor(0.4344, device='cuda:0')], [1.7522860151780884, tensor(0.4585, device='cuda:0')], [1.4514575060982429, tensor(0.4854, device='cuda:0')], [1.5062046581609094, tensor(0.4978, device='cuda:0')]]\n"
     ]
    },
    {
     "name": "stderr",
     "output_type": "stream",
     "text": [
      "\n"
     ]
    }
   ],
   "source": [
    "results_train = []\n",
    "results_test = []\n",
    "\n",
    "for epoch in range(num_epochs):\n",
    "    print(f\"Epoch {epoch}\")\n",
    "    train_loss, train_acc = train_model(model, train_dataloader, optimizer, criterion, device)\n",
    "    results_train.append([train_loss, train_acc])\n",
    "    print(f\"Training Loss: {train_loss:.4f} Training Accuracy: {train_acc:.4f}\")\n",
    "    test_loss, test_acc = test_model(model, test_dataloader, criterion, device)\n",
    "    results_test.append([test_loss, test_acc])\n",
    "    print(f\"Test Loss: {test_loss:.4f} Test Accuracy: {test_acc:.4f}\")\n",
    "    if epoch % 5 == 0:\n",
    "        torch.save(model.state_dict(), f\"MIDmodel_{epoch}.pt\")\n",
    "    if epoch % 2 == 1:\n",
    "        learning_rate = learning_rate/2\n",
    "        optimizer = optim.Adam(model.parameters(), lr=learning_rate)\n",
    "\n",
    "print(\"Train: \", results_train)\n",
    "print(\"Test: \", results_test)\n",
    "\n",
    "# save the model\n",
    "torch.save(model.state_dict(), f\"MIDmodel.pt\")"
   ]
  },
  {
   "attachments": {},
   "cell_type": "markdown",
   "metadata": {},
   "source": [
    "Classifier to predict if the confidence is high enough, created on the entire dataset\n",
    "\n",
    "RUN FROM HERE"
   ]
  },
  {
   "cell_type": "code",
   "execution_count": 96,
   "metadata": {},
   "outputs": [
    {
     "name": "stderr",
     "output_type": "stream",
     "text": [
      "  4%|▍         | 1264/30209 [00:45<17:18, 27.87it/s]\n"
     ]
    },
    {
     "ename": "KeyboardInterrupt",
     "evalue": "",
     "output_type": "error",
     "traceback": [
      "\u001b[1;31m---------------------------------------------------------------------------\u001b[0m",
      "\u001b[1;31mKeyboardInterrupt\u001b[0m                         Traceback (most recent call last)",
      "\u001b[1;32mc:\\Users\\Davide\\Documents\\MID\\step_by_step_try.ipynb Cell 10\u001b[0m in \u001b[0;36m1\n\u001b[0;32m     <a href='vscode-notebook-cell:/c%3A/Users/Davide/Documents/MID/step_by_step_try.ipynb#X12sZmlsZQ%3D%3D?line=9'>10</a>\u001b[0m entire_dataset \u001b[39m=\u001b[39m ImageDataset(data_dir, patients_ids, images_df)\n\u001b[0;32m     <a href='vscode-notebook-cell:/c%3A/Users/Davide/Documents/MID/step_by_step_try.ipynb#X12sZmlsZQ%3D%3D?line=11'>12</a>\u001b[0m \u001b[39mfor\u001b[39;00m i \u001b[39min\u001b[39;00m tqdm(\u001b[39mrange\u001b[39m(\u001b[39mlen\u001b[39m(train_dataset))):\n\u001b[1;32m---> <a href='vscode-notebook-cell:/c%3A/Users/Davide/Documents/MID/step_by_step_try.ipynb#X12sZmlsZQ%3D%3D?line=12'>13</a>\u001b[0m     img, label \u001b[39m=\u001b[39m train_dataset[i]\n\u001b[0;32m     <a href='vscode-notebook-cell:/c%3A/Users/Davide/Documents/MID/step_by_step_try.ipynb#X12sZmlsZQ%3D%3D?line=13'>14</a>\u001b[0m     img \u001b[39m=\u001b[39m img\u001b[39m.\u001b[39munsqueeze(\u001b[39m0\u001b[39m)\n\u001b[0;32m     <a href='vscode-notebook-cell:/c%3A/Users/Davide/Documents/MID/step_by_step_try.ipynb#X12sZmlsZQ%3D%3D?line=14'>15</a>\u001b[0m     img \u001b[39m=\u001b[39m img\u001b[39m.\u001b[39mto(device)\n",
      "\u001b[1;32mc:\\Users\\Davide\\Documents\\MID\\step_by_step_try.ipynb Cell 10\u001b[0m in \u001b[0;36m4\n\u001b[0;32m     <a href='vscode-notebook-cell:/c%3A/Users/Davide/Documents/MID/step_by_step_try.ipynb#X12sZmlsZQ%3D%3D?line=35'>36</a>\u001b[0m     image \u001b[39m=\u001b[39m \u001b[39mself\u001b[39m\u001b[39m.\u001b[39mtransform(image)\n\u001b[0;32m     <a href='vscode-notebook-cell:/c%3A/Users/Davide/Documents/MID/step_by_step_try.ipynb#X12sZmlsZQ%3D%3D?line=36'>37</a>\u001b[0m     \u001b[39m# if path not in self.idxs: # if it's the first time we see the image, add its path to the set\u001b[39;00m\n\u001b[0;32m     <a href='vscode-notebook-cell:/c%3A/Users/Davide/Documents/MID/step_by_step_try.ipynb#X12sZmlsZQ%3D%3D?line=37'>38</a>\u001b[0m     \u001b[39m#     self.idxs.add(path)\u001b[39;00m\n\u001b[0;32m     <a href='vscode-notebook-cell:/c%3A/Users/Davide/Documents/MID/step_by_step_try.ipynb#X12sZmlsZQ%3D%3D?line=38'>39</a>\u001b[0m     \u001b[39m# else: # if it's the second time we see the image, apply the transform and remove its path from the set \u001b[39;00m\n\u001b[0;32m     <a href='vscode-notebook-cell:/c%3A/Users/Davide/Documents/MID/step_by_step_try.ipynb#X12sZmlsZQ%3D%3D?line=39'>40</a>\u001b[0m     \u001b[39m#     image = self.transform(image)\u001b[39;00m\n\u001b[0;32m     <a href='vscode-notebook-cell:/c%3A/Users/Davide/Documents/MID/step_by_step_try.ipynb#X12sZmlsZQ%3D%3D?line=40'>41</a>\u001b[0m     \u001b[39m#     self.idxs.remove(path)\u001b[39;00m\n\u001b[0;32m     <a href='vscode-notebook-cell:/c%3A/Users/Davide/Documents/MID/step_by_step_try.ipynb#X12sZmlsZQ%3D%3D?line=41'>42</a>\u001b[0m \u001b[39m# in any case, transform to tensor\u001b[39;00m\n\u001b[1;32m---> <a href='vscode-notebook-cell:/c%3A/Users/Davide/Documents/MID/step_by_step_try.ipynb#X12sZmlsZQ%3D%3D?line=42'>43</a>\u001b[0m image \u001b[39m=\u001b[39m transforms\u001b[39m.\u001b[39;49mToTensor()(image)\n\u001b[0;32m     <a href='vscode-notebook-cell:/c%3A/Users/Davide/Documents/MID/step_by_step_try.ipynb#X12sZmlsZQ%3D%3D?line=43'>44</a>\u001b[0m image \u001b[39m=\u001b[39m transforms\u001b[39m.\u001b[39mResize((\u001b[39m224\u001b[39m, \u001b[39m224\u001b[39m))(image)\n\u001b[0;32m     <a href='vscode-notebook-cell:/c%3A/Users/Davide/Documents/MID/step_by_step_try.ipynb#X12sZmlsZQ%3D%3D?line=44'>45</a>\u001b[0m \u001b[39m# Finally the values are first rescaled to [0.0, 1.0] and then normalized using mean=[0.485, 0.456, 0.406] and std=[0.229, 0.224, 0.225].\u001b[39;00m\n",
      "File \u001b[1;32mc:\\Users\\Davide\\AppData\\Local\\Programs\\Python\\Python310\\lib\\site-packages\\torchvision\\transforms\\transforms.py:135\u001b[0m, in \u001b[0;36mToTensor.__call__\u001b[1;34m(self, pic)\u001b[0m\n\u001b[0;32m    127\u001b[0m \u001b[39mdef\u001b[39;00m \u001b[39m__call__\u001b[39m(\u001b[39mself\u001b[39m, pic):\n\u001b[0;32m    128\u001b[0m     \u001b[39m\"\"\"\u001b[39;00m\n\u001b[0;32m    129\u001b[0m \u001b[39m    Args:\u001b[39;00m\n\u001b[0;32m    130\u001b[0m \u001b[39m        pic (PIL Image or numpy.ndarray): Image to be converted to tensor.\u001b[39;00m\n\u001b[1;32m   (...)\u001b[0m\n\u001b[0;32m    133\u001b[0m \u001b[39m        Tensor: Converted image.\u001b[39;00m\n\u001b[0;32m    134\u001b[0m \u001b[39m    \"\"\"\u001b[39;00m\n\u001b[1;32m--> 135\u001b[0m     \u001b[39mreturn\u001b[39;00m F\u001b[39m.\u001b[39;49mto_tensor(pic)\n",
      "File \u001b[1;32mc:\\Users\\Davide\\AppData\\Local\\Programs\\Python\\Python310\\lib\\site-packages\\torchvision\\transforms\\functional.py:169\u001b[0m, in \u001b[0;36mto_tensor\u001b[1;34m(pic)\u001b[0m\n\u001b[0;32m    167\u001b[0m img \u001b[39m=\u001b[39m img\u001b[39m.\u001b[39mview(pic\u001b[39m.\u001b[39msize[\u001b[39m1\u001b[39m], pic\u001b[39m.\u001b[39msize[\u001b[39m0\u001b[39m], \u001b[39mlen\u001b[39m(pic\u001b[39m.\u001b[39mgetbands()))\n\u001b[0;32m    168\u001b[0m \u001b[39m# put it from HWC to CHW format\u001b[39;00m\n\u001b[1;32m--> 169\u001b[0m img \u001b[39m=\u001b[39m img\u001b[39m.\u001b[39;49mpermute((\u001b[39m2\u001b[39;49m, \u001b[39m0\u001b[39;49m, \u001b[39m1\u001b[39;49m))\u001b[39m.\u001b[39;49mcontiguous()\n\u001b[0;32m    170\u001b[0m \u001b[39mif\u001b[39;00m \u001b[39misinstance\u001b[39m(img, torch\u001b[39m.\u001b[39mByteTensor):\n\u001b[0;32m    171\u001b[0m     \u001b[39mreturn\u001b[39;00m img\u001b[39m.\u001b[39mto(dtype\u001b[39m=\u001b[39mdefault_float_dtype)\u001b[39m.\u001b[39mdiv(\u001b[39m255\u001b[39m)\n",
      "\u001b[1;31mKeyboardInterrupt\u001b[0m: "
     ]
    }
   ],
   "source": [
    "# load the last model\n",
    "model = MIDmodel()\n",
    "model.load_state_dict(torch.load(\"MIDmodel.pt\"))\n",
    "model.to(device)\n",
    "model.eval()\n",
    "\n",
    "correct_preds = pd.DataFrame(columns=[\"true\", \"predicted\", \"sm0\", \"sm1\", \"sm2\", \"sm3\"])\n",
    "wrong_preds = pd.DataFrame(columns=[\"true\", \"predicted\", \"sm0\", \"sm1\", \"sm2\", \"sm3\"])\n",
    "\n",
    "entire_dataset = ImageDataset(data_dir, patients_ids, images_df)\n",
    "\n",
    "for i in tqdm(range(len(train_dataset))):\n",
    "    img, label = train_dataset[i]\n",
    "    img = img.unsqueeze(0)\n",
    "    img = img.to(device)\n",
    "    output = model(img)\n",
    "    sm = nn.Softmax(dim=1)\n",
    "    sm = sm(output)\n",
    "    sm = sm.cpu().detach().numpy()\n",
    "    sm = sm[0]\n",
    "    if torch.argmax(output) == label:\n",
    "        correct_preds = pd.concat([correct_preds, pd.DataFrame([[label, torch.argmax(output).cpu().detach().numpy(), sm[0], sm[1], sm[2], sm[3]]], columns=[\"true\", \"predicted\", \"sm0\", \"sm1\", \"sm2\", \"sm3\"])])\n",
    "    else:\n",
    "        wrong_preds = pd.concat([wrong_preds, pd.DataFrame([[label, torch.argmax(output).cpu().detach().numpy(), sm[0], sm[1], sm[2], sm[3]]], columns=[\"true\", \"predicted\", \"sm0\", \"sm1\", \"sm2\", \"sm3\"])])\n",
    "\n",
    "correct_preds.to_csv(\"correct_preds_train.csv\", index=False)\n",
    "wrong_preds.to_csv(\"correct_preds_train.csv\", index=False)\n"
   ]
  },
  {
   "cell_type": "code",
   "execution_count": 90,
   "metadata": {},
   "outputs": [
    {
     "name": "stdout",
     "output_type": "stream",
     "text": [
      "Epoch 0\n"
     ]
    },
    {
     "name": "stderr",
     "output_type": "stream",
     "text": [
      "100%|██████████| 2189/2189 [00:10<00:00, 218.71it/s]\n"
     ]
    },
    {
     "name": "stdout",
     "output_type": "stream",
     "text": [
      "Training Loss: 0.6918 Training Accuracy: 0.5057\n"
     ]
    },
    {
     "name": "stderr",
     "output_type": "stream",
     "text": [
      "100%|██████████| 1/1 [00:00<00:00, 333.52it/s]\n"
     ]
    },
    {
     "name": "stdout",
     "output_type": "stream",
     "text": [
      "Test Loss: 0.7212 Test Accuracy: 0.0000\n",
      "Epoch 1\n"
     ]
    },
    {
     "name": "stderr",
     "output_type": "stream",
     "text": [
      "100%|██████████| 2189/2189 [00:09<00:00, 220.28it/s]\n"
     ]
    },
    {
     "name": "stdout",
     "output_type": "stream",
     "text": [
      "Training Loss: 0.6916 Training Accuracy: 0.5064\n"
     ]
    },
    {
     "name": "stderr",
     "output_type": "stream",
     "text": [
      "100%|██████████| 1/1 [00:00<00:00, 320.74it/s]\n"
     ]
    },
    {
     "name": "stdout",
     "output_type": "stream",
     "text": [
      "Test Loss: 0.7208 Test Accuracy: 0.0000\n",
      "Epoch 2\n"
     ]
    },
    {
     "name": "stderr",
     "output_type": "stream",
     "text": [
      "100%|██████████| 2189/2189 [00:10<00:00, 214.57it/s]\n"
     ]
    },
    {
     "name": "stdout",
     "output_type": "stream",
     "text": [
      "Training Loss: 0.6915 Training Accuracy: 0.5063\n"
     ]
    },
    {
     "name": "stderr",
     "output_type": "stream",
     "text": [
      "100%|██████████| 1/1 [00:00<00:00, 645.38it/s]\n"
     ]
    },
    {
     "name": "stdout",
     "output_type": "stream",
     "text": [
      "Test Loss: 0.7204 Test Accuracy: 0.0000\n",
      "Epoch 3\n"
     ]
    },
    {
     "name": "stderr",
     "output_type": "stream",
     "text": [
      "100%|██████████| 2189/2189 [00:09<00:00, 219.68it/s]\n"
     ]
    },
    {
     "name": "stdout",
     "output_type": "stream",
     "text": [
      "Training Loss: 0.6915 Training Accuracy: 0.5064\n"
     ]
    },
    {
     "name": "stderr",
     "output_type": "stream",
     "text": [
      "100%|██████████| 1/1 [00:00<00:00, 664.18it/s]\n"
     ]
    },
    {
     "name": "stdout",
     "output_type": "stream",
     "text": [
      "Test Loss: 0.7204 Test Accuracy: 0.0000\n",
      "Epoch 4\n"
     ]
    },
    {
     "name": "stderr",
     "output_type": "stream",
     "text": [
      "100%|██████████| 2189/2189 [00:10<00:00, 218.80it/s]\n"
     ]
    },
    {
     "name": "stdout",
     "output_type": "stream",
     "text": [
      "Training Loss: 0.6915 Training Accuracy: 0.5065\n"
     ]
    },
    {
     "name": "stderr",
     "output_type": "stream",
     "text": [
      "100%|██████████| 1/1 [00:00<00:00, 988.99it/s]\n"
     ]
    },
    {
     "name": "stdout",
     "output_type": "stream",
     "text": [
      "Test Loss: 0.7204 Test Accuracy: 0.0000\n",
      "Epoch 5\n"
     ]
    },
    {
     "name": "stderr",
     "output_type": "stream",
     "text": [
      "100%|██████████| 2189/2189 [00:09<00:00, 219.29it/s]\n"
     ]
    },
    {
     "name": "stdout",
     "output_type": "stream",
     "text": [
      "Training Loss: 0.6915 Training Accuracy: 0.5064\n"
     ]
    },
    {
     "name": "stderr",
     "output_type": "stream",
     "text": [
      "100%|██████████| 1/1 [00:00<00:00, 499.80it/s]\n"
     ]
    },
    {
     "name": "stdout",
     "output_type": "stream",
     "text": [
      "Test Loss: 0.7204 Test Accuracy: 0.0000\n",
      "Epoch 6\n"
     ]
    },
    {
     "name": "stderr",
     "output_type": "stream",
     "text": [
      " 65%|██████▍   | 1415/2189 [00:06<00:03, 227.32it/s]\n"
     ]
    },
    {
     "ename": "KeyboardInterrupt",
     "evalue": "",
     "output_type": "error",
     "traceback": [
      "\u001b[1;31m---------------------------------------------------------------------------\u001b[0m",
      "\u001b[1;31mKeyboardInterrupt\u001b[0m                         Traceback (most recent call last)",
      "\u001b[1;32mc:\\Users\\Davide\\Documents\\MID\\step_by_step_try.ipynb Cell 11\u001b[0m in \u001b[0;36m6\n\u001b[0;32m     <a href='vscode-notebook-cell:/c%3A/Users/Davide/Documents/MID/step_by_step_try.ipynb#X13sZmlsZQ%3D%3D?line=65'>66</a>\u001b[0m \u001b[39mfor\u001b[39;00m epoch \u001b[39min\u001b[39;00m \u001b[39mrange\u001b[39m(num_epochs):\n\u001b[0;32m     <a href='vscode-notebook-cell:/c%3A/Users/Davide/Documents/MID/step_by_step_try.ipynb#X13sZmlsZQ%3D%3D?line=66'>67</a>\u001b[0m     \u001b[39mprint\u001b[39m(\u001b[39mf\u001b[39m\u001b[39m\"\u001b[39m\u001b[39mEpoch \u001b[39m\u001b[39m{\u001b[39;00mepoch\u001b[39m}\u001b[39;00m\u001b[39m\"\u001b[39m)\n\u001b[1;32m---> <a href='vscode-notebook-cell:/c%3A/Users/Davide/Documents/MID/step_by_step_try.ipynb#X13sZmlsZQ%3D%3D?line=67'>68</a>\u001b[0m     train_loss, train_acc \u001b[39m=\u001b[39m train_model(binary_model, train_dataloader_bin, optimizer, criterion, device)\n\u001b[0;32m     <a href='vscode-notebook-cell:/c%3A/Users/Davide/Documents/MID/step_by_step_try.ipynb#X13sZmlsZQ%3D%3D?line=68'>69</a>\u001b[0m     results_train\u001b[39m.\u001b[39mappend([train_loss, train_acc\u001b[39m.\u001b[39mitem()])\n\u001b[0;32m     <a href='vscode-notebook-cell:/c%3A/Users/Davide/Documents/MID/step_by_step_try.ipynb#X13sZmlsZQ%3D%3D?line=69'>70</a>\u001b[0m     \u001b[39mprint\u001b[39m(\u001b[39mf\u001b[39m\u001b[39m\"\u001b[39m\u001b[39mTraining Loss: \u001b[39m\u001b[39m{\u001b[39;00mtrain_loss\u001b[39m:\u001b[39;00m\u001b[39m.4f\u001b[39m\u001b[39m}\u001b[39;00m\u001b[39m Training Accuracy: \u001b[39m\u001b[39m{\u001b[39;00mtrain_acc\u001b[39m:\u001b[39;00m\u001b[39m.4f\u001b[39m\u001b[39m}\u001b[39;00m\u001b[39m\"\u001b[39m)\n",
      "\u001b[1;32mc:\\Users\\Davide\\Documents\\MID\\step_by_step_try.ipynb Cell 11\u001b[0m in \u001b[0;36m8\n\u001b[0;32m      <a href='vscode-notebook-cell:/c%3A/Users/Davide/Documents/MID/step_by_step_try.ipynb#X13sZmlsZQ%3D%3D?line=5'>6</a>\u001b[0m running_loss \u001b[39m=\u001b[39m \u001b[39m0.0\u001b[39m\n\u001b[0;32m      <a href='vscode-notebook-cell:/c%3A/Users/Davide/Documents/MID/step_by_step_try.ipynb#X13sZmlsZQ%3D%3D?line=6'>7</a>\u001b[0m running_corrects \u001b[39m=\u001b[39m \u001b[39m0\u001b[39m\n\u001b[1;32m----> <a href='vscode-notebook-cell:/c%3A/Users/Davide/Documents/MID/step_by_step_try.ipynb#X13sZmlsZQ%3D%3D?line=7'>8</a>\u001b[0m \u001b[39mfor\u001b[39;00m inputs, labels \u001b[39min\u001b[39;00m tqdm(dataloader):\n\u001b[0;32m      <a href='vscode-notebook-cell:/c%3A/Users/Davide/Documents/MID/step_by_step_try.ipynb#X13sZmlsZQ%3D%3D?line=8'>9</a>\u001b[0m     inputs \u001b[39m=\u001b[39m inputs\u001b[39m.\u001b[39mto(device)\n\u001b[0;32m     <a href='vscode-notebook-cell:/c%3A/Users/Davide/Documents/MID/step_by_step_try.ipynb#X13sZmlsZQ%3D%3D?line=9'>10</a>\u001b[0m     labels \u001b[39m=\u001b[39m labels\u001b[39m.\u001b[39mto(device)\n",
      "File \u001b[1;32mc:\\Users\\Davide\\AppData\\Local\\Programs\\Python\\Python310\\lib\\site-packages\\tqdm\\std.py:1195\u001b[0m, in \u001b[0;36mtqdm.__iter__\u001b[1;34m(self)\u001b[0m\n\u001b[0;32m   1192\u001b[0m time \u001b[39m=\u001b[39m \u001b[39mself\u001b[39m\u001b[39m.\u001b[39m_time\n\u001b[0;32m   1194\u001b[0m \u001b[39mtry\u001b[39;00m:\n\u001b[1;32m-> 1195\u001b[0m     \u001b[39mfor\u001b[39;00m obj \u001b[39min\u001b[39;00m iterable:\n\u001b[0;32m   1196\u001b[0m         \u001b[39myield\u001b[39;00m obj\n\u001b[0;32m   1197\u001b[0m         \u001b[39m# Update and possibly print the progressbar.\u001b[39;00m\n\u001b[0;32m   1198\u001b[0m         \u001b[39m# Note: does not call self.update(1) for speed optimisation.\u001b[39;00m\n",
      "File \u001b[1;32mc:\\Users\\Davide\\AppData\\Local\\Programs\\Python\\Python310\\lib\\site-packages\\torch\\utils\\data\\dataloader.py:628\u001b[0m, in \u001b[0;36m_BaseDataLoaderIter.__next__\u001b[1;34m(self)\u001b[0m\n\u001b[0;32m    625\u001b[0m \u001b[39mif\u001b[39;00m \u001b[39mself\u001b[39m\u001b[39m.\u001b[39m_sampler_iter \u001b[39mis\u001b[39;00m \u001b[39mNone\u001b[39;00m:\n\u001b[0;32m    626\u001b[0m     \u001b[39m# TODO(https://github.com/pytorch/pytorch/issues/76750)\u001b[39;00m\n\u001b[0;32m    627\u001b[0m     \u001b[39mself\u001b[39m\u001b[39m.\u001b[39m_reset()  \u001b[39m# type: ignore[call-arg]\u001b[39;00m\n\u001b[1;32m--> 628\u001b[0m data \u001b[39m=\u001b[39m \u001b[39mself\u001b[39;49m\u001b[39m.\u001b[39;49m_next_data()\n\u001b[0;32m    629\u001b[0m \u001b[39mself\u001b[39m\u001b[39m.\u001b[39m_num_yielded \u001b[39m+\u001b[39m\u001b[39m=\u001b[39m \u001b[39m1\u001b[39m\n\u001b[0;32m    630\u001b[0m \u001b[39mif\u001b[39;00m \u001b[39mself\u001b[39m\u001b[39m.\u001b[39m_dataset_kind \u001b[39m==\u001b[39m _DatasetKind\u001b[39m.\u001b[39mIterable \u001b[39mand\u001b[39;00m \\\n\u001b[0;32m    631\u001b[0m         \u001b[39mself\u001b[39m\u001b[39m.\u001b[39m_IterableDataset_len_called \u001b[39mis\u001b[39;00m \u001b[39mnot\u001b[39;00m \u001b[39mNone\u001b[39;00m \u001b[39mand\u001b[39;00m \\\n\u001b[0;32m    632\u001b[0m         \u001b[39mself\u001b[39m\u001b[39m.\u001b[39m_num_yielded \u001b[39m>\u001b[39m \u001b[39mself\u001b[39m\u001b[39m.\u001b[39m_IterableDataset_len_called:\n",
      "File \u001b[1;32mc:\\Users\\Davide\\AppData\\Local\\Programs\\Python\\Python310\\lib\\site-packages\\torch\\utils\\data\\dataloader.py:671\u001b[0m, in \u001b[0;36m_SingleProcessDataLoaderIter._next_data\u001b[1;34m(self)\u001b[0m\n\u001b[0;32m    669\u001b[0m \u001b[39mdef\u001b[39;00m \u001b[39m_next_data\u001b[39m(\u001b[39mself\u001b[39m):\n\u001b[0;32m    670\u001b[0m     index \u001b[39m=\u001b[39m \u001b[39mself\u001b[39m\u001b[39m.\u001b[39m_next_index()  \u001b[39m# may raise StopIteration\u001b[39;00m\n\u001b[1;32m--> 671\u001b[0m     data \u001b[39m=\u001b[39m \u001b[39mself\u001b[39;49m\u001b[39m.\u001b[39;49m_dataset_fetcher\u001b[39m.\u001b[39;49mfetch(index)  \u001b[39m# may raise StopIteration\u001b[39;00m\n\u001b[0;32m    672\u001b[0m     \u001b[39mif\u001b[39;00m \u001b[39mself\u001b[39m\u001b[39m.\u001b[39m_pin_memory:\n\u001b[0;32m    673\u001b[0m         data \u001b[39m=\u001b[39m _utils\u001b[39m.\u001b[39mpin_memory\u001b[39m.\u001b[39mpin_memory(data, \u001b[39mself\u001b[39m\u001b[39m.\u001b[39m_pin_memory_device)\n",
      "File \u001b[1;32mc:\\Users\\Davide\\AppData\\Local\\Programs\\Python\\Python310\\lib\\site-packages\\torch\\utils\\data\\_utils\\fetch.py:61\u001b[0m, in \u001b[0;36m_MapDatasetFetcher.fetch\u001b[1;34m(self, possibly_batched_index)\u001b[0m\n\u001b[0;32m     59\u001b[0m \u001b[39melse\u001b[39;00m:\n\u001b[0;32m     60\u001b[0m     data \u001b[39m=\u001b[39m \u001b[39mself\u001b[39m\u001b[39m.\u001b[39mdataset[possibly_batched_index]\n\u001b[1;32m---> 61\u001b[0m \u001b[39mreturn\u001b[39;00m \u001b[39mself\u001b[39;49m\u001b[39m.\u001b[39;49mcollate_fn(data)\n",
      "File \u001b[1;32mc:\\Users\\Davide\\AppData\\Local\\Programs\\Python\\Python310\\lib\\site-packages\\torch\\utils\\data\\_utils\\collate.py:265\u001b[0m, in \u001b[0;36mdefault_collate\u001b[1;34m(batch)\u001b[0m\n\u001b[0;32m    204\u001b[0m \u001b[39mdef\u001b[39;00m \u001b[39mdefault_collate\u001b[39m(batch):\n\u001b[0;32m    205\u001b[0m     \u001b[39mr\u001b[39m\u001b[39m\"\"\"\u001b[39;00m\n\u001b[0;32m    206\u001b[0m \u001b[39m        Function that takes in a batch of data and puts the elements within the batch\u001b[39;00m\n\u001b[0;32m    207\u001b[0m \u001b[39m        into a tensor with an additional outer dimension - batch size. The exact output type can be\u001b[39;00m\n\u001b[1;32m   (...)\u001b[0m\n\u001b[0;32m    263\u001b[0m \u001b[39m            >>> default_collate(batch)  # Handle `CustomType` automatically\u001b[39;00m\n\u001b[0;32m    264\u001b[0m \u001b[39m    \"\"\"\u001b[39;00m\n\u001b[1;32m--> 265\u001b[0m     \u001b[39mreturn\u001b[39;00m collate(batch, collate_fn_map\u001b[39m=\u001b[39;49mdefault_collate_fn_map)\n",
      "File \u001b[1;32mc:\\Users\\Davide\\AppData\\Local\\Programs\\Python\\Python310\\lib\\site-packages\\torch\\utils\\data\\_utils\\collate.py:143\u001b[0m, in \u001b[0;36mcollate\u001b[1;34m(batch, collate_fn_map)\u001b[0m\n\u001b[0;32m    140\u001b[0m transposed \u001b[39m=\u001b[39m \u001b[39mlist\u001b[39m(\u001b[39mzip\u001b[39m(\u001b[39m*\u001b[39mbatch))  \u001b[39m# It may be accessed twice, so we use a list.\u001b[39;00m\n\u001b[0;32m    142\u001b[0m \u001b[39mif\u001b[39;00m \u001b[39misinstance\u001b[39m(elem, \u001b[39mtuple\u001b[39m):\n\u001b[1;32m--> 143\u001b[0m     \u001b[39mreturn\u001b[39;00m [collate(samples, collate_fn_map\u001b[39m=\u001b[39mcollate_fn_map) \u001b[39mfor\u001b[39;00m samples \u001b[39min\u001b[39;00m transposed]  \u001b[39m# Backwards compatibility.\u001b[39;00m\n\u001b[0;32m    144\u001b[0m \u001b[39melse\u001b[39;00m:\n\u001b[0;32m    145\u001b[0m     \u001b[39mtry\u001b[39;00m:\n",
      "File \u001b[1;32mc:\\Users\\Davide\\AppData\\Local\\Programs\\Python\\Python310\\lib\\site-packages\\torch\\utils\\data\\_utils\\collate.py:143\u001b[0m, in \u001b[0;36m<listcomp>\u001b[1;34m(.0)\u001b[0m\n\u001b[0;32m    140\u001b[0m transposed \u001b[39m=\u001b[39m \u001b[39mlist\u001b[39m(\u001b[39mzip\u001b[39m(\u001b[39m*\u001b[39mbatch))  \u001b[39m# It may be accessed twice, so we use a list.\u001b[39;00m\n\u001b[0;32m    142\u001b[0m \u001b[39mif\u001b[39;00m \u001b[39misinstance\u001b[39m(elem, \u001b[39mtuple\u001b[39m):\n\u001b[1;32m--> 143\u001b[0m     \u001b[39mreturn\u001b[39;00m [collate(samples, collate_fn_map\u001b[39m=\u001b[39;49mcollate_fn_map) \u001b[39mfor\u001b[39;00m samples \u001b[39min\u001b[39;00m transposed]  \u001b[39m# Backwards compatibility.\u001b[39;00m\n\u001b[0;32m    144\u001b[0m \u001b[39melse\u001b[39;00m:\n\u001b[0;32m    145\u001b[0m     \u001b[39mtry\u001b[39;00m:\n",
      "File \u001b[1;32mc:\\Users\\Davide\\AppData\\Local\\Programs\\Python\\Python310\\lib\\site-packages\\torch\\utils\\data\\_utils\\collate.py:120\u001b[0m, in \u001b[0;36mcollate\u001b[1;34m(batch, collate_fn_map)\u001b[0m\n\u001b[0;32m    118\u001b[0m \u001b[39mif\u001b[39;00m collate_fn_map \u001b[39mis\u001b[39;00m \u001b[39mnot\u001b[39;00m \u001b[39mNone\u001b[39;00m:\n\u001b[0;32m    119\u001b[0m     \u001b[39mif\u001b[39;00m elem_type \u001b[39min\u001b[39;00m collate_fn_map:\n\u001b[1;32m--> 120\u001b[0m         \u001b[39mreturn\u001b[39;00m collate_fn_map[elem_type](batch, collate_fn_map\u001b[39m=\u001b[39;49mcollate_fn_map)\n\u001b[0;32m    122\u001b[0m     \u001b[39mfor\u001b[39;00m collate_type \u001b[39min\u001b[39;00m collate_fn_map:\n\u001b[0;32m    123\u001b[0m         \u001b[39mif\u001b[39;00m \u001b[39misinstance\u001b[39m(elem, collate_type):\n",
      "File \u001b[1;32mc:\\Users\\Davide\\AppData\\Local\\Programs\\Python\\Python310\\lib\\site-packages\\torch\\utils\\data\\_utils\\collate.py:163\u001b[0m, in \u001b[0;36mcollate_tensor_fn\u001b[1;34m(batch, collate_fn_map)\u001b[0m\n\u001b[0;32m    161\u001b[0m     storage \u001b[39m=\u001b[39m elem\u001b[39m.\u001b[39mstorage()\u001b[39m.\u001b[39m_new_shared(numel, device\u001b[39m=\u001b[39melem\u001b[39m.\u001b[39mdevice)\n\u001b[0;32m    162\u001b[0m     out \u001b[39m=\u001b[39m elem\u001b[39m.\u001b[39mnew(storage)\u001b[39m.\u001b[39mresize_(\u001b[39mlen\u001b[39m(batch), \u001b[39m*\u001b[39m\u001b[39mlist\u001b[39m(elem\u001b[39m.\u001b[39msize()))\n\u001b[1;32m--> 163\u001b[0m \u001b[39mreturn\u001b[39;00m torch\u001b[39m.\u001b[39;49mstack(batch, \u001b[39m0\u001b[39;49m, out\u001b[39m=\u001b[39;49mout)\n",
      "\u001b[1;31mKeyboardInterrupt\u001b[0m: "
     ]
    }
   ],
   "source": [
    "\n",
    "class MIDbinary(nn.Module):\n",
    "    def __init__(self):\n",
    "        super(MIDbinary, self).__init__()\n",
    "        self.fc1 = nn.Linear(4, 16)\n",
    "        self.fc4 = nn.Linear(16, 2)\n",
    "        self.dropout = nn.Dropout(0.3)\n",
    "        self.relu = nn.ReLU()\n",
    "        self.softmax = nn.Softmax(dim=1)\n",
    "\n",
    "    def forward(self, x):\n",
    "        x = self.relu(self.fc1(x))\n",
    "        x = self.fc4(x)\n",
    "        x = self.softmax(x)\n",
    "        return x\n",
    "    \n",
    "# BinaryDataset\n",
    "class BinaryDataset(Dataset):\n",
    "    def __init__(self, preds):\n",
    "        self.preds = preds\n",
    "\n",
    "    def __len__(self):\n",
    "        return len(self.preds)\n",
    "\n",
    "    def __getitem__(self, idx):\n",
    "        label = self.preds.iloc[idx][\"correct\"]\n",
    "        sms = self.preds.iloc[idx][[\"sm0\", \"sm1\", \"sm2\", \"sm3\"]]\n",
    "        sms = torch.tensor(list(sms.values), dtype=torch.float32)\n",
    "        return sms, int(label)\n",
    "\n",
    "# train the binary model\n",
    "binary_model = MIDbinary()\n",
    "binary_model = binary_model.to(device)\n",
    "criterion = nn.CrossEntropyLoss()\n",
    "learning_rate = 0.0001\n",
    "optimizer = optim.SGD(binary_model.parameters(), lr=learning_rate)\n",
    "\n",
    "correct_preds = pd.read_csv(\"correct_preds_train.csv\")\n",
    "wrong_preds = pd.read_csv(\"wrong_preds_train.csv\")\n",
    "\n",
    "# add a clumn to correct_preds and wrong_preds that says if it's correct or not\n",
    "correct_preds[\"correct\"] = 1\n",
    "wrong_preds[\"correct\"] = 0\n",
    "# stack the two dataframes\n",
    "preds_total = pd.concat([correct_preds, wrong_preds])\n",
    "# remove true and predicted columns\n",
    "preds_total = preds_total.drop([\"true\", \"predicted\"], axis=1)\n",
    "# save the values\n",
    "preds_total.to_csv(\"values_train.csv\", index=False)\n",
    "\n",
    "# divide train and test data\n",
    "train_size_bin = int(len(preds_total))-1\n",
    "test_size_bin = len(preds_total) - train_size_bin\n",
    "# TODO: better split\n",
    "from torch.utils.data import random_split\n",
    "train_dataset_bin, test_dataset_bin = random_split(BinaryDataset(preds_total), [train_size_bin, test_size_bin])\n",
    "\n",
    "\n",
    "entire_dataset_bin = BinaryDataset(preds_total)\n",
    "train_dataloader_bin = DataLoader(train_dataset_bin, batch_size=batch_size, shuffle=True)\n",
    "test_dataloader_bin = DataLoader(test_dataset_bin, batch_size=batch_size, shuffle=True)\n",
    "\n",
    "results_train = []\n",
    "results_test = []\n",
    "num_epochs = 10\n",
    "\n",
    "for epoch in range(num_epochs):\n",
    "    print(f\"Epoch {epoch}\")\n",
    "    train_loss, train_acc = train_model(binary_model, train_dataloader_bin, optimizer, criterion, device)\n",
    "    results_train.append([train_loss, train_acc.item()])\n",
    "    print(f\"Training Loss: {train_loss:.4f} Training Accuracy: {train_acc:.4f}\")\n",
    "    test_loss, test_acc = test_model(binary_model, test_dataloader_bin, criterion, device)\n",
    "    results_test.append([test_loss, test_acc.item()])\n",
    "    print(f\"Test Loss: {test_loss:.4f} Test Accuracy: {test_acc:.4f}\")\n",
    "    if( epoch > 0  and (results_train[len(results_train)-1][0] >=  results_train[len(results_train)-2][0])):\n",
    "        print(results_train[len(results_train)-1], results_train[len(results_train)-2])\n",
    "        print(\"Overfitting\")\n",
    "        break\n",
    "    if epoch % 2 == 0:\n",
    "        learning_rate = learning_rate/10\n",
    "        optimizer = optim.SGD(binary_model.parameters(), lr=learning_rate)\n",
    "\n",
    "print(\"Train: \", results_train)\n",
    "print(\"Test: \", results_test)\n",
    "\n",
    "import matplotlib.pyplot as plt\n",
    "# subplots with train[0], train[1], test[0], test[1]\n",
    "fig, axs = plt.subplots(2, 2)\n",
    "axs[0, 0].plot([i[0] for i in results_train])\n",
    "axs[0, 0].set_title(\"Train Loss\")\n",
    "axs[0, 1].plot([i[1] for i in results_train])\n",
    "axs[0, 1].set_title(\"Train Accuracy\")\n",
    "axs[1, 0].plot([i[0] for i in results_test])\n",
    "axs[1, 0].set_title(\"Test Loss\")\n",
    "axs[1, 1].plot([i[1] for i in results_test])\n",
    "axs[1, 1].set_title(\"Test Accuracy\")\n",
    "plt.show()\n",
    "\n"
   ]
  },
  {
   "cell_type": "code",
   "execution_count": 49,
   "metadata": {},
   "outputs": [
    {
     "name": "stderr",
     "output_type": "stream",
     "text": [
      "  6%|▌         | 1000/17512 [00:15<04:10, 66.01it/s]"
     ]
    },
    {
     "name": "stdout",
     "output_type": "stream",
     "text": [
      "Useful:  405\n",
      "Useless:  596\n"
     ]
    },
    {
     "name": "stderr",
     "output_type": "stream",
     "text": [
      "\n"
     ]
    }
   ],
   "source": [
    "model = MIDmodel()\n",
    "model.load_state_dict(torch.load(\"MIDmodel.pt\"))\n",
    "model.to(device)\n",
    "model.eval()\n",
    "\n",
    "# get the predictions for the test set and pass it to the binary model\n",
    "zero_count = 0\n",
    "one_count = 0\n",
    "usefulcount = 0\n",
    "uselesscount = 0\n",
    "for i in tqdm(range(len(test_dataset))):\n",
    "    img, label = test_dataset[i]\n",
    "    img = img.to(device)\n",
    "    img = img.unsqueeze(0)\n",
    "    output = model(img)\n",
    "    sm = torch.nn.functional.softmax(output, dim=1)\n",
    "    # print(sm)\n",
    "    binary_output = binary_model(sm)\n",
    "    predicted_label = torch.argmax(output).cpu().detach().numpy()\n",
    "    predicted_binary = torch.argmax(binary_output).cpu().detach().numpy()\n",
    "    if predicted_binary == 0:\n",
    "        zero_count += 1\n",
    "    else:\n",
    "        one_count += 1\n",
    "    # print(f\"True label: {label} Predicted label: {predicted_label} Binary output: {predicted_binary}\")\n",
    "    if((predicted_label != label and predicted_binary == 0) or (predicted_label == label and predicted_binary == 1)):\n",
    "        usefulcount += 1\n",
    "    else:\n",
    "        uselesscount += 1\n",
    "    if i == 1000:\n",
    "        break\n",
    "\n",
    "print(\"Useful: \", usefulcount)\n",
    "print(\"Useless: \", uselesscount)\n",
    "\n",
    "    \n"
   ]
  },
  {
   "cell_type": "code",
   "execution_count": 95,
   "metadata": {},
   "outputs": [
    {
     "name": "stdout",
     "output_type": "stream",
     "text": [
      "Accuracy:  0.7116263133851074\n"
     ]
    }
   ],
   "source": [
    "# simple binary classificator with svc\n",
    "from sklearn.svm import SVC\n",
    "from sklearn.metrics import accuracy_score\n",
    "from sklearn.model_selection import train_test_split\n",
    "\n",
    "# load the values\n",
    "preds_train = pd.read_csv(\"values_train.csv\")\n",
    "pred_test = pd.read_csv(\"values_test.csv\")\n",
    "\n",
    "# X_train, X_test, y_train, y_test = train_test_split(preds_total.drop(\"correct\", axis=1), preds_total[\"correct\"], test_size=0.2)\n",
    "\n",
    "clf = SVC()\n",
    "clf.fit(preds_train.drop(\"correct\", axis=1), preds_train[\"correct\"])\n",
    "y_pred = clf.predict(pred_test.drop(\"correct\", axis=1))\n",
    "print(\"Accuracy: \", accuracy_score(pred_test[\"correct\"], y_pred))\n",
    "# save clf to file\n",
    "import pickle\n",
    "pickle.dump(clf, open(\"svc.pkl\", \"wb\"))\n"
   ]
  },
  {
   "cell_type": "code",
   "execution_count": 82,
   "metadata": {},
   "outputs": [
    {
     "name": "stderr",
     "output_type": "stream",
     "text": [
      "100%|██████████| 17512/17512 [05:03<00:00, 57.61it/s]"
     ]
    },
    {
     "name": "stdout",
     "output_type": "stream",
     "text": [
      "Useful:  8718\n",
      "Useless:  8794\n",
      "Useful:  0.49783005938784836\n",
      "Useless:  0.5021699406121517\n"
     ]
    },
    {
     "name": "stderr",
     "output_type": "stream",
     "text": [
      "\n"
     ]
    }
   ],
   "source": [
    "model = MIDmodel()\n",
    "model.load_state_dict(torch.load(\"MIDmodel.pt\"))\n",
    "model.to(device)\n",
    "model.eval()\n",
    "# read svc model from file\n",
    "clf = pickle.load(open(\"svc.pkl\", 'rb'))\n",
    "entire_dataset = ImageDataset(data_dir, patients_ids, images_df)\n",
    "\n",
    "# get the predictions for the test set and pass it to the binary model\n",
    "usefulcount = 0\n",
    "uselesscount = 0\n",
    "for i in tqdm(range(len(test_dataset))):\n",
    "    img, label = test_dataset[i]\n",
    "    img = img.to(device)\n",
    "    img = img.unsqueeze(0)\n",
    "    output = model(img)\n",
    "    sm = torch.nn.functional.softmax(output, dim=1)\n",
    "    sm =sm.cpu().detach().numpy()\n",
    "    binary_output = clf.predict(pd.DataFrame(sm, columns=[\"sm0\", \"sm1\", \"sm2\", \"sm3\"]))\n",
    "    predicted_label = torch.argmax(output).cpu().detach().numpy()\n",
    "    predicted_binary = binary_output[0]\n",
    "    # print(f\"True label: {label} Predicted label: {predicted_label} Binary output: {predicted_binary}\")\n",
    "    if((predicted_label != label and predicted_binary == 0) or (predicted_label == label and predicted_binary == 1)):\n",
    "        usefulcount += 1\n",
    "    else:\n",
    "        uselesscount += 1\n",
    "\n",
    "\n",
    "print(\"Useful: \", usefulcount)\n",
    "print(\"Useless: \", uselesscount)\n",
    "print(\"Useful: \", usefulcount/len(test_dataset))\n",
    "print(\"Useless: \", uselesscount/len(test_dataset))\n",
    "\n",
    "    \n"
   ]
  },
  {
   "cell_type": "code",
   "execution_count": 79,
   "metadata": {},
   "outputs": [
    {
     "data": {
      "image/png": "[encoded data removed]",
      "text/plain": [
       "<Figure size 640x480 with 4 Axes>"
      ]
     },
     "metadata": {},
     "output_type": "display_data"
    }
   ],
   "source": [
    "import pandas as pd\n",
    "import matplotlib.pyplot as plt\n",
    "# read the csv file with the values\n",
    "values = pd.read_csv(\"values.csv\") #sm0, sm1, sm2, sm3, correct \n",
    "points = values[[\"sm0\", \"sm1\", \"sm2\", \"sm3\"]].values\n",
    "# plot the points in 4 3D plots with 0,1,2; 0,1,3; 0,2,3; 1,2,3\n",
    "fig, axs = plt.subplots(2, 2)\n",
    "#3D plot with 0,1,2\n",
    "axs[0, 0].scatter(points[:,0], points[:,1], points[:,2], c=values[\"correct\"])\n",
    "axs[0, 0].set_title(\"0,1,2\")\n",
    "#3D plot with 0,1,3\n",
    "axs[0, 1].scatter(points[:,0], points[:,1], points[:,3], c=values[\"correct\"])\n",
    "axs[0, 1].set_title(\"0,1,3\")\n",
    "#3D plot with 0,2,3\n",
    "axs[1, 0].scatter(points[:,0], points[:,2], points[:,3], c=values[\"correct\"])\n",
    "axs[1, 0].set_title(\"0,2,3\")\n",
    "#3D plot with 1,2,3\n",
    "axs[1, 1].scatter(points[:,1], points[:,2], points[:,3], c=values[\"correct\"])\n",
    "axs[1, 1].set_title(\"1,2,3\")\n",
    "plt.show()\n",
    "\n",
    "\n",
    "\n"
   ]
  },
  {
   "attachments": {},
   "cell_type": "markdown",
   "metadata": {},
   "source": [
    "t-SNE to visualize only the correct prediction (but still in both train and test)"
   ]
  },
  {
   "cell_type": "code",
   "execution_count": 12,
   "metadata": {},
   "outputs": [],
   "source": [
    "# impiort TNSE\n",
    "from sklearn.manifold import TSNE\n",
    "import matplotlib.pyplot as plt\n",
    "\n",
    "plt.show()\n"
   ]
  }
 ],
 "metadata": {
  "kernelspec": {
   "display_name": "Python 3",
   "language": "python",
   "name": "python3"
  },
  "language_info": {
   "codemirror_mode": {
    "name": "ipython",
    "version": 3
   },
   "file_extension": ".py",
   "mimetype": "text/x-python",
   "name": "python",
   "nbconvert_exporter": "python",
   "pygments_lexer": "ipython3",
   "version": "3.10.9"
  },
  "orig_nbformat": 4,
  "vscode": {
   "interpreter": {
    "hash": "760bf3b9c43a19e2fe1b4d509841bd16027d034122dfd0e7f3a29ff3458619a9"
   }
  }
 },
 "nbformat": 4,
 "nbformat_minor": 2
}
