{
 "cells": [
  {
   "cell_type": "code",
   "execution_count": 6,
   "metadata": {},
   "outputs": [],
   "source": [
    "# define a model using pytorch\n",
    "# a pretrained model adding layers to classify the 4 classes of the images\n",
    "import torch\n",
    "import torch.nn as nn\n",
    "from torchvision import models\n",
    "\n",
    "class MIDmodel(nn.Module):\n",
    "    def __init__(self):\n",
    "        super(MIDmodel, self).__init__()\n",
    "        # first pretrained\n",
    "        self.pretrained = models.resnet18(pretrained=True)\n",
    "        # add layers\n",
    "        self.fc1 = nn.Linear(1000, 128)\n",
    "        self.fc2 = nn.Linear(128, 4)\n",
    "        self.dropout = nn.Dropout(0.2)\n",
    "\n",
    "    def forward(self, x):\n",
    "        # set x to three channels\n",
    "        x = x.repeat(1, 3, 1, 1)\n",
    "        x = self.pretrained(x)\n",
    "        x = self.dropout(x)\n",
    "        x = self.fc1(x)\n",
    "        x = self.dropout(x)\n",
    "        x = self.fc2(x)\n",
    "        return x\n"
   ]
  },
  {
   "cell_type": "code",
   "execution_count": 7,
   "metadata": {},
   "outputs": [],
   "source": [
    "from torch.utils.data import Dataset, DataLoader\n",
    "from torchvision import transforms, utils\n",
    "from PIL import Image\n",
    "import os\n",
    "class ImageDataset(Dataset):\n",
    "    def __init__(self, root_dir, patients_ids, patients_df, transform=None):\n",
    "        # select the rows of the dataframe that correspond to the patients in the list\n",
    "        self.patients_df = patients_df[patients_df[\"patient_id\"].isin(patients_ids)]\n",
    "        self.root_dir = root_dir\n",
    "\n",
    "    def __len__(self):\n",
    "        return len(self.patients_df)\n",
    "\n",
    "    def __getitem__(self, idx):\n",
    "        # get idx row of the dataframe\n",
    "        row = self.patients_df.iloc[idx]\n",
    "        # path = root_dir/patientid_examid_spot_framenumber_score.png\n",
    "        path = os.path.join(self.root_dir, row[\"patient_id\"] + \"_\" + row[\"exam_id\"] + \"_\" + row[\"spot\"] + \"_\" + row[\"frame_number\"] + \"_\" + row[\"score\"] + \".png\")\n",
    "        image = Image.open(path)\n",
    "        # Extract label from the image filename\n",
    "        label = row[\"score\"]\n",
    "        # set the image to a tensor\n",
    "        image = transforms.ToTensor()(image)\n",
    "        return image, int(label)"
   ]
  },
  {
   "cell_type": "code",
   "execution_count": 8,
   "metadata": {},
   "outputs": [],
   "source": [
    "# define dataset\n",
    "import pandas as pd\n",
    "from pandas_profiling import ProfileReport\n",
    "import torch\n",
    "device = torch.device(\"cuda\" if torch.cuda.is_available() else \"cpu\")\n",
    "# \"patient_id exam_id spot[1-14] frame_number score\"\n",
    "# load patients data in a dataframe from images folder\n",
    "import glob\n",
    "images_paths = glob.glob(\"images/*.png\", recursive=True)\n",
    "# images are named as: patientid_examid_spotnumber_framenumber_score.png\n",
    "# create a dataframe with the data removing \"images/\"\n",
    "images_df = pd.DataFrame([path[7:-4].split(\"_\") for path in images_paths], columns=[\"patient_id\", \"exam_id\", \"spot\", \"frame_number\", \"score\"])\n",
    "images_df[\"score\"] = images_df[\"score\"].astype(str)\n",
    "images_df[\"frame_number\"] = images_df[\"frame_number\"].astype(str)\n",
    "images_df[\"spot\"] = images_df[\"spot\"].astype(str)\n",
    "images_df[\"patient_id\"] = images_df[\"patient_id\"].astype(str)\n",
    "images_df[\"exam_id\"] = images_df[\"exam_id\"].astype(str)\n",
    "\n",
    "# profile = ProfileReport(images_df, title='Pandas Profiling Report', html={'style':{'full_width':True}})\n",
    "# profile.to_file(\"images_df.html\")\n",
    "\n",
    "# print for each patient the number of images\n",
    "# print(images_df.groupby(\"patient_id\").count()[\"score\"])\n",
    "\n",
    "patients_ids = set(images_df[\"patient_id\"])\n",
    "patients_ids = list(patients_ids)\n",
    "# sort the list of patients\n",
    "patients_ids.sort()\n",
    "# import random\n",
    "# random.shuffle(patients_ids)\n",
    "# train_patients = patients_ids[:int(len(patients_ids)*0.8)]\n",
    "# test_patients = patients_ids[int(len(patients_ids)*0.8):]\n",
    "# print(\"train patients: \", train_patients, \"test patients: \", test_patients)\n",
    "# train_dataset = ImageDataset(\"images/\", train_patients, images_df)\n",
    "# test_dataset = ImageDataset(\"images/\", test_patients, images_df)\n",
    "# print(\"train dataset length: \", len(train_dataset), \"test dataset length: \", len(test_dataset))\n",
    "\n",
    "# patients ['1068', '1017', '1045', '1066', '1067', '1052', '1050', '1069', '1047', '1048', '1051']\n",
    "# all possible configurations with 8 patients for training and 3 for testing (56)\n",
    "folds_test = []\n",
    "folds_train = []\n",
    "for i in range(0, 8):\n",
    "    for j in range(i+1, 9):\n",
    "        for k in range(j+1, 10):\n",
    "            folds_test.append([patients_ids[i], patients_ids[j], patients_ids[k]])\n",
    "            # add the other patients to the training set\n",
    "            folds_train.append([patients_ids[x] for x in range(0, 10) if x not in [i, j, k]])\n",
    "# print(\"folds test: \", folds_test, \"folds train: \", folds_train)\n",
    "# train_dataset = ImageDataset(\"images/\", folds_train[0], images_df)\n",
    "# test_dataset = ImageDataset(\"images/\", folds_test[0], images_df)\n"
   ]
  },
  {
   "cell_type": "code",
   "execution_count": 9,
   "metadata": {},
   "outputs": [],
   "source": [
    "import numpy as np\n",
    "from torch import optim\n",
    "from tqdm import tqdm\n",
    "\n",
    "def train_model(model, dataloader, optimizer, criterion, device):\n",
    "    model.train()\n",
    "    running_loss = 0.0\n",
    "    running_corrects = 0\n",
    "    for inputs, labels in tqdm(dataloader):\n",
    "        inputs = inputs.to(device)\n",
    "        labels = labels.to(device)\n",
    "        optimizer.zero_grad()\n",
    "        outputs = model(inputs)\n",
    "        _, preds = torch.max(outputs, 1)\n",
    "        loss = criterion(outputs, labels)\n",
    "        loss.backward()\n",
    "        optimizer.step()\n",
    "        running_loss += loss.item() * inputs.size(0)\n",
    "        running_corrects += torch.sum(preds == labels.data)\n",
    "    epoch_loss = running_loss / len(dataloader.dataset)\n",
    "    epoch_acc = running_corrects/ len(dataloader.dataset)\n",
    "    return epoch_loss, epoch_acc\n",
    "\n",
    "def test_model(model, dataloader, criterion, device):\n",
    "    model.eval()\n",
    "    running_loss = 0.0\n",
    "    running_corrects = 0\n",
    "    with torch.no_grad():\n",
    "        for inputs, labels in tqdm(dataloader):\n",
    "            inputs = inputs.to(device)\n",
    "            labels = labels.to(device)\n",
    "            outputs = model(inputs)\n",
    "            _, preds = torch.max(outputs, 1)\n",
    "            loss = criterion(outputs, labels)\n",
    "            running_loss += loss.item() * inputs.size(0)\n",
    "            running_corrects += torch.sum(preds == labels.data)\n",
    "    epoch_loss = running_loss / len(dataloader.dataset)\n",
    "    epoch_acc = running_corrects / len(dataloader.dataset)\n",
    "    return epoch_loss, epoch_acc\n"
   ]
  },
  {
   "cell_type": "code",
   "execution_count": 10,
   "metadata": {},
   "outputs": [
    {
     "name": "stderr",
     "output_type": "stream",
     "text": [
      "c:\\Users\\Davide\\AppData\\Local\\Programs\\Python\\Python310\\lib\\site-packages\\torchvision\\models\\_utils.py:208: UserWarning: The parameter 'pretrained' is deprecated since 0.13 and may be removed in the future, please use 'weights' instead.\n",
      "  warnings.warn(\n",
      "c:\\Users\\Davide\\AppData\\Local\\Programs\\Python\\Python310\\lib\\site-packages\\torchvision\\models\\_utils.py:223: UserWarning: Arguments other than a weight enum or `None` for 'weights' are deprecated since 0.13 and may be removed in the future. The current behavior is equivalent to passing `weights=ResNet18_Weights.IMAGENET1K_V1`. You can also use `weights=ResNet18_Weights.DEFAULT` to get the most up-to-date weights.\n",
      "  warnings.warn(msg)\n"
     ]
    },
    {
     "name": "stdout",
     "output_type": "stream",
     "text": [
      "Fold:  0\n",
      "Test patients:  ['1017', '1045', '1047']\n",
      "Epoch 0\n"
     ]
    },
    {
     "name": "stderr",
     "output_type": "stream",
     "text": [
      "100%|██████████| 1965/1965 [07:05<00:00,  4.62it/s]\n"
     ]
    },
    {
     "name": "stdout",
     "output_type": "stream",
     "text": [
      "Training Loss: 0.2941 Training Accuracy: 0.8917\n"
     ]
    },
    {
     "name": "stderr",
     "output_type": "stream",
     "text": [
      "100%|██████████| 807/807 [01:16<00:00, 10.61it/s]\n"
     ]
    },
    {
     "name": "stdout",
     "output_type": "stream",
     "text": [
      "Test Loss: 3.0961 Test Accuracy: 0.3852\n",
      "Epoch 1\n"
     ]
    },
    {
     "name": "stderr",
     "output_type": "stream",
     "text": [
      "100%|██████████| 1965/1965 [07:01<00:00,  4.66it/s]\n"
     ]
    },
    {
     "name": "stdout",
     "output_type": "stream",
     "text": [
      "Training Loss: 0.1202 Training Accuracy: 0.9581\n"
     ]
    },
    {
     "name": "stderr",
     "output_type": "stream",
     "text": [
      "100%|██████████| 807/807 [01:13<00:00, 11.03it/s]\n"
     ]
    },
    {
     "name": "stdout",
     "output_type": "stream",
     "text": [
      "Test Loss: 2.2399 Test Accuracy: 0.4455\n",
      "Epoch 2\n"
     ]
    },
    {
     "name": "stderr",
     "output_type": "stream",
     "text": [
      "100%|██████████| 1965/1965 [07:14<00:00,  4.52it/s]\n"
     ]
    },
    {
     "name": "stdout",
     "output_type": "stream",
     "text": [
      "Training Loss: 0.0835 Training Accuracy: 0.9709\n"
     ]
    },
    {
     "name": "stderr",
     "output_type": "stream",
     "text": [
      "100%|██████████| 807/807 [01:23<00:00,  9.61it/s]\n"
     ]
    },
    {
     "name": "stdout",
     "output_type": "stream",
     "text": [
      "Test Loss: 3.6084 Test Accuracy: 0.3128\n",
      "Results fold 0:\n",
      "Train:  [[0.2940609783029931, tensor(0.8917, device='cuda:0')], [0.12015317365912966, tensor(0.9581, device='cuda:0')], [0.08352938765807037, tensor(0.9709, device='cuda:0')]]\n",
      "Test:  [[3.096125132599891, tensor(0.3852, device='cuda:0')], [2.2399193264143666, tensor(0.4455, device='cuda:0')], [3.608429243206525, tensor(0.3128, device='cuda:0')]]\n",
      "Fold:  1\n",
      "Test patients:  ['1017', '1045', '1048']\n",
      "Epoch 0\n"
     ]
    },
    {
     "name": "stderr",
     "output_type": "stream",
     "text": [
      " 12%|█▏        | 197/1637 [00:46<05:39,  4.24it/s]\n"
     ]
    },
    {
     "ename": "KeyboardInterrupt",
     "evalue": "",
     "output_type": "error",
     "traceback": [
      "\u001b[1;31m---------------------------------------------------------------------------\u001b[0m",
      "\u001b[1;31mKeyboardInterrupt\u001b[0m                         Traceback (most recent call last)",
      "Cell \u001b[1;32mIn [10], line 25\u001b[0m\n\u001b[0;32m     23\u001b[0m \u001b[39mfor\u001b[39;00m epoch \u001b[39min\u001b[39;00m \u001b[39mrange\u001b[39m(num_epochs):\n\u001b[0;32m     24\u001b[0m     \u001b[39mprint\u001b[39m(\u001b[39mf\u001b[39m\u001b[39m\"\u001b[39m\u001b[39mEpoch \u001b[39m\u001b[39m{\u001b[39;00mepoch\u001b[39m}\u001b[39;00m\u001b[39m\"\u001b[39m)\n\u001b[1;32m---> 25\u001b[0m     train_loss, train_acc \u001b[39m=\u001b[39m train_model(model, train_dataloader, optimizer, criterion, device)\n\u001b[0;32m     26\u001b[0m     results_train\u001b[39m.\u001b[39mappend([train_loss, train_acc])\n\u001b[0;32m     27\u001b[0m     \u001b[39mprint\u001b[39m(\u001b[39mf\u001b[39m\u001b[39m\"\u001b[39m\u001b[39mTraining Loss: \u001b[39m\u001b[39m{\u001b[39;00mtrain_loss\u001b[39m:\u001b[39;00m\u001b[39m.4f\u001b[39m\u001b[39m}\u001b[39;00m\u001b[39m Training Accuracy: \u001b[39m\u001b[39m{\u001b[39;00mtrain_acc\u001b[39m:\u001b[39;00m\u001b[39m.4f\u001b[39m\u001b[39m}\u001b[39;00m\u001b[39m\"\u001b[39m)\n",
      "Cell \u001b[1;32mIn [9], line 18\u001b[0m, in \u001b[0;36mtrain_model\u001b[1;34m(model, dataloader, optimizer, criterion, device)\u001b[0m\n\u001b[0;32m     16\u001b[0m     loss\u001b[39m.\u001b[39mbackward()\n\u001b[0;32m     17\u001b[0m     optimizer\u001b[39m.\u001b[39mstep()\n\u001b[1;32m---> 18\u001b[0m     running_loss \u001b[39m+\u001b[39m\u001b[39m=\u001b[39m loss\u001b[39m.\u001b[39;49mitem() \u001b[39m*\u001b[39m inputs\u001b[39m.\u001b[39msize(\u001b[39m0\u001b[39m)\n\u001b[0;32m     19\u001b[0m     running_corrects \u001b[39m+\u001b[39m\u001b[39m=\u001b[39m torch\u001b[39m.\u001b[39msum(preds \u001b[39m==\u001b[39m labels\u001b[39m.\u001b[39mdata)\n\u001b[0;32m     20\u001b[0m epoch_loss \u001b[39m=\u001b[39m running_loss \u001b[39m/\u001b[39m \u001b[39mlen\u001b[39m(dataloader\u001b[39m.\u001b[39mdataset)\n",
      "\u001b[1;31mKeyboardInterrupt\u001b[0m: "
     ]
    }
   ],
   "source": [
    "data_dir = \"images\"\n",
    "num_epochs = 3\n",
    "learning_rate = 0.001\n",
    "\n",
    "# define the model\n",
    "\n",
    "\n",
    "for i in range(0, len(folds_test)):\n",
    "    model = MIDmodel()\n",
    "    model = model.to(device)\n",
    "    criterion = nn.CrossEntropyLoss()\n",
    "    optimizer = optim.SGD(model.parameters(), lr=learning_rate, momentum=0.9)\n",
    "    print(\"Fold: \", i)\n",
    "    print(\"Test patients: \", folds_test[i])\n",
    "    train_dataset = ImageDataset(\"images/\", folds_train[i], images_df)\n",
    "    test_dataset = ImageDataset(\"images/\", folds_test[i], images_df)\n",
    "    # define the dataloaders\n",
    "    train_dataloader = DataLoader(train_dataset, batch_size=16, shuffle=True)\n",
    "    test_dataloader = DataLoader(test_dataset, batch_size=16, shuffle=False)\n",
    "    results_train = []\n",
    "    results_test = []\n",
    "    # train the model\n",
    "    for epoch in range(num_epochs):\n",
    "        print(f\"Epoch {epoch}\")\n",
    "        train_loss, train_acc = train_model(model, train_dataloader, optimizer, criterion, device)\n",
    "        results_train.append([train_loss, train_acc])\n",
    "        print(f\"Training Loss: {train_loss:.4f} Training Accuracy: {train_acc:.4f}\")\n",
    "        test_loss, test_acc = test_model(model, test_dataloader, criterion, device)\n",
    "        results_test.append([test_loss, test_acc])\n",
    "        print(f\"Test Loss: {test_loss:.4f} Test Accuracy: {test_acc:.4f}\")\n",
    "    print(f\"Results fold {i}:\")\n",
    "    # print results with commas not dots\n",
    "    print(\"Train: \", results_train)\n",
    "    print(\"Test: \", results_test)\n",
    "\n",
    "    # save the model\n",
    "    torch.save(model.state_dict(), f\"model{i}.pt\")\n",
    "\n"
   ]
  },
  {
   "cell_type": "code",
   "execution_count": null,
   "metadata": {},
   "outputs": [],
   "source": [
    "# load the model\n",
    "model = MIDmodel()\n",
    "model.load_state_dict(torch.load(\"model.pt\"))\n",
    "model.eval()"
   ]
  }
 ],
 "metadata": {
  "kernelspec": {
   "display_name": "Python 3",
   "language": "python",
   "name": "python3"
  },
  "language_info": {
   "codemirror_mode": {
    "name": "ipython",
    "version": 3
   },
   "file_extension": ".py",
   "mimetype": "text/x-python",
   "name": "python",
   "nbconvert_exporter": "python",
   "pygments_lexer": "ipython3",
   "version": "3.10.9"
  },
  "orig_nbformat": 4,
  "vscode": {
   "interpreter": {
    "hash": "760bf3b9c43a19e2fe1b4d509841bd16027d034122dfd0e7f3a29ff3458619a9"
   }
  }
 },
 "nbformat": 4,
 "nbformat_minor": 2
}
