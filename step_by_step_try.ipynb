{
 "cells": [
  {
   "cell_type": "code",
   "execution_count": 8,
   "metadata": {},
   "outputs": [
    {
     "ename": "KeyboardInterrupt",
     "evalue": "",
     "output_type": "error",
     "traceback": [
      "\u001b[1;31m---------------------------------------------------------------------------\u001b[0m",
      "\u001b[1;31mKeyboardInterrupt\u001b[0m                         Traceback (most recent call last)",
      "\u001b[1;32mc:\\Users\\Davide\\Documents\\MID\\step_by_step_try.ipynb Cell 1\u001b[0m in \u001b[0;36m3\n\u001b[0;32m      <a href='vscode-notebook-cell:/c%3A/Users/Davide/Documents/MID/step_by_step_try.ipynb#W0sZmlsZQ%3D%3D?line=0'>1</a>\u001b[0m \u001b[39m# define a model using pytorch\u001b[39;00m\n\u001b[0;32m      <a href='vscode-notebook-cell:/c%3A/Users/Davide/Documents/MID/step_by_step_try.ipynb#W0sZmlsZQ%3D%3D?line=1'>2</a>\u001b[0m \u001b[39m# a pretrained model adding layers to classify the 4 classes of the images\u001b[39;00m\n\u001b[1;32m----> <a href='vscode-notebook-cell:/c%3A/Users/Davide/Documents/MID/step_by_step_try.ipynb#W0sZmlsZQ%3D%3D?line=2'>3</a>\u001b[0m \u001b[39mimport\u001b[39;00m \u001b[39mtorch\u001b[39;00m\u001b[39m.\u001b[39;00m\u001b[39mnn\u001b[39;00m \u001b[39mas\u001b[39;00m \u001b[39mnn\u001b[39;00m\n\u001b[0;32m      <a href='vscode-notebook-cell:/c%3A/Users/Davide/Documents/MID/step_by_step_try.ipynb#W0sZmlsZQ%3D%3D?line=3'>4</a>\u001b[0m \u001b[39mfrom\u001b[39;00m \u001b[39mtorchvision\u001b[39;00m \u001b[39mimport\u001b[39;00m models\n\u001b[0;32m      <a href='vscode-notebook-cell:/c%3A/Users/Davide/Documents/MID/step_by_step_try.ipynb#W0sZmlsZQ%3D%3D?line=4'>5</a>\u001b[0m \u001b[39mfrom\u001b[39;00m \u001b[39mtorchvision\u001b[39;00m\u001b[39m.\u001b[39;00m\u001b[39mmodels\u001b[39;00m \u001b[39mimport\u001b[39;00m squeezenet1_1\n",
      "File \u001b[1;32mc:\\Users\\Davide\\AppData\\Local\\Programs\\Python\\Python310\\lib\\site-packages\\torch\\__init__.py:123\u001b[0m\n\u001b[0;32m    121\u001b[0m is_loaded \u001b[39m=\u001b[39m \u001b[39mFalse\u001b[39;00m\n\u001b[0;32m    122\u001b[0m \u001b[39mif\u001b[39;00m with_load_library_flags:\n\u001b[1;32m--> 123\u001b[0m     res \u001b[39m=\u001b[39m kernel32\u001b[39m.\u001b[39;49mLoadLibraryExW(dll, \u001b[39mNone\u001b[39;49;00m, \u001b[39m0x00001100\u001b[39;49m)\n\u001b[0;32m    124\u001b[0m     last_error \u001b[39m=\u001b[39m ctypes\u001b[39m.\u001b[39mget_last_error()\n\u001b[0;32m    125\u001b[0m     \u001b[39mif\u001b[39;00m res \u001b[39mis\u001b[39;00m \u001b[39mNone\u001b[39;00m \u001b[39mand\u001b[39;00m last_error \u001b[39m!=\u001b[39m \u001b[39m126\u001b[39m:\n",
      "\u001b[1;31mKeyboardInterrupt\u001b[0m: "
     ]
    }
   ],
   "source": [
    "# define a model using pytorch\n",
    "# a pretrained model adding layers to classify the 4 classes of the images\n",
    "import torch.nn as nn\n",
    "from torchvision import models\n",
    "from torchvision.models import squeezenet1_1\n",
    "from torchvision.models.squeezenet import SqueezeNet1_1_Weights\n",
    "\n",
    "\n",
    "class MIDmodel(nn.Module):\n",
    "    def __init__(self):\n",
    "        super(MIDmodel, self).__init__()\n",
    "        self.pretrained = squeezenet1_1(pretrained=True)\n",
    "        self.fc1 = nn.Linear(1000, 128)\n",
    "        self.fc2 = nn.Linear(128, 4)\n",
    "        self.dropout = nn.Dropout(0.7)\n",
    "\n",
    "    def forward(self, x):\n",
    "        x = self.pretrained(x)\n",
    "        x = self.dropout(x)\n",
    "        x = self.fc1(x)\n",
    "        x = self.dropout(x)\n",
    "        x = self.fc2(x)\n",
    "        return x"
   ]
  },
  {
   "cell_type": "code",
   "execution_count": null,
   "metadata": {},
   "outputs": [],
   "source": [
    "from torch.utils.data import Dataset, DataLoader\n",
    "from torchvision import transforms\n",
    "import pandas as pd\n",
    "from PIL import Image\n",
    "import os\n",
    "\n",
    "class ImageDataset(Dataset):\n",
    "    def __init__(self, root_dir, patients_ids, patients_df, transform=None):\n",
    "        self.patients_df = patients_df[patients_df[\"patient_id\"].isin(patients_ids)]\n",
    "        self.root_dir = root_dir\n",
    "        self.idxs = set()\n",
    "        if transform:\n",
    "            self.transform = transform\n",
    "        else:\n",
    "            self.transform = None\n",
    "               \n",
    "            \n",
    "    def __len__(self):\n",
    "        return len(self.patients_df)\n",
    "\n",
    "    def __getitem__(self, idx):\n",
    "        row = self.patients_df.iloc[idx]\n",
    "        # path = root_dir/patientid_examid_spot_framenumber_score.png\n",
    "        path = os.path.join(self.root_dir, row[\"patient_id\"] + \"_\" + row[\"exam_id\"] + \"_\" + row[\"spot\"] + \"_\" + row[\"frame_number\"] + \"_\" + row[\"score\"] + \".png\")\n",
    "        image = Image.open(path)\n",
    "        label = row[\"score\"]\n",
    "\n",
    "        if self.transform:\n",
    "            image = self.transform(image)\n",
    "        # in any case, transform to tensor\n",
    "        image = transforms.ToTensor()(image)\n",
    "        # image = transforms.Normalize(mean = [17.29368658, 15.58648964, 15.50668094], std = [32.30078458, 28.69238728, 28.48813082])(image)\n",
    "        # image = image / 255.0\n",
    "        image = transforms.Resize((224, 224))(image)\n",
    "        # Finally the values are first rescaled to [0.0, 1.0] and then normalized using mean=[0.485, 0.456, 0.406] and std=[0.229, 0.224, 0.225].\n",
    "        image = transforms.Normalize(mean=[0.485, 0.456, 0.406], std=[0.229, 0.224, 0.225])(image)\n",
    "        # rescale the image to [0.0, 1.0]\n",
    "        \n",
    "        #image = transforms.Normalize(mean=[0.485, 0.456, 0.406], std=[0.229, 0.224, 0.225])(image)\n",
    "        return image, int(label), path"
   ]
  },
  {
   "cell_type": "code",
   "execution_count": 1,
   "metadata": {},
   "outputs": [
    {
     "name": "stdout",
     "output_type": "stream",
     "text": [
      "['1051', '1067', '1069', '1050', '1017', '1048', '1052', '1047']\n",
      "score\n",
      "0    7888\n",
      "1    7540\n",
      "2    7189\n",
      "3    7592\n",
      "Name: patient_id, dtype: int64\n",
      "['1066', '1068', '1045']\n",
      "score\n",
      "0    6625\n",
      "1    1721\n",
      "2    5535\n",
      "3    3631\n",
      "Name: patient_id, dtype: int64\n"
     ]
    }
   ],
   "source": [
    "import pandas as pd\n",
    "import torch\n",
    "import glob\n",
    "data_dir = \"images/\"\n",
    "device = torch.device(\"cuda\" if torch.cuda.is_available() else \"cpu\")\n",
    "images_paths = glob.glob(f\"{data_dir}*.png\", recursive=True)\n",
    "# images are named as: patientid_examid_spotnumber_framenumber_score.png\n",
    "# create a dataframe with the data removing \"images/\"\n",
    "images_df = pd.DataFrame([path[len(data_dir):-4].split(\"_\") for path in images_paths], columns=[\"patient_id\", \"exam_id\", \"spot\", \"frame_number\", \"score\"])\n",
    "images_df[\"score\"] = images_df[\"score\"].astype(str)\n",
    "images_df[\"frame_number\"] = images_df[\"frame_number\"].astype(str)\n",
    "images_df[\"spot\"] = images_df[\"spot\"].astype(str)\n",
    "images_df[\"patient_id\"] = images_df[\"patient_id\"].astype(str)\n",
    "images_df[\"exam_id\"] = images_df[\"exam_id\"].astype(str)\n",
    "patients_ids = set(images_df[\"patient_id\"])\n",
    "patients_ids = list(patients_ids)\n",
    "\n",
    "# select the 8 patients for training based on the most balanced distribution of the scores\n",
    "import itertools\n",
    "combs = list(itertools.combinations(patients_ids, 8))\n",
    "stds = []\n",
    "for i, c in enumerate(combs):\n",
    "    stds.append((images_df[images_df[\"patient_id\"].isin(c)].groupby(\"score\").count()[\"patient_id\"].std(), i))\n",
    "\n",
    "train_patients = [x for x in combs[min(stds)[1]]]\n",
    "print(train_patients)\n",
    "print(images_df[images_df[\"patient_id\"].isin(train_patients)].groupby(\"score\").count()[\"patient_id\"])\n",
    "test_patients = [x for x in patients_ids if x not in train_patients]\n",
    "print(test_patients)\n",
    "print(images_df[images_df[\"patient_id\"].isin(test_patients)].groupby(\"score\").count()[\"patient_id\"])\n"
   ]
  },
  {
   "attachments": {},
   "cell_type": "markdown",
   "metadata": {},
   "source": [
    "transformations from the paper Deep Learning for Classification and Localization of COVID-19 Markers in Point-of-Care Lung Ultrasound\n",
    "were each activated on the image-label pair with a probability of 0.33. The set of augmentation functions, each applied with a randomly sampled strength bounded by a set maximum, consists of:\n",
    "- affine transformations (translation (max. ±15%), rotation (max. ±15◦), scaling (max. ±45%), and shearing (max. ±4.5◦))\n",
    "- multiplication with a constant (max. ±45%)\n",
    "- Gaussian blurring (σmax = 3/4 )\n",
    "- contrast distortion (max. ±45%)\n",
    "- horizontal flipping (p = 0.5)\n",
    "- additive white Gaussian noise (σmax = 0.015)"
   ]
  },
  {
   "cell_type": "code",
   "execution_count": null,
   "metadata": {},
   "outputs": [],
   "source": [
    "transformations = transforms.Compose([\n",
    "    transforms.RandomApply([transforms.RandomAffine(degrees=15, translate=(0, 0.15), scale=(0.55, 1.45), shear=4.5)], p=1/3),\n",
    "    transforms.RandomApply([transforms.ColorJitter(brightness=0.45, contrast=0.45, saturation=0.45, hue=0.45)], p=1/3),\n",
    "    transforms.RandomApply([transforms.GaussianBlur(kernel_size=3, sigma=(0.75))], p=1/3),\n",
    "    transforms.RandomApply([transforms.RandomHorizontalFlip(p=0.5)], p=1/3),\n",
    "    ])"
   ]
  },
  {
   "cell_type": "code",
   "execution_count": null,
   "metadata": {},
   "outputs": [],
   "source": [
    "from torch import optim\n",
    "from tqdm import tqdm\n",
    "\n",
    "def train_model(model, dataloader, optimizer, criterion, device):\n",
    "    model.train()\n",
    "    running_loss = 0.0\n",
    "    running_corrects = 0\n",
    "    for inputs, labels, _ in tqdm(dataloader):\n",
    "        inputs = inputs.to(device)\n",
    "        labels = labels.to(device)\n",
    "        optimizer.zero_grad()\n",
    "        outputs = model(inputs)\n",
    "        _, preds = torch.max(outputs, 1)\n",
    "        loss = criterion(outputs, labels)\n",
    "        loss.backward()\n",
    "        optimizer.step()\n",
    "        running_loss += loss.item() * inputs.size(0)\n",
    "        running_corrects += torch.sum(preds == labels.data)\n",
    "    epoch_loss = running_loss / len(dataloader.dataset)\n",
    "    epoch_acc = running_corrects/ len(dataloader.dataset)\n",
    "    return epoch_loss, epoch_acc\n",
    "\n",
    "def test_model(model, dataloader, criterion, device):\n",
    "    model.eval()\n",
    "    running_loss = 0.0\n",
    "    running_corrects = 0\n",
    "    with torch.no_grad():\n",
    "        for inputs, labels, _ in tqdm(dataloader):\n",
    "            inputs = inputs.to(device)\n",
    "            labels = labels.to(device)\n",
    "            outputs = model(inputs)\n",
    "            _, preds = torch.max(outputs, 1)\n",
    "            loss = criterion(outputs, labels)\n",
    "            running_loss += loss.item() * inputs.size(0)\n",
    "            running_corrects += torch.sum(preds == labels.data)\n",
    "    epoch_loss = running_loss / len(dataloader.dataset)\n",
    "    epoch_acc = running_corrects / len(dataloader.dataset)\n",
    "    return epoch_loss, epoch_acc\n"
   ]
  },
  {
   "cell_type": "code",
   "execution_count": null,
   "metadata": {},
   "outputs": [
    {
     "name": "stderr",
     "output_type": "stream",
     "text": [
      "c:\\Users\\Davide\\AppData\\Local\\Programs\\Python\\Python310\\lib\\site-packages\\torchvision\\models\\_utils.py:208: UserWarning: The parameter 'pretrained' is deprecated since 0.13 and may be removed in the future, please use 'weights' instead.\n",
      "  warnings.warn(\n",
      "c:\\Users\\Davide\\AppData\\Local\\Programs\\Python\\Python310\\lib\\site-packages\\torchvision\\models\\_utils.py:223: UserWarning: Arguments other than a weight enum or `None` for 'weights' are deprecated since 0.13 and may be removed in the future. The current behavior is equivalent to passing `weights=SqueezeNet1_1_Weights.IMAGENET1K_V1`. You can also use `weights=SqueezeNet1_1_Weights.DEFAULT` to get the most up-to-date weights.\n",
      "  warnings.warn(msg)\n"
     ]
    }
   ],
   "source": [
    "data_dir = \"images/\"\n",
    "num_epochs = 20\n",
    "# 18 minutes per epoch, 6 hours for 20 epochs\n",
    "learning_rate = 0.00001\n",
    "batch_size = 8\n",
    "\n",
    "model = MIDmodel()\n",
    "model = model.to(device)\n",
    "criterion = nn.CrossEntropyLoss()\n",
    "optimizer = optim.Adam(model.parameters(), lr=learning_rate)\n",
    "\n",
    "\n",
    "train_dataset = ImageDataset(data_dir, train_patients, images_df, transformations)\n",
    "# for the patients in the test set, se create a new image_df with 1000 images per class\n",
    "test_images_df = images_df[images_df[\"patient_id\"].isin(test_patients)]\n",
    "test_images_df = test_images_df.groupby(\"score\").apply(lambda x: x.sample(1000)).reset_index(drop=True)\n",
    "test_dataset = ImageDataset(data_dir, test_patients, test_images_df)\n",
    "\n",
    "# test_dataset = ImageDataset(data_dir, test_patients, images_df)\n",
    "train_dataloader = DataLoader(train_dataset, batch_size=batch_size, shuffle=True)\n",
    "test_dataloader = DataLoader(test_dataset, batch_size=batch_size, shuffle=False)"
   ]
  },
  {
   "cell_type": "code",
   "execution_count": null,
   "metadata": {},
   "outputs": [
    {
     "name": "stdout",
     "output_type": "stream",
     "text": [
      "Epoch 0\n"
     ]
    },
    {
     "name": "stderr",
     "output_type": "stream",
     "text": [
      "100%|██████████| 3777/3777 [16:06<00:00,  3.91it/s]\n"
     ]
    },
    {
     "name": "stdout",
     "output_type": "stream",
     "text": [
      "Training Loss: 1.4461 Training Accuracy: 0.2549\n"
     ]
    },
    {
     "name": "stderr",
     "output_type": "stream",
     "text": [
      "100%|██████████| 500/500 [00:55<00:00,  9.06it/s]\n"
     ]
    },
    {
     "name": "stdout",
     "output_type": "stream",
     "text": [
      "Test Loss: 1.3819 Test Accuracy: 0.2503\n",
      "Epoch 1\n"
     ]
    },
    {
     "name": "stderr",
     "output_type": "stream",
     "text": [
      "100%|██████████| 3777/3777 [16:56<00:00,  3.72it/s]\n"
     ]
    },
    {
     "name": "stdout",
     "output_type": "stream",
     "text": [
      "Training Loss: 1.3344 Training Accuracy: 0.2986\n"
     ]
    },
    {
     "name": "stderr",
     "output_type": "stream",
     "text": [
      "100%|██████████| 500/500 [00:55<00:00,  8.98it/s]\n"
     ]
    },
    {
     "name": "stdout",
     "output_type": "stream",
     "text": [
      "Test Loss: 1.3551 Test Accuracy: 0.3080\n",
      "Epoch 2\n"
     ]
    },
    {
     "name": "stderr",
     "output_type": "stream",
     "text": [
      "100%|██████████| 3777/3777 [16:55<00:00,  3.72it/s]\n"
     ]
    },
    {
     "name": "stdout",
     "output_type": "stream",
     "text": [
      "Training Loss: 1.2288 Training Accuracy: 0.3777\n"
     ]
    },
    {
     "name": "stderr",
     "output_type": "stream",
     "text": [
      "100%|██████████| 500/500 [00:55<00:00,  8.98it/s]\n"
     ]
    },
    {
     "name": "stdout",
     "output_type": "stream",
     "text": [
      "Test Loss: 1.3453 Test Accuracy: 0.4510\n",
      "Epoch 3\n"
     ]
    },
    {
     "name": "stderr",
     "output_type": "stream",
     "text": [
      "100%|██████████| 3777/3777 [25:02<00:00,  2.51it/s]\n"
     ]
    },
    {
     "name": "stdout",
     "output_type": "stream",
     "text": [
      "Training Loss: 1.1488 Training Accuracy: 0.4601\n"
     ]
    },
    {
     "name": "stderr",
     "output_type": "stream",
     "text": [
      "100%|██████████| 500/500 [01:19<00:00,  6.29it/s]\n"
     ]
    },
    {
     "name": "stdout",
     "output_type": "stream",
     "text": [
      "Test Loss: 1.2667 Test Accuracy: 0.3718\n",
      "Epoch 4\n"
     ]
    },
    {
     "name": "stderr",
     "output_type": "stream",
     "text": [
      "100%|██████████| 3777/3777 [17:45<00:00,  3.55it/s]\n"
     ]
    },
    {
     "name": "stdout",
     "output_type": "stream",
     "text": [
      "Training Loss: 1.0441 Training Accuracy: 0.5171\n"
     ]
    },
    {
     "name": "stderr",
     "output_type": "stream",
     "text": [
      "100%|██████████| 500/500 [00:56<00:00,  8.90it/s]\n"
     ]
    },
    {
     "name": "stdout",
     "output_type": "stream",
     "text": [
      "Test Loss: 1.2601 Test Accuracy: 0.3830\n",
      "Epoch 5\n"
     ]
    },
    {
     "name": "stderr",
     "output_type": "stream",
     "text": [
      "100%|██████████| 3777/3777 [20:15<00:00,  3.11it/s] \n"
     ]
    },
    {
     "name": "stdout",
     "output_type": "stream",
     "text": [
      "Training Loss: 1.0109 Training Accuracy: 0.5305\n"
     ]
    },
    {
     "name": "stderr",
     "output_type": "stream",
     "text": [
      "100%|██████████| 500/500 [00:58<00:00,  8.56it/s]\n"
     ]
    },
    {
     "name": "stdout",
     "output_type": "stream",
     "text": [
      "Test Loss: 1.2308 Test Accuracy: 0.4333\n",
      "Epoch 6\n"
     ]
    },
    {
     "name": "stderr",
     "output_type": "stream",
     "text": [
      "100%|██████████| 3777/3777 [17:04<00:00,  3.69it/s]\n"
     ]
    },
    {
     "name": "stdout",
     "output_type": "stream",
     "text": [
      "Training Loss: 0.9817 Training Accuracy: 0.5514\n"
     ]
    },
    {
     "name": "stderr",
     "output_type": "stream",
     "text": [
      "100%|██████████| 500/500 [00:59<00:00,  8.40it/s]\n"
     ]
    },
    {
     "name": "stdout",
     "output_type": "stream",
     "text": [
      "Test Loss: 1.2265 Test Accuracy: 0.4298\n",
      "Epoch 7\n"
     ]
    },
    {
     "name": "stderr",
     "output_type": "stream",
     "text": [
      "100%|██████████| 3777/3777 [16:34<00:00,  3.80it/s]\n"
     ]
    },
    {
     "name": "stdout",
     "output_type": "stream",
     "text": [
      "Training Loss: 0.9709 Training Accuracy: 0.5589\n"
     ]
    },
    {
     "name": "stderr",
     "output_type": "stream",
     "text": [
      "100%|██████████| 500/500 [00:58<00:00,  8.51it/s]\n"
     ]
    },
    {
     "name": "stdout",
     "output_type": "stream",
     "text": [
      "Test Loss: 1.2509 Test Accuracy: 0.4025\n",
      "Epoch 8\n"
     ]
    },
    {
     "name": "stderr",
     "output_type": "stream",
     "text": [
      "100%|██████████| 3777/3777 [16:40<00:00,  3.78it/s]\n"
     ]
    },
    {
     "name": "stdout",
     "output_type": "stream",
     "text": [
      "Training Loss: 0.9603 Training Accuracy: 0.5611\n"
     ]
    },
    {
     "name": "stderr",
     "output_type": "stream",
     "text": [
      "100%|██████████| 500/500 [00:59<00:00,  8.36it/s]\n"
     ]
    },
    {
     "name": "stdout",
     "output_type": "stream",
     "text": [
      "Test Loss: 1.2337 Test Accuracy: 0.4188\n",
      "Epoch 9\n"
     ]
    },
    {
     "name": "stderr",
     "output_type": "stream",
     "text": [
      "100%|██████████| 3777/3777 [16:31<00:00,  3.81it/s]\n"
     ]
    },
    {
     "name": "stdout",
     "output_type": "stream",
     "text": [
      "Training Loss: 0.9523 Training Accuracy: 0.5683\n"
     ]
    },
    {
     "name": "stderr",
     "output_type": "stream",
     "text": [
      "100%|██████████| 500/500 [00:59<00:00,  8.39it/s]\n"
     ]
    },
    {
     "name": "stdout",
     "output_type": "stream",
     "text": [
      "Test Loss: 1.2413 Test Accuracy: 0.4203\n",
      "Epoch 10\n"
     ]
    },
    {
     "name": "stderr",
     "output_type": "stream",
     "text": [
      "100%|██████████| 3777/3777 [16:35<00:00,  3.79it/s]\n"
     ]
    },
    {
     "name": "stdout",
     "output_type": "stream",
     "text": [
      "Training Loss: 0.9460 Training Accuracy: 0.5683\n"
     ]
    },
    {
     "name": "stderr",
     "output_type": "stream",
     "text": [
      "100%|██████████| 500/500 [00:54<00:00,  9.12it/s]\n"
     ]
    },
    {
     "name": "stdout",
     "output_type": "stream",
     "text": [
      "Test Loss: 1.2480 Test Accuracy: 0.4165\n",
      "Epoch 11\n"
     ]
    },
    {
     "name": "stderr",
     "output_type": "stream",
     "text": [
      "100%|██████████| 3777/3777 [16:47<00:00,  3.75it/s]\n"
     ]
    },
    {
     "name": "stdout",
     "output_type": "stream",
     "text": [
      "Training Loss: 0.9465 Training Accuracy: 0.5721\n"
     ]
    },
    {
     "name": "stderr",
     "output_type": "stream",
     "text": [
      "100%|██████████| 500/500 [00:54<00:00,  9.20it/s]\n"
     ]
    },
    {
     "name": "stdout",
     "output_type": "stream",
     "text": [
      "Test Loss: 1.2358 Test Accuracy: 0.4245\n",
      "Epoch 12\n"
     ]
    },
    {
     "name": "stderr",
     "output_type": "stream",
     "text": [
      "100%|██████████| 3777/3777 [16:29<00:00,  3.82it/s]\n"
     ]
    },
    {
     "name": "stdout",
     "output_type": "stream",
     "text": [
      "Training Loss: 0.9472 Training Accuracy: 0.5726\n"
     ]
    },
    {
     "name": "stderr",
     "output_type": "stream",
     "text": [
      "100%|██████████| 500/500 [01:01<00:00,  8.14it/s]\n"
     ]
    },
    {
     "name": "stdout",
     "output_type": "stream",
     "text": [
      "Test Loss: 1.2483 Test Accuracy: 0.4133\n",
      "Epoch 13\n"
     ]
    },
    {
     "name": "stderr",
     "output_type": "stream",
     "text": [
      "100%|██████████| 3777/3777 [17:10<00:00,  3.67it/s]\n"
     ]
    },
    {
     "name": "stdout",
     "output_type": "stream",
     "text": [
      "Training Loss: 0.9447 Training Accuracy: 0.5754\n"
     ]
    },
    {
     "name": "stderr",
     "output_type": "stream",
     "text": [
      "100%|██████████| 500/500 [01:00<00:00,  8.23it/s]\n"
     ]
    },
    {
     "name": "stdout",
     "output_type": "stream",
     "text": [
      "Test Loss: 1.2542 Test Accuracy: 0.4140\n",
      "Epoch 14\n"
     ]
    },
    {
     "name": "stderr",
     "output_type": "stream",
     "text": [
      "100%|██████████| 3777/3777 [17:25<00:00,  3.61it/s]\n"
     ]
    },
    {
     "name": "stdout",
     "output_type": "stream",
     "text": [
      "Training Loss: 0.9368 Training Accuracy: 0.5792\n"
     ]
    },
    {
     "name": "stderr",
     "output_type": "stream",
     "text": [
      "100%|██████████| 500/500 [01:00<00:00,  8.26it/s]\n"
     ]
    },
    {
     "name": "stdout",
     "output_type": "stream",
     "text": [
      "Test Loss: 1.2591 Test Accuracy: 0.4120\n",
      "Epoch 15\n"
     ]
    },
    {
     "name": "stderr",
     "output_type": "stream",
     "text": [
      "100%|██████████| 3777/3777 [17:24<00:00,  3.61it/s]\n"
     ]
    },
    {
     "name": "stdout",
     "output_type": "stream",
     "text": [
      "Training Loss: 0.9429 Training Accuracy: 0.5730\n"
     ]
    },
    {
     "name": "stderr",
     "output_type": "stream",
     "text": [
      "100%|██████████| 500/500 [01:01<00:00,  8.17it/s]\n"
     ]
    },
    {
     "name": "stdout",
     "output_type": "stream",
     "text": [
      "Test Loss: 1.2540 Test Accuracy: 0.4143\n",
      "Epoch 16\n"
     ]
    },
    {
     "name": "stderr",
     "output_type": "stream",
     "text": [
      "100%|██████████| 3777/3777 [16:33<00:00,  3.80it/s]\n"
     ]
    },
    {
     "name": "stdout",
     "output_type": "stream",
     "text": [
      "Training Loss: 0.9376 Training Accuracy: 0.5793\n"
     ]
    },
    {
     "name": "stderr",
     "output_type": "stream",
     "text": [
      "100%|██████████| 500/500 [00:54<00:00,  9.12it/s]\n"
     ]
    },
    {
     "name": "stdout",
     "output_type": "stream",
     "text": [
      "Test Loss: 1.2544 Test Accuracy: 0.4143\n",
      "Epoch 17\n"
     ]
    },
    {
     "name": "stderr",
     "output_type": "stream",
     "text": [
      "100%|██████████| 3777/3777 [18:46<00:00,  3.35it/s]\n"
     ]
    },
    {
     "name": "stdout",
     "output_type": "stream",
     "text": [
      "Training Loss: 0.9381 Training Accuracy: 0.5766\n"
     ]
    },
    {
     "name": "stderr",
     "output_type": "stream",
     "text": [
      "100%|██████████| 500/500 [01:18<00:00,  6.40it/s]\n"
     ]
    },
    {
     "name": "stdout",
     "output_type": "stream",
     "text": [
      "Test Loss: 1.2545 Test Accuracy: 0.4175\n",
      "Epoch 18\n"
     ]
    },
    {
     "name": "stderr",
     "output_type": "stream",
     "text": [
      "100%|██████████| 3777/3777 [25:18<00:00,  2.49it/s]\n"
     ]
    },
    {
     "name": "stdout",
     "output_type": "stream",
     "text": [
      "Training Loss: 0.9403 Training Accuracy: 0.5768\n"
     ]
    },
    {
     "name": "stderr",
     "output_type": "stream",
     "text": [
      "100%|██████████| 500/500 [00:54<00:00,  9.11it/s]\n"
     ]
    },
    {
     "name": "stdout",
     "output_type": "stream",
     "text": [
      "Test Loss: 1.2536 Test Accuracy: 0.4178\n",
      "Epoch 19\n"
     ]
    },
    {
     "name": "stderr",
     "output_type": "stream",
     "text": [
      "100%|██████████| 3777/3777 [16:12<00:00,  3.88it/s]\n"
     ]
    },
    {
     "name": "stdout",
     "output_type": "stream",
     "text": [
      "Training Loss: 0.9387 Training Accuracy: 0.5758\n"
     ]
    },
    {
     "name": "stderr",
     "output_type": "stream",
     "text": [
      "100%|██████████| 500/500 [00:55<00:00,  9.05it/s]\n"
     ]
    },
    {
     "name": "stdout",
     "output_type": "stream",
     "text": [
      "Test Loss: 1.2555 Test Accuracy: 0.4140\n"
     ]
    },
    {
     "ename": "TypeError",
     "evalue": "can't convert cuda:0 device type tensor to numpy. Use Tensor.cpu() to copy the tensor to host memory first.",
     "output_type": "error",
     "traceback": [
      "\u001b[1;31m---------------------------------------------------------------------------\u001b[0m",
      "\u001b[1;31mTypeError\u001b[0m                                 Traceback (most recent call last)",
      "\u001b[1;32mc:\\Users\\Davide\\Documents\\MID\\step_by_step_try.ipynb Cell 8\u001b[0m in \u001b[0;36m2\n\u001b[0;32m     <a href='vscode-notebook-cell:/c%3A/Users/Davide/Documents/MID/step_by_step_try.ipynb#X10sZmlsZQ%3D%3D?line=21'>22</a>\u001b[0m \u001b[39mimport\u001b[39;00m \u001b[39mmatplotlib\u001b[39;00m\u001b[39m.\u001b[39;00m\u001b[39mpyplot\u001b[39;00m \u001b[39mas\u001b[39;00m \u001b[39mplt\u001b[39;00m\n\u001b[0;32m     <a href='vscode-notebook-cell:/c%3A/Users/Davide/Documents/MID/step_by_step_try.ipynb#X10sZmlsZQ%3D%3D?line=22'>23</a>\u001b[0m \u001b[39mimport\u001b[39;00m \u001b[39mnumpy\u001b[39;00m \u001b[39mas\u001b[39;00m \u001b[39mnp\u001b[39;00m\n\u001b[1;32m---> <a href='vscode-notebook-cell:/c%3A/Users/Davide/Documents/MID/step_by_step_try.ipynb#X10sZmlsZQ%3D%3D?line=24'>25</a>\u001b[0m results_train \u001b[39m=\u001b[39m np\u001b[39m.\u001b[39;49marray(results_train)\n\u001b[0;32m     <a href='vscode-notebook-cell:/c%3A/Users/Davide/Documents/MID/step_by_step_try.ipynb#X10sZmlsZQ%3D%3D?line=25'>26</a>\u001b[0m results_test \u001b[39m=\u001b[39m np\u001b[39m.\u001b[39marray(results_test)\n\u001b[0;32m     <a href='vscode-notebook-cell:/c%3A/Users/Davide/Documents/MID/step_by_step_try.ipynb#X10sZmlsZQ%3D%3D?line=27'>28</a>\u001b[0m fig, ax \u001b[39m=\u001b[39m plt\u001b[39m.\u001b[39msubplots(\u001b[39m1\u001b[39m, \u001b[39m2\u001b[39m, figsize\u001b[39m=\u001b[39m(\u001b[39m15\u001b[39m, \u001b[39m5\u001b[39m))\n",
      "File \u001b[1;32mc:\\Users\\Davide\\AppData\\Local\\Programs\\Python\\Python310\\lib\\site-packages\\torch\\_tensor.py:956\u001b[0m, in \u001b[0;36mTensor.__array__\u001b[1;34m(self, dtype)\u001b[0m\n\u001b[0;32m    954\u001b[0m     \u001b[39mreturn\u001b[39;00m handle_torch_function(Tensor\u001b[39m.\u001b[39m__array__, (\u001b[39mself\u001b[39m,), \u001b[39mself\u001b[39m, dtype\u001b[39m=\u001b[39mdtype)\n\u001b[0;32m    955\u001b[0m \u001b[39mif\u001b[39;00m dtype \u001b[39mis\u001b[39;00m \u001b[39mNone\u001b[39;00m:\n\u001b[1;32m--> 956\u001b[0m     \u001b[39mreturn\u001b[39;00m \u001b[39mself\u001b[39;49m\u001b[39m.\u001b[39;49mnumpy()\n\u001b[0;32m    957\u001b[0m \u001b[39melse\u001b[39;00m:\n\u001b[0;32m    958\u001b[0m     \u001b[39mreturn\u001b[39;00m \u001b[39mself\u001b[39m\u001b[39m.\u001b[39mnumpy()\u001b[39m.\u001b[39mastype(dtype, copy\u001b[39m=\u001b[39m\u001b[39mFalse\u001b[39;00m)\n",
      "\u001b[1;31mTypeError\u001b[0m: can't convert cuda:0 device type tensor to numpy. Use Tensor.cpu() to copy the tensor to host memory first."
     ]
    }
   ],
   "source": [
    "results_train = []\n",
    "results_test = []\n",
    "\n",
    "for epoch in range(num_epochs):\n",
    "    print(f\"Epoch {epoch}\")\n",
    "    train_loss, train_acc = train_model(model, train_dataloader, optimizer, criterion, device)\n",
    "    results_train.append([train_loss, train_acc])\n",
    "    print(f\"Training Loss: {train_loss:.4f} Training Accuracy: {train_acc:.4f}\")\n",
    "    test_loss, test_acc = test_model(model, test_dataloader, criterion, device)\n",
    "    results_test.append([test_loss, test_acc])\n",
    "    print(f\"Test Loss: {test_loss:.4f} Test Accuracy: {test_acc:.4f}\")\n",
    "    #if epoch % 5 == 0:\n",
    "    torch.save(model.state_dict(), f\"MIDmodel_{epoch}.pt\")\n",
    "    if epoch % 2 == 1:\n",
    "        learning_rate = learning_rate/2\n",
    "        optimizer = optim.Adam(model.parameters(), lr=learning_rate)\n",
    "\n",
    "# save the model\n",
    "torch.save(model.state_dict(), f\"MIDmodel.pt\")"
   ]
  },
  {
   "cell_type": "code",
   "execution_count": null,
   "metadata": {},
   "outputs": [
    {
     "data": {
      "image/png": "[encoded data removed]",
      "text/plain": [
       "<Figure size 1500x500 with 2 Axes>"
      ]
     },
     "metadata": {},
     "output_type": "display_data"
    }
   ],
   "source": [
    "# subplots with results\n",
    "import matplotlib.pyplot as plt\n",
    "import numpy as np\n",
    "\n",
    "\n",
    "fig, ax = plt.subplots(1, 2, figsize=(15, 5))\n",
    "ax[0].plot(np.array(results_train)[:, 0], label=\"train\")\n",
    "ax[0].plot(np.array(results_test)[:, 0], label=\"test\")\n",
    "ax[0].set_title(\"Loss\")\n",
    "ax[0].legend()\n",
    "ax[1].plot(np.array(results_train)[:, 1], label=\"train\")\n",
    "ax[1].plot(np.array(results_test)[:, 1], label=\"test\")\n",
    "ax[1].set_title(\"Accuracy\")\n",
    "ax[1].legend()\n",
    "plt.show()"
   ]
  },
  {
   "cell_type": "code",
   "execution_count": null,
   "metadata": {},
   "outputs": [
    {
     "name": "stderr",
     "output_type": "stream",
     "text": [
      "c:\\Users\\Davide\\AppData\\Local\\Programs\\Python\\Python310\\lib\\site-packages\\torchvision\\models\\_utils.py:208: UserWarning: The parameter 'pretrained' is deprecated since 0.13 and may be removed in the future, please use 'weights' instead.\n",
      "  warnings.warn(\n",
      "c:\\Users\\Davide\\AppData\\Local\\Programs\\Python\\Python310\\lib\\site-packages\\torchvision\\models\\_utils.py:223: UserWarning: Arguments other than a weight enum or `None` for 'weights' are deprecated since 0.13 and may be removed in the future. The current behavior is equivalent to passing `weights=SqueezeNet1_1_Weights.IMAGENET1K_V1`. You can also use `weights=SqueezeNet1_1_Weights.DEFAULT` to get the most up-to-date weights.\n",
      "  warnings.warn(msg)\n",
      "100%|██████████| 2189/2189 [04:00<00:00,  9.12it/s]\n"
     ]
    },
    {
     "name": "stdout",
     "output_type": "stream",
     "text": [
      "Test Loss: 1.5062 Test Accuracy: 0.4978\n"
     ]
    },
    {
     "name": "stderr",
     "output_type": "stream",
     "text": [
      "100%|██████████| 2189/2189 [03:46<00:00,  9.64it/s]\n"
     ]
    },
    {
     "data": {
      "image/png": "[encoded data removed]",
      "text/plain": [
       "<Figure size 640x480 with 2 Axes>"
      ]
     },
     "metadata": {},
     "output_type": "display_data"
    }
   ],
   "source": [
    "# load the MIDmodel_old\n",
    "model = MIDmodel()\n",
    "model.load_state_dict(torch.load(\"MIDmodel_old.pt\"))\n",
    "model = model.to(device)\n",
    "# test the model on the test set\n",
    "test_dataset = ImageDataset(data_dir, test_patients, images_df)\n",
    "test_dataloader = DataLoader(test_dataset, batch_size=batch_size, shuffle=False)\n",
    "test_loss, test_acc = test_model(model, test_dataloader, criterion, device)\n",
    "print(f\"Test Loss: {test_loss:.4f} Test Accuracy: {test_acc:.4f}\")\n",
    "\n",
    "# create the confusion matrix\n",
    "from sklearn.metrics import confusion_matrix\n",
    "import seaborn as sns\n",
    "import matplotlib.pyplot as plt\n",
    "\n",
    "model.eval()\n",
    "y_true = []\n",
    "y_pred = []\n",
    "with torch.no_grad():\n",
    "    for inputs, labels, _ in tqdm(test_dataloader):\n",
    "        inputs = inputs.to(device)\n",
    "        labels = labels.to(device)\n",
    "        outputs = model(inputs)\n",
    "        _, preds = torch.max(outputs, 1)\n",
    "        y_true.extend(labels.cpu().numpy())\n",
    "        y_pred.extend(preds.cpu().numpy())\n",
    "\n",
    "cm = confusion_matrix(y_true, y_pred)\n",
    "sns.heatmap(cm, annot=True, fmt=\"d\")\n",
    "plt.show()\n",
    "\n"
   ]
  },
  {
   "attachments": {},
   "cell_type": "markdown",
   "metadata": {},
   "source": [
    "Classifier to predict if the confidence is high enough, created on the train dataset"
   ]
  },
  {
   "cell_type": "code",
   "execution_count": null,
   "metadata": {},
   "outputs": [
    {
     "name": "stderr",
     "output_type": "stream",
     "text": [
      "c:\\Users\\Davide\\AppData\\Local\\Programs\\Python\\Python310\\lib\\site-packages\\torchvision\\models\\_utils.py:208: UserWarning: The parameter 'pretrained' is deprecated since 0.13 and may be removed in the future, please use 'weights' instead.\n",
      "  warnings.warn(\n",
      "c:\\Users\\Davide\\AppData\\Local\\Programs\\Python\\Python310\\lib\\site-packages\\torchvision\\models\\_utils.py:223: UserWarning: Arguments other than a weight enum or `None` for 'weights' are deprecated since 0.13 and may be removed in the future. The current behavior is equivalent to passing `weights=SqueezeNet1_1_Weights.IMAGENET1K_V1`. You can also use `weights=SqueezeNet1_1_Weights.DEFAULT` to get the most up-to-date weights.\n",
      "  warnings.warn(msg)\n",
      "100%|██████████| 17512/17512 [05:38<00:00, 51.80it/s]\n"
     ]
    }
   ],
   "source": [
    "# load the last model\n",
    "model = MIDmodel()\n",
    "model.load_state_dict(torch.load(\"MIDmodel_old.pt\"))\n",
    "model.to(device)\n",
    "model.eval()\n",
    "\n",
    "correct_preds = pd.DataFrame(columns=[\"path\", \"true\", \"predicted\", \"sm0\", \"sm1\", \"sm2\", \"sm3\"])\n",
    "wrong_preds = pd.DataFrame(columns=[\"path\", \"true\", \"predicted\", \"sm0\", \"sm1\", \"sm2\", \"sm3\"])\n",
    "\n",
    "for i in tqdm(range(len(test_dataset))):\n",
    "    img, label, path = test_dataset[i]\n",
    "    img = img.unsqueeze(0)\n",
    "    img = img.to(device)\n",
    "    output = model(img)\n",
    "    sm = nn.Softmax(dim=1)\n",
    "    sm = sm(output)\n",
    "    sm = sm.cpu().detach().numpy()\n",
    "    sm = sm[0]\n",
    "    if torch.argmax(output) == label:\n",
    "        correct_preds = pd.concat([correct_preds, pd.DataFrame([[path, label, torch.argmax(output).cpu().detach().numpy(), sm[0], sm[1], sm[2], sm[3]]], columns=[\"path\", \"true\", \"predicted\", \"sm0\", \"sm1\", \"sm2\", \"sm3\"])])\n",
    "    else:\n",
    "        wrong_preds = pd.concat([wrong_preds, pd.DataFrame([[path, label, torch.argmax(output).cpu().detach().numpy(), sm[0], sm[1], sm[2], sm[3]]], columns=[\"path\", \"true\", \"predicted\", \"sm0\", \"sm1\", \"sm2\", \"sm3\"])])\n",
    "\n",
    "correct_preds.to_csv(\"correct_preds_test.csv\", index=False)\n",
    "wrong_preds.to_csv(\"wrong_preds_test.csv\", index=False)\n"
   ]
  },
  {
   "cell_type": "code",
   "execution_count": null,
   "metadata": {},
   "outputs": [],
   "source": [
    "correct_preds = pd.read_csv(\"correct_preds_test.csv\")\n",
    "wrong_preds = pd.read_csv(\"wrong_preds_test.csv\")\n",
    "\n",
    "# add a clumn to correct_preds and wrong_preds that says if it's correct or not\n",
    "correct_preds[\"correct\"] = 1\n",
    "wrong_preds[\"correct\"] = 0\n",
    "# stack the two dataframes\n",
    "preds_total = pd.concat([correct_preds, wrong_preds])\n",
    "# remove true and predicted columns\n",
    "# preds_total = preds_total.drop([\"true\", \"predicted\"], axis=1)\n",
    "# save the values\n",
    "preds_total.to_csv(\"values_test.csv\", index=False)"
   ]
  },
  {
   "cell_type": "markdown",
   "metadata": {},
   "source": [
    "DL model to binary classify images"
   ]
  },
  {
   "cell_type": "code",
   "execution_count": null,
   "metadata": {},
   "outputs": [],
   "source": [
    "\n",
    "class MIDbinary(nn.Module):\n",
    "    def __init__(self):\n",
    "        super(MIDbinary, self).__init__()\n",
    "        self.fc1 = nn.Linear(4, 8)\n",
    "        self.fc4 = nn.Linear(8, 2)\n",
    "        self.dropout = nn.Dropout(0.3)\n",
    "        self.relu = nn.ReLU()\n",
    "        self.softmax = nn.Softmax(dim=1)\n",
    "\n",
    "    def forward(self, x):\n",
    "        x = self.relu(self.fc1(x))\n",
    "        x = self.fc4(x)\n",
    "        x = self.softmax(x)\n",
    "        return x\n",
    "    \n",
    "# BinaryDataset\n",
    "class BinaryDataset(Dataset):\n",
    "    def __init__(self, preds):\n",
    "        self.preds = preds\n",
    "\n",
    "    def __len__(self):\n",
    "        return len(self.preds)\n",
    "\n",
    "    def __getitem__(self, idx):\n",
    "        label = self.preds.iloc[idx][\"correct\"]\n",
    "        sms = self.preds.iloc[idx][[\"sm0\", \"sm1\", \"sm2\", \"sm3\"]]\n",
    "        sms = torch.tensor(list(sms.values), dtype=torch.float32)\n",
    "        return sms, int(label), self.preds.iloc[idx][\"path\"]"
   ]
  },
  {
   "cell_type": "code",
   "execution_count": null,
   "metadata": {},
   "outputs": [
    {
     "name": "stdout",
     "output_type": "stream",
     "text": [
      "Epoch 0\n"
     ]
    },
    {
     "name": "stderr",
     "output_type": "stream",
     "text": [
      "100%|██████████| 3777/3777 [00:18<00:00, 201.68it/s]\n"
     ]
    },
    {
     "name": "stdout",
     "output_type": "stream",
     "text": [
      "Training Loss: 0.7014 Training Accuracy: 0.3516\n"
     ]
    },
    {
     "name": "stderr",
     "output_type": "stream",
     "text": [
      "100%|██████████| 2189/2189 [00:09<00:00, 237.80it/s]\n"
     ]
    },
    {
     "name": "stdout",
     "output_type": "stream",
     "text": [
      "Test Loss: 0.6958 Test Accuracy: 0.4181\n",
      "Epoch 1\n"
     ]
    },
    {
     "name": "stderr",
     "output_type": "stream",
     "text": [
      "100%|██████████| 3777/3777 [00:18<00:00, 205.37it/s]\n"
     ]
    },
    {
     "name": "stdout",
     "output_type": "stream",
     "text": [
      "Training Loss: 0.6800 Training Accuracy: 0.7852\n"
     ]
    },
    {
     "name": "stderr",
     "output_type": "stream",
     "text": [
      "100%|██████████| 2189/2189 [00:09<00:00, 231.36it/s]\n"
     ]
    },
    {
     "name": "stdout",
     "output_type": "stream",
     "text": [
      "Test Loss: 0.6961 Test Accuracy: 0.4978\n",
      "Epoch 2\n"
     ]
    },
    {
     "name": "stderr",
     "output_type": "stream",
     "text": [
      "100%|██████████| 3777/3777 [00:18<00:00, 206.96it/s]\n"
     ]
    },
    {
     "name": "stdout",
     "output_type": "stream",
     "text": [
      "Training Loss: 0.6675 Training Accuracy: 0.8108\n"
     ]
    },
    {
     "name": "stderr",
     "output_type": "stream",
     "text": [
      "100%|██████████| 2189/2189 [00:09<00:00, 232.75it/s]\n"
     ]
    },
    {
     "name": "stdout",
     "output_type": "stream",
     "text": [
      "Test Loss: 0.6968 Test Accuracy: 0.4978\n",
      "Epoch 3\n"
     ]
    },
    {
     "name": "stderr",
     "output_type": "stream",
     "text": [
      "100%|██████████| 3777/3777 [00:18<00:00, 208.43it/s]\n"
     ]
    },
    {
     "name": "stdout",
     "output_type": "stream",
     "text": [
      "Training Loss: 0.6588 Training Accuracy: 0.8108\n"
     ]
    },
    {
     "name": "stderr",
     "output_type": "stream",
     "text": [
      "100%|██████████| 2189/2189 [00:09<00:00, 238.22it/s]\n"
     ]
    },
    {
     "name": "stdout",
     "output_type": "stream",
     "text": [
      "Test Loss: 0.6973 Test Accuracy: 0.4978\n",
      "Epoch 4\n"
     ]
    },
    {
     "name": "stderr",
     "output_type": "stream",
     "text": [
      "100%|██████████| 3777/3777 [00:18<00:00, 206.09it/s]\n"
     ]
    },
    {
     "name": "stdout",
     "output_type": "stream",
     "text": [
      "Training Loss: 0.6534 Training Accuracy: 0.8108\n"
     ]
    },
    {
     "name": "stderr",
     "output_type": "stream",
     "text": [
      "100%|██████████| 2189/2189 [00:09<00:00, 232.28it/s]\n"
     ]
    },
    {
     "name": "stdout",
     "output_type": "stream",
     "text": [
      "Test Loss: 0.6978 Test Accuracy: 0.4978\n",
      "Epoch 5\n"
     ]
    },
    {
     "name": "stderr",
     "output_type": "stream",
     "text": [
      " 25%|██▍       | 935/3777 [00:04<00:13, 205.11it/s]\n"
     ]
    },
    {
     "ename": "KeyboardInterrupt",
     "evalue": "",
     "output_type": "error",
     "traceback": [
      "\u001b[1;31m---------------------------------------------------------------------------\u001b[0m",
      "\u001b[1;31mKeyboardInterrupt\u001b[0m                         Traceback (most recent call last)",
      "\u001b[1;32mc:\\Users\\Davide\\Documents\\MID\\step_by_step_try.ipynb Cell 16\u001b[0m in \u001b[0;36m2\n\u001b[0;32m     <a href='vscode-notebook-cell:/c%3A/Users/Davide/Documents/MID/step_by_step_try.ipynb#X20sZmlsZQ%3D%3D?line=21'>22</a>\u001b[0m \u001b[39mfor\u001b[39;00m epoch \u001b[39min\u001b[39;00m \u001b[39mrange\u001b[39m(num_epochs):\n\u001b[0;32m     <a href='vscode-notebook-cell:/c%3A/Users/Davide/Documents/MID/step_by_step_try.ipynb#X20sZmlsZQ%3D%3D?line=22'>23</a>\u001b[0m     \u001b[39mprint\u001b[39m(\u001b[39mf\u001b[39m\u001b[39m\"\u001b[39m\u001b[39mEpoch \u001b[39m\u001b[39m{\u001b[39;00mepoch\u001b[39m}\u001b[39;00m\u001b[39m\"\u001b[39m)\n\u001b[1;32m---> <a href='vscode-notebook-cell:/c%3A/Users/Davide/Documents/MID/step_by_step_try.ipynb#X20sZmlsZQ%3D%3D?line=23'>24</a>\u001b[0m     train_loss, train_acc \u001b[39m=\u001b[39m train_model(binary_model, train_dataloader_bin, optimizer, criterion, device)\n\u001b[0;32m     <a href='vscode-notebook-cell:/c%3A/Users/Davide/Documents/MID/step_by_step_try.ipynb#X20sZmlsZQ%3D%3D?line=24'>25</a>\u001b[0m     results_train\u001b[39m.\u001b[39mappend([train_loss, train_acc\u001b[39m.\u001b[39mitem()])\n\u001b[0;32m     <a href='vscode-notebook-cell:/c%3A/Users/Davide/Documents/MID/step_by_step_try.ipynb#X20sZmlsZQ%3D%3D?line=25'>26</a>\u001b[0m     \u001b[39mprint\u001b[39m(\u001b[39mf\u001b[39m\u001b[39m\"\u001b[39m\u001b[39mTraining Loss: \u001b[39m\u001b[39m{\u001b[39;00mtrain_loss\u001b[39m:\u001b[39;00m\u001b[39m.4f\u001b[39m\u001b[39m}\u001b[39;00m\u001b[39m Training Accuracy: \u001b[39m\u001b[39m{\u001b[39;00mtrain_acc\u001b[39m:\u001b[39;00m\u001b[39m.4f\u001b[39m\u001b[39m}\u001b[39;00m\u001b[39m\"\u001b[39m)\n",
      "\u001b[1;32mc:\\Users\\Davide\\Documents\\MID\\step_by_step_try.ipynb Cell 16\u001b[0m in \u001b[0;36m1\n\u001b[0;32m     <a href='vscode-notebook-cell:/c%3A/Users/Davide/Documents/MID/step_by_step_try.ipynb#X20sZmlsZQ%3D%3D?line=14'>15</a>\u001b[0m     loss\u001b[39m.\u001b[39mbackward()\n\u001b[0;32m     <a href='vscode-notebook-cell:/c%3A/Users/Davide/Documents/MID/step_by_step_try.ipynb#X20sZmlsZQ%3D%3D?line=15'>16</a>\u001b[0m     optimizer\u001b[39m.\u001b[39mstep()\n\u001b[1;32m---> <a href='vscode-notebook-cell:/c%3A/Users/Davide/Documents/MID/step_by_step_try.ipynb#X20sZmlsZQ%3D%3D?line=16'>17</a>\u001b[0m     running_loss \u001b[39m+\u001b[39m\u001b[39m=\u001b[39m loss\u001b[39m.\u001b[39;49mitem() \u001b[39m*\u001b[39m inputs\u001b[39m.\u001b[39msize(\u001b[39m0\u001b[39m)\n\u001b[0;32m     <a href='vscode-notebook-cell:/c%3A/Users/Davide/Documents/MID/step_by_step_try.ipynb#X20sZmlsZQ%3D%3D?line=17'>18</a>\u001b[0m     running_corrects \u001b[39m+\u001b[39m\u001b[39m=\u001b[39m torch\u001b[39m.\u001b[39msum(preds \u001b[39m==\u001b[39m labels\u001b[39m.\u001b[39mdata)\n\u001b[0;32m     <a href='vscode-notebook-cell:/c%3A/Users/Davide/Documents/MID/step_by_step_try.ipynb#X20sZmlsZQ%3D%3D?line=18'>19</a>\u001b[0m epoch_loss \u001b[39m=\u001b[39m running_loss \u001b[39m/\u001b[39m \u001b[39mlen\u001b[39m(dataloader\u001b[39m.\u001b[39mdataset)\n",
      "\u001b[1;31mKeyboardInterrupt\u001b[0m: "
     ]
    }
   ],
   "source": [
    "import matplotlib.pyplot as plt\n",
    "\n",
    "# train the binary model\n",
    "binary_model = MIDbinary()\n",
    "binary_model = binary_model.to(device)\n",
    "criterion = nn.CrossEntropyLoss()\n",
    "learning_rate = 0.0001\n",
    "optimizer = optim.SGD(binary_model.parameters(), lr=learning_rate)\n",
    "\n",
    "train_values = pd.read_csv(\"values_train.csv\")\n",
    "test_values = pd.read_csv(\"values_test.csv\")\n",
    "\n",
    "train_dataset_bin = BinaryDataset(train_values)\n",
    "test_dataset_bin = BinaryDataset(test_values)\n",
    "train_dataloader_bin = DataLoader(train_dataset_bin, batch_size=batch_size, shuffle=True)\n",
    "test_dataloader_bin = DataLoader(test_dataset_bin, batch_size=batch_size, shuffle=True)\n",
    "\n",
    "results_train = []\n",
    "results_test = []\n",
    "num_epochs = 10\n",
    "\n",
    "for epoch in range(num_epochs):\n",
    "    print(f\"Epoch {epoch}\")\n",
    "    train_loss, train_acc = train_model(binary_model, train_dataloader_bin, optimizer, criterion, device)\n",
    "    results_train.append([train_loss, train_acc.item()])\n",
    "    print(f\"Training Loss: {train_loss:.4f} Training Accuracy: {train_acc:.4f}\")\n",
    "    test_loss, test_acc = test_model(binary_model, test_dataloader_bin, criterion, device)\n",
    "    results_test.append([test_loss, test_acc.item()])\n",
    "    print(f\"Test Loss: {test_loss:.4f} Test Accuracy: {test_acc:.4f}\")\n",
    "    if( epoch > 0  and (results_train[len(results_train)-1][0] >=  results_train[len(results_train)-2][0])):\n",
    "        print(results_train[len(results_train)-1], results_train[len(results_train)-2])\n",
    "        print(\"Overfitting\")\n",
    "        break\n",
    "    if epoch % 2 == 0:\n",
    "        learning_rate = learning_rate/2\n",
    "        optimizer = optim.SGD(binary_model.parameters(), lr=learning_rate)\n",
    "\n",
    "print(\"Train: \", results_train)\n",
    "print(\"Test: \", results_test)\n",
    "\n",
    "# subplots with train[0], train[1], test[0], test[1]\n",
    "fig, axs = plt.subplots(2, 2)\n",
    "axs[0, 0].plot([i[0] for i in results_train])\n",
    "axs[0, 0].set_title(\"Train Loss\")\n",
    "axs[0, 1].plot([i[1] for i in results_train])\n",
    "axs[0, 1].set_title(\"Train Accuracy\")\n",
    "axs[1, 0].plot([i[0] for i in results_test])\n",
    "axs[1, 0].set_title(\"Test Loss\")\n",
    "axs[1, 1].plot([i[1] for i in results_test])\n",
    "axs[1, 1].set_title(\"Test Accuracy\")\n",
    "plt.show()"
   ]
  },
  {
   "cell_type": "code",
   "execution_count": null,
   "metadata": {},
   "outputs": [
    {
     "name": "stderr",
     "output_type": "stream",
     "text": [
      "c:\\Users\\Davide\\AppData\\Local\\Programs\\Python\\Python310\\lib\\site-packages\\torchvision\\models\\_utils.py:208: UserWarning: The parameter 'pretrained' is deprecated since 0.13 and may be removed in the future, please use 'weights' instead.\n",
      "  warnings.warn(\n",
      "c:\\Users\\Davide\\AppData\\Local\\Programs\\Python\\Python310\\lib\\site-packages\\torchvision\\models\\_utils.py:223: UserWarning: Arguments other than a weight enum or `None` for 'weights' are deprecated since 0.13 and may be removed in the future. The current behavior is equivalent to passing `weights=SqueezeNet1_1_Weights.IMAGENET1K_V1`. You can also use `weights=SqueezeNet1_1_Weights.DEFAULT` to get the most up-to-date weights.\n",
      "  warnings.warn(msg)\n",
      "100%|██████████| 17512/17512 [04:25<00:00, 65.92it/s]"
     ]
    },
    {
     "name": "stdout",
     "output_type": "stream",
     "text": [
      "Usefulness of the binary model (test set):\n",
      "Useful:  8718\n",
      "Useful[%]:  49.78300593878483\n",
      "Useless:  8794\n",
      "Useless[%]:  50.21699406121517\n"
     ]
    },
    {
     "name": "stderr",
     "output_type": "stream",
     "text": [
      "\n"
     ]
    }
   ],
   "source": [
    "model = MIDmodel()\n",
    "model.load_state_dict(torch.load(\"MIDmodel_old.pt\"))\n",
    "model.to(device)\n",
    "model.eval()\n",
    "\n",
    "# get the predictions for the test set and pass it to the binary model\n",
    "usefulcount = 0\n",
    "uselesscount = 0\n",
    "for i in tqdm(range(len(test_dataset))):\n",
    "    img, label, _ = test_dataset[i]\n",
    "    img = img.to(device)\n",
    "    img = img.unsqueeze(0)\n",
    "    output = model(img)\n",
    "    sm = torch.nn.functional.softmax(output, dim=1)\n",
    "    # print(sm)\n",
    "    binary_output = binary_model(sm)\n",
    "    predicted_label = torch.argmax(output).cpu().detach().numpy()\n",
    "    predicted_binary = torch.argmax(binary_output).cpu().detach().numpy()\n",
    "    # print(f\"True label: {label} Predicted label: {predicted_label} Binary output: {predicted_binary}\")\n",
    "    if((predicted_label != label and predicted_binary == 0) or (predicted_label == label and predicted_binary == 1)):\n",
    "        usefulcount += 1\n",
    "    else:\n",
    "        uselesscount += 1\n",
    "\n",
    "print(\"Usefulness of the binary model (test set):\")\n",
    "print(\"Useful: \", usefulcount)\n",
    "print(\"Useful[%]: \", usefulcount/(usefulcount+uselesscount)*100)\n",
    "print(\"Useless: \", uselesscount)\n",
    "print(\"Useless[%]: \", uselesscount/(usefulcount+uselesscount)*100)"
   ]
  },
  {
   "cell_type": "code",
   "execution_count": null,
   "metadata": {},
   "outputs": [
    {
     "name": "stdout",
     "output_type": "stream",
     "text": [
      "Train correct = 1:  24493\n",
      "Train correct = 0:  5716\n",
      "Test correct = 1:  8718\n",
      "Test correct = 0:  8794\n",
      "Train correct = 1:  5716\n",
      "Train correct = 0:  5716\n"
     ]
    },
    {
     "name": "stderr",
     "output_type": "stream",
     "text": [
      "C:\\Users\\Davide\\AppData\\Local\\Temp\\ipykernel_17104\\516717542.py:25: FutureWarning: The frame.append method is deprecated and will be removed from pandas in a future version. Use pandas.concat instead.\n",
      "  preds_tmp = preds_tmp.append(pred_train[pred_train[\"correct\"] == 1][:len(preds_tmp)])\n"
     ]
    },
    {
     "name": "stdout",
     "output_type": "stream",
     "text": [
      "Accuracy:  0.6337368661489264\n"
     ]
    }
   ],
   "source": [
    "# simple binary classificator with svc\n",
    "from sklearn.svm import SVC\n",
    "from sklearn.metrics import accuracy_score\n",
    "from sklearn.model_selection import train_test_split\n",
    "\n",
    "# load the values\n",
    "pred_train = pd.read_csv(\"values_train.csv\")\n",
    "pred_test = pd.read_csv(\"values_test.csv\")\n",
    "\n",
    "# X_train, X_test, y_train, y_test = train_test_split(preds_total.drop(\"correct\", axis=1), preds_total[\"correct\"], test_size=0.2)\n",
    "pred_train = pred_train.drop(\"path\", axis=1)\n",
    "pred_test = pred_test.drop(\"path\", axis=1)\n",
    "pred_train = pred_train.drop(\"true\", axis=1)\n",
    "pred_test = pred_test.drop(\"true\", axis=1)\n",
    "pred_test = pred_test.drop(\"predicted\", axis=1)\n",
    "pred_train = pred_train.drop(\"predicted\", axis=1)\n",
    "\n",
    "# we need preds_train and preds_test to have 50% of correct = 1 and 50% of correct = 0, but the dataset is not balanced\n",
    "# so we need to balance it\n",
    "print(\"Train correct = 1: \", len(pred_train[pred_train[\"correct\"] == 1]))\n",
    "print(\"Train correct = 0: \", len(pred_train[pred_train[\"correct\"] == 0]))\n",
    "print(\"Test correct = 1: \", len(pred_test[pred_test[\"correct\"] == 1]))\n",
    "print(\"Test correct = 0: \", len(pred_test[pred_test[\"correct\"] == 0]))\n",
    "preds_tmp = pred_train[pred_train[\"correct\"] == 0]\n",
    "preds_tmp = preds_tmp.append(pred_train[pred_train[\"correct\"] == 1][:len(preds_tmp)])\n",
    "pred_train = preds_tmp\n",
    "print(\"Train correct = 1: \", len(pred_train[pred_train[\"correct\"] == 1]))\n",
    "print(\"Train correct = 0: \", len(pred_train[pred_train[\"correct\"] == 0]))\n",
    "\n",
    "\n",
    "X_train = pred_train.drop(\"correct\", axis=1)\n",
    "y_train = pred_train[\"correct\"]\n",
    "X_test = pred_test.drop(\"correct\", axis=1)\n",
    "y_test = pred_test[\"correct\"]\n",
    "clf = SVC()\n",
    "clf.fit(X_train, y_train)\n",
    "y_pred = clf.predict(X_test)\n",
    "print(\"Accuracy: \", accuracy_score(y_test, y_pred))\n",
    "# save clf to file\n",
    "import pickle\n",
    "pickle.dump(clf, open(\"svc.pkl\", \"wb\"))\n"
   ]
  },
  {
   "cell_type": "code",
   "execution_count": null,
   "metadata": {},
   "outputs": [
    {
     "name": "stderr",
     "output_type": "stream",
     "text": [
      "c:\\Users\\Davide\\AppData\\Local\\Programs\\Python\\Python310\\lib\\site-packages\\torchvision\\models\\_utils.py:208: UserWarning: The parameter 'pretrained' is deprecated since 0.13 and may be removed in the future, please use 'weights' instead.\n",
      "  warnings.warn(\n",
      "c:\\Users\\Davide\\AppData\\Local\\Programs\\Python\\Python310\\lib\\site-packages\\torchvision\\models\\_utils.py:223: UserWarning: Arguments other than a weight enum or `None` for 'weights' are deprecated since 0.13 and may be removed in the future. The current behavior is equivalent to passing `weights=SqueezeNet1_1_Weights.IMAGENET1K_V1`. You can also use `weights=SqueezeNet1_1_Weights.DEFAULT` to get the most up-to-date weights.\n",
      "  warnings.warn(msg)\n",
      "100%|██████████| 17512/17512 [05:06<00:00, 57.19it/s]"
     ]
    },
    {
     "name": "stdout",
     "output_type": "stream",
     "text": [
      "Usefulness of the SVC (test set):\n",
      "Useful:  11098\n",
      "Useful[%]:  63.37368661489264\n",
      "Useless:  6414\n",
      "Useless[%]:  36.62631338510736\n"
     ]
    },
    {
     "name": "stderr",
     "output_type": "stream",
     "text": [
      "\n"
     ]
    }
   ],
   "source": [
    "model = MIDmodel()\n",
    "model.load_state_dict(torch.load(\"MIDmodel_old.pt\"))\n",
    "model.to(device)\n",
    "model.eval()\n",
    "# read svc model from file\n",
    "clf = pickle.load(open(\"svc.pkl\", 'rb'))\n",
    "entire_dataset = ImageDataset(data_dir, patients_ids, images_df)\n",
    "\n",
    "# get the predictions for the test set and pass it to the binary model\n",
    "usefulcount = 0\n",
    "uselesscount = 0\n",
    "for i in tqdm(range(len(test_dataset))):\n",
    "    img, label, paths = test_dataset[i]\n",
    "    img = img.to(device)\n",
    "    img = img.unsqueeze(0)\n",
    "    output = model(img)\n",
    "    sm = torch.nn.functional.softmax(output, dim=1)\n",
    "    sm =sm.cpu().detach().numpy()\n",
    "    binary_output = clf.predict(pd.DataFrame(sm, columns=[\"sm0\", \"sm1\", \"sm2\", \"sm3\"]))\n",
    "    predicted_label = torch.argmax(output).cpu().detach().numpy()\n",
    "    predicted_binary = binary_output[0]\n",
    "    # print(f\"True label: {label} Predicted label: {predicted_label} Binary output: {predicted_binary}\")\n",
    "    if((predicted_label != label and predicted_binary == 0) or (predicted_label == label and predicted_binary == 1)):\n",
    "        usefulcount += 1\n",
    "    else:\n",
    "        uselesscount += 1\n",
    "\n",
    "\n",
    "print(\"Usefulness of the SVC (test set):\")\n",
    "print(\"Useful: \", usefulcount)\n",
    "print(\"Useful[%]: \", usefulcount/(usefulcount+uselesscount)*100)\n",
    "print(\"Useless: \", uselesscount)\n",
    "print(\"Useless[%]: \", uselesscount/(usefulcount+uselesscount)*100)\n",
    "    \n"
   ]
  },
  {
   "attachments": {},
   "cell_type": "markdown",
   "metadata": {},
   "source": [
    "t-SNE to visualize only the correct prediction **behavor-wise**"
   ]
  },
  {
   "cell_type": "code",
   "execution_count": 20,
   "metadata": {},
   "outputs": [
    {
     "name": "stderr",
     "output_type": "stream",
     "text": [
      "  0%|          | 0/17512 [00:00<?, ?it/s]C:\\Users\\Davide\\AppData\\Local\\Temp\\ipykernel_19796\\477561138.py:21: FutureWarning: The frame.append method is deprecated and will be removed from pandas in a future version. Use pandas.concat instead.\n",
      "  values = values.append(values_test.iloc[i], ignore_index=True)\n",
      "  0%|          | 5/17512 [02:05<122:19:27, 25.15s/it]\n"
     ]
    },
    {
     "ename": "KeyboardInterrupt",
     "evalue": "",
     "output_type": "error",
     "traceback": [
      "\u001b[1;31m---------------------------------------------------------------------------\u001b[0m",
      "\u001b[1;31mKeyboardInterrupt\u001b[0m                         Traceback (most recent call last)",
      "\u001b[1;32mc:\\Users\\Davide\\Documents\\MID\\step_by_step_try.ipynb Cell 21\u001b[0m in \u001b[0;36m2\n\u001b[0;32m     <a href='vscode-notebook-cell:/c%3A/Users/Davide/Documents/MID/step_by_step_try.ipynb#X30sZmlsZQ%3D%3D?line=23'>24</a>\u001b[0m points \u001b[39m=\u001b[39m values[[\u001b[39m\"\u001b[39m\u001b[39msm0\u001b[39m\u001b[39m\"\u001b[39m, \u001b[39m\"\u001b[39m\u001b[39msm1\u001b[39m\u001b[39m\"\u001b[39m, \u001b[39m\"\u001b[39m\u001b[39msm2\u001b[39m\u001b[39m\"\u001b[39m, \u001b[39m\"\u001b[39m\u001b[39msm3\u001b[39m\u001b[39m\"\u001b[39m]]\u001b[39m.\u001b[39mvalues\n\u001b[0;32m     <a href='vscode-notebook-cell:/c%3A/Users/Davide/Documents/MID/step_by_step_try.ipynb#X30sZmlsZQ%3D%3D?line=25'>26</a>\u001b[0m tsne \u001b[39m=\u001b[39m TSNE(n_components\u001b[39m=\u001b[39m\u001b[39m2\u001b[39m, verbose\u001b[39m=\u001b[39m\u001b[39m0\u001b[39m, perplexity\u001b[39m=\u001b[39m\u001b[39m40\u001b[39m, n_iter\u001b[39m=\u001b[39m\u001b[39m400\u001b[39m)\n\u001b[1;32m---> <a href='vscode-notebook-cell:/c%3A/Users/Davide/Documents/MID/step_by_step_try.ipynb#X30sZmlsZQ%3D%3D?line=26'>27</a>\u001b[0m tsne_results \u001b[39m=\u001b[39m tsne\u001b[39m.\u001b[39;49mfit_transform(points)\n\u001b[0;32m     <a href='vscode-notebook-cell:/c%3A/Users/Davide/Documents/MID/step_by_step_try.ipynb#X30sZmlsZQ%3D%3D?line=28'>29</a>\u001b[0m distances \u001b[39m=\u001b[39m np\u001b[39m.\u001b[39mlinalg\u001b[39m.\u001b[39mnorm(tsne_results \u001b[39m-\u001b[39m tsne_results[\u001b[39mlen\u001b[39m(tsne_results)\u001b[39m-\u001b[39m\u001b[39m1\u001b[39m], axis\u001b[39m=\u001b[39m\u001b[39m1\u001b[39m)\n\u001b[0;32m     <a href='vscode-notebook-cell:/c%3A/Users/Davide/Documents/MID/step_by_step_try.ipynb#X30sZmlsZQ%3D%3D?line=30'>31</a>\u001b[0m \u001b[39mfor\u001b[39;00m j \u001b[39min\u001b[39;00m \u001b[39mrange\u001b[39m(\u001b[39m2\u001b[39m,\u001b[39m22\u001b[39m):\n",
      "File \u001b[1;32mc:\\Users\\Davide\\AppData\\Local\\Programs\\Python\\Python310\\lib\\site-packages\\sklearn\\manifold\\_t_sne.py:1117\u001b[0m, in \u001b[0;36mTSNE.fit_transform\u001b[1;34m(self, X, y)\u001b[0m\n\u001b[0;32m   1115\u001b[0m \u001b[39mself\u001b[39m\u001b[39m.\u001b[39m_validate_params()\n\u001b[0;32m   1116\u001b[0m \u001b[39mself\u001b[39m\u001b[39m.\u001b[39m_check_params_vs_input(X)\n\u001b[1;32m-> 1117\u001b[0m embedding \u001b[39m=\u001b[39m \u001b[39mself\u001b[39;49m\u001b[39m.\u001b[39;49m_fit(X)\n\u001b[0;32m   1118\u001b[0m \u001b[39mself\u001b[39m\u001b[39m.\u001b[39membedding_ \u001b[39m=\u001b[39m embedding\n\u001b[0;32m   1119\u001b[0m \u001b[39mreturn\u001b[39;00m \u001b[39mself\u001b[39m\u001b[39m.\u001b[39membedding_\n",
      "File \u001b[1;32mc:\\Users\\Davide\\AppData\\Local\\Programs\\Python\\Python310\\lib\\site-packages\\sklearn\\manifold\\_t_sne.py:1010\u001b[0m, in \u001b[0;36mTSNE._fit\u001b[1;34m(self, X, skip_num_points)\u001b[0m\n\u001b[0;32m   1004\u001b[0m \u001b[39m# Degrees of freedom of the Student's t-distribution. The suggestion\u001b[39;00m\n\u001b[0;32m   1005\u001b[0m \u001b[39m# degrees_of_freedom = n_components - 1 comes from\u001b[39;00m\n\u001b[0;32m   1006\u001b[0m \u001b[39m# \"Learning a Parametric Embedding by Preserving Local Structure\"\u001b[39;00m\n\u001b[0;32m   1007\u001b[0m \u001b[39m# Laurens van der Maaten, 2009.\u001b[39;00m\n\u001b[0;32m   1008\u001b[0m degrees_of_freedom \u001b[39m=\u001b[39m \u001b[39mmax\u001b[39m(\u001b[39mself\u001b[39m\u001b[39m.\u001b[39mn_components \u001b[39m-\u001b[39m \u001b[39m1\u001b[39m, \u001b[39m1\u001b[39m)\n\u001b[1;32m-> 1010\u001b[0m \u001b[39mreturn\u001b[39;00m \u001b[39mself\u001b[39;49m\u001b[39m.\u001b[39;49m_tsne(\n\u001b[0;32m   1011\u001b[0m     P,\n\u001b[0;32m   1012\u001b[0m     degrees_of_freedom,\n\u001b[0;32m   1013\u001b[0m     n_samples,\n\u001b[0;32m   1014\u001b[0m     X_embedded\u001b[39m=\u001b[39;49mX_embedded,\n\u001b[0;32m   1015\u001b[0m     neighbors\u001b[39m=\u001b[39;49mneighbors_nn,\n\u001b[0;32m   1016\u001b[0m     skip_num_points\u001b[39m=\u001b[39;49mskip_num_points,\n\u001b[0;32m   1017\u001b[0m )\n",
      "File \u001b[1;32mc:\\Users\\Davide\\AppData\\Local\\Programs\\Python\\Python310\\lib\\site-packages\\sklearn\\manifold\\_t_sne.py:1062\u001b[0m, in \u001b[0;36mTSNE._tsne\u001b[1;34m(self, P, degrees_of_freedom, n_samples, X_embedded, neighbors, skip_num_points)\u001b[0m\n\u001b[0;32m   1059\u001b[0m \u001b[39m# Learning schedule (part 1): do 250 iteration with lower momentum but\u001b[39;00m\n\u001b[0;32m   1060\u001b[0m \u001b[39m# higher learning rate controlled via the early exaggeration parameter\u001b[39;00m\n\u001b[0;32m   1061\u001b[0m P \u001b[39m*\u001b[39m\u001b[39m=\u001b[39m \u001b[39mself\u001b[39m\u001b[39m.\u001b[39mearly_exaggeration\n\u001b[1;32m-> 1062\u001b[0m params, kl_divergence, it \u001b[39m=\u001b[39m _gradient_descent(obj_func, params, \u001b[39m*\u001b[39m\u001b[39m*\u001b[39mopt_args)\n\u001b[0;32m   1063\u001b[0m \u001b[39mif\u001b[39;00m \u001b[39mself\u001b[39m\u001b[39m.\u001b[39mverbose:\n\u001b[0;32m   1064\u001b[0m     \u001b[39mprint\u001b[39m(\n\u001b[0;32m   1065\u001b[0m         \u001b[39m\"\u001b[39m\u001b[39m[t-SNE] KL divergence after \u001b[39m\u001b[39m%d\u001b[39;00m\u001b[39m iterations with early exaggeration: \u001b[39m\u001b[39m%f\u001b[39;00m\u001b[39m\"\u001b[39m\n\u001b[0;32m   1066\u001b[0m         \u001b[39m%\u001b[39m (it \u001b[39m+\u001b[39m \u001b[39m1\u001b[39m, kl_divergence)\n\u001b[0;32m   1067\u001b[0m     )\n",
      "File \u001b[1;32mc:\\Users\\Davide\\AppData\\Local\\Programs\\Python\\Python310\\lib\\site-packages\\sklearn\\manifold\\_t_sne.py:399\u001b[0m, in \u001b[0;36m_gradient_descent\u001b[1;34m(objective, p0, it, n_iter, n_iter_check, n_iter_without_progress, momentum, learning_rate, min_gain, min_grad_norm, verbose, args, kwargs)\u001b[0m\n\u001b[0;32m    396\u001b[0m \u001b[39m# only compute the error when needed\u001b[39;00m\n\u001b[0;32m    397\u001b[0m kwargs[\u001b[39m\"\u001b[39m\u001b[39mcompute_error\u001b[39m\u001b[39m\"\u001b[39m] \u001b[39m=\u001b[39m check_convergence \u001b[39mor\u001b[39;00m i \u001b[39m==\u001b[39m n_iter \u001b[39m-\u001b[39m \u001b[39m1\u001b[39m\n\u001b[1;32m--> 399\u001b[0m error, grad \u001b[39m=\u001b[39m objective(p, \u001b[39m*\u001b[39margs, \u001b[39m*\u001b[39m\u001b[39m*\u001b[39mkwargs)\n\u001b[0;32m    401\u001b[0m inc \u001b[39m=\u001b[39m update \u001b[39m*\u001b[39m grad \u001b[39m<\u001b[39m \u001b[39m0.0\u001b[39m\n\u001b[0;32m    402\u001b[0m dec \u001b[39m=\u001b[39m np\u001b[39m.\u001b[39minvert(inc)\n",
      "File \u001b[1;32mc:\\Users\\Davide\\AppData\\Local\\Programs\\Python\\Python310\\lib\\site-packages\\sklearn\\manifold\\_t_sne.py:280\u001b[0m, in \u001b[0;36m_kl_divergence_bh\u001b[1;34m(params, P, degrees_of_freedom, n_samples, n_components, angle, skip_num_points, verbose, compute_error, num_threads)\u001b[0m\n\u001b[0;32m    277\u001b[0m indptr \u001b[39m=\u001b[39m P\u001b[39m.\u001b[39mindptr\u001b[39m.\u001b[39mastype(np\u001b[39m.\u001b[39mint64, copy\u001b[39m=\u001b[39m\u001b[39mFalse\u001b[39;00m)\n\u001b[0;32m    279\u001b[0m grad \u001b[39m=\u001b[39m np\u001b[39m.\u001b[39mzeros(X_embedded\u001b[39m.\u001b[39mshape, dtype\u001b[39m=\u001b[39mnp\u001b[39m.\u001b[39mfloat32)\n\u001b[1;32m--> 280\u001b[0m error \u001b[39m=\u001b[39m _barnes_hut_tsne\u001b[39m.\u001b[39;49mgradient(\n\u001b[0;32m    281\u001b[0m     val_P,\n\u001b[0;32m    282\u001b[0m     X_embedded,\n\u001b[0;32m    283\u001b[0m     neighbors,\n\u001b[0;32m    284\u001b[0m     indptr,\n\u001b[0;32m    285\u001b[0m     grad,\n\u001b[0;32m    286\u001b[0m     angle,\n\u001b[0;32m    287\u001b[0m     n_components,\n\u001b[0;32m    288\u001b[0m     verbose,\n\u001b[0;32m    289\u001b[0m     dof\u001b[39m=\u001b[39;49mdegrees_of_freedom,\n\u001b[0;32m    290\u001b[0m     compute_error\u001b[39m=\u001b[39;49mcompute_error,\n\u001b[0;32m    291\u001b[0m     num_threads\u001b[39m=\u001b[39;49mnum_threads,\n\u001b[0;32m    292\u001b[0m )\n\u001b[0;32m    293\u001b[0m c \u001b[39m=\u001b[39m \u001b[39m2.0\u001b[39m \u001b[39m*\u001b[39m (degrees_of_freedom \u001b[39m+\u001b[39m \u001b[39m1.0\u001b[39m) \u001b[39m/\u001b[39m degrees_of_freedom\n\u001b[0;32m    294\u001b[0m grad \u001b[39m=\u001b[39m grad\u001b[39m.\u001b[39mravel()\n",
      "\u001b[1;31mKeyboardInterrupt\u001b[0m: "
     ]
    }
   ],
   "source": [
    "# TODO: as image-wise, test on the subset of the test\n",
    "\n",
    "from sklearn.manifold import TSNE\n",
    "import matplotlib.pyplot as plt\n",
    "import cv2\n",
    "import numpy as np\n",
    "import pandas as pd\n",
    "import gc\n",
    "\n",
    "# create the TNSE model (keeping the path information for later)\n",
    "values = pd.read_csv(\"values_train.csv\") #sm0, sm1, sm2, sm3, correct\n",
    "colors = [\"green\" if i == 1 else \"red\" for i in values[\"true\"].values]\n",
    "colors.append(\"blue\")\n",
    "values_test = pd.read_csv(\"values_test.csv\")\n",
    "\n",
    "correct_mean = [0 for i in range(21)]\n",
    "correct_min = [0 for i in range(21)]\n",
    "correct_max = [0 for i in range(21)]\n",
    "\n",
    "for i in tqdm(range(len(values_test))):\n",
    "    if i == 0:\n",
    "        values = values.append(values_test.iloc[i], ignore_index=True)\n",
    "    else:\n",
    "        values.iloc[len(values)-1] = values_test.iloc[i]\n",
    "    points = values[[\"sm0\", \"sm1\", \"sm2\", \"sm3\"]].values\n",
    "\n",
    "    tsne = TSNE(n_components=2, verbose=0, perplexity=40, n_iter=400)\n",
    "    tsne_results = tsne.fit_transform(points)\n",
    "\n",
    "    distances = np.linalg.norm(tsne_results - tsne_results[len(tsne_results)-1], axis=1)\n",
    "\n",
    "    for j in range(2,22):\n",
    "        nearest_points = np.argsort(distances)[:j]\n",
    "        nearest_points = np.delete(nearest_points, 0)\n",
    "        # colors of the nearest points set to black\n",
    "        # colors_tmp = colors.copy()\n",
    "        # for k in range(len(nearest_points)):\n",
    "        #     colors_tmp[nearest_points[k]] = \"black\"\n",
    "        \n",
    "        scores = []\n",
    "        for k in range(len(nearest_points)):\n",
    "            scores.append(values.iloc[nearest_points[k]][\"true\"])\n",
    "        mean_val = int(np.mean(scores*2)/2)\n",
    "        min_val = int(np.min(scores*2)/2)\n",
    "        max_val = int(np.max(scores*2)/2)\n",
    "        if(mean_val == values_test.iloc[i][\"true\"]):\n",
    "            correct_mean[j-1] += 1\n",
    "        if(min_val == values_test.iloc[i][\"true\"]):\n",
    "            correct_min[j-1] += 1\n",
    "        if(max_val == values_test.iloc[i][\"true\"]):\n",
    "            correct_max[j-1] += 1\n",
    "    del points\n",
    "    del tsne\n",
    "    del tsne_results\n",
    "    del distances\n",
    "    gc.collect()\n",
    "    if(i == 5):\n",
    "        break\n",
    "\n",
    "for i in range(len(correct_mean)):\n",
    "    print(f\"With {i} neighbors, the accuracy with mean is {correct_mean[i]/len(values_test)*100}%\")\n",
    "    print(f\"With {i} neighbors, the accuracy with min is {correct_min[i]/len(values_test)*100}%\")\n",
    "    print(f\"With {i} neighbors, the accuracy with avg is {correct_max[i]/len(values_test)*100}%\\n\")"
   ]
  },
  {
   "cell_type": "code",
   "execution_count": null,
   "metadata": {},
   "outputs": [],
   "source": [
    "test_values = pd.read_csv(\"values_test.csv\") #sm0, sm1, sm2, sm3, correct\n",
    "test_points = test_values[[\"sm0\", \"sm1\", \"sm2\", \"sm3\"]].values\n",
    "random_index = np.random.randint(0, len(test_points))\n",
    "selected_point = test_points[random_index]\n",
    "# add this point to the tsne_result plot but with a red color\n",
    "plt.scatter(values[\"x\"], values[\"y\"], c=colors, alpha=0.1)\n",
    "plt.scatter(selected_point[0], selected_point[1], c=\"blue\")\n",
    "\n",
    "distances = np.linalg.norm(points - selected_point, axis=1)\n",
    "nearest_points_number = 2\n",
    "nearest_points = points[np.argsort(distances)[:nearest_points_number]]\n",
    "plt.scatter(nearest_points[:,0], nearest_points[:,1])\n",
    "plt.show()\n",
    "\n",
    "# print true and predicted label of the selected_point\n",
    "print(\"True label: \", test_values.iloc[random_index][\"true\"])\n",
    "print(\"Predicted label: \", test_values.iloc[random_index][\"predicted\"])\n",
    "# print the selected point image with a red circle\n",
    "image = cv2.imread(test_values.iloc[random_index][\"path\"])\n",
    "image = cv2.cvtColor(image, cv2.COLOR_BGR2RGB)\n",
    "# add the border\n",
    "image = cv2.copyMakeBorder(image, 10, 10, 10, 10, cv2.BORDER_CONSTANT, value=[0, 0, 200])\n",
    "\n",
    "plt.imshow(image)\n",
    "plt.show()\n",
    "# show the images\n",
    "# get the paths of the nearest 3 points\n",
    "nearest_points_paths = values.iloc[np.argsort(distances)[:nearest_points_number]][\"path\"].values\n",
    "# plot the images\n",
    "scores = []\n",
    "for path in nearest_points_paths:\n",
    "    # print also the true and predicted label\n",
    "    print(\"True label: \", values[values[\"path\"] == path][\"true\"].values[0])\n",
    "    scores.append(values[values[\"path\"] == path][\"true\"].values[0])\n",
    "    image = cv2.imread(path)\n",
    "    image = cv2.cvtColor(image, cv2.COLOR_BGR2RGB)\n",
    "    plt.imshow(image)\n",
    "    plt.show()\n",
    "\n",
    "print(\"Average score: \", np.mean(scores))"
   ]
  },
  {
   "cell_type": "code",
   "execution_count": null,
   "metadata": {},
   "outputs": [],
   "source": [
    "# TODO: do this as below\n",
    "import cv2\n",
    "import numpy as np\n",
    "from sklearn.manifold import TSNE\n",
    "import matplotlib.pyplot as plt\n",
    "\n",
    "# Load the images and normalize them\n",
    "images = []\n",
    "colors = []\n",
    "for path in values[\"path\"].values:\n",
    "    image = cv2.imread(path)\n",
    "    image = cv2.resize(image, (256, 256)) # Resize the image to a fixed size\n",
    "    image = cv2.cvtColor(image, cv2.COLOR_BGR2RGB) # Convert BGR to RGB\n",
    "    image = image.astype('float32') / 255.0 # Normalize the pixel values\n",
    "    images.append(image)\n",
    "    if values[values[\"path\"] == path][\"true\"].values[0] == 1:\n",
    "        colors.append(\"green\")\n",
    "    else:\n",
    "        colors.append(\"red\")\n",
    "test_values = pd.read_csv(\"values_test.csv\")\n",
    "# random_index = np.random.randint(0, len(test_values))\n",
    "# for index in enumerate(test_values[\"path\"].values):\n",
    "new_image = cv2.imread(test_values.iloc[random_index][\"path\"])\n",
    "new_image = cv2.resize(new_image, (256, 256)) # Resize the image to a fixed size\n",
    "new_image = cv2.cvtColor(new_image, cv2.COLOR_BGR2RGB) # Convert BGR to RGB\n",
    "new_image = new_image.astype('float32') / 255.0 # Normalize the pixel values\n",
    "images.append(new_image)\n",
    "colors.append(\"blue\")\n",
    "images = np.array(images)\n",
    "\n",
    "# Flatten the images\n",
    "images_flattened = images.reshape(images.shape[0], -1)\n",
    "\n",
    "# Fit the t-SNE model on the flattened images\n",
    "tsne = TSNE(n_components=2, verbose=0, perplexity=30, n_iter=1000)\n",
    "tsne_results = tsne.fit_transform(images_flattened)\n",
    "\n",
    "# Plot the t-SNE embeddings\n",
    "plt.scatter(tsne_results[:,0], tsne_results[:,1], c=colors)\n",
    "plt.show()\n",
    "\n",
    "# print true and predicted label of the image\n",
    "print(\"True label selected: \", test_values.iloc[random_index][\"true\"])\n",
    "print(\"Predicted label selected: \", test_values.iloc[random_index][\"predicted\"])\n",
    "# print the selected image\n",
    "image = cv2.imread(test_values.iloc[random_index][\"path\"])\n",
    "image = cv2.cvtColor(image, cv2.COLOR_BGR2RGB)\n",
    "# add the border\n",
    "image = cv2.copyMakeBorder(image, 10, 10, 10, 10, cv2.BORDER_CONSTANT, value=[0, 0, 200])\n",
    "plt.imshow(image)\n",
    "\n",
    "# find the two closest images to the last one in the images array\n",
    "distances = np.linalg.norm(images_flattened[:-1] - images_flattened[-1], axis=1)\n",
    "nearest_points_number = 10\n",
    "nearest_points = images_flattened[np.argsort(distances)[:nearest_points_number]]\n",
    "\n",
    "scores = []\n",
    "for i in range(len(nearest_points)):\n",
    "    # print also the true and predicted label\n",
    "    print(\"True label: \", values.iloc[np.argsort(distances)[i]][\"true\"])\n",
    "    scores.append(values.iloc[np.argsort(distances)[i]][\"true\"])\n",
    "    image = cv2.imread(values.iloc[np.argsort(distances)[i]][\"path\"])\n",
    "    image = cv2.cvtColor(image, cv2.COLOR_BGR2RGB)\n",
    "    plt.imshow(image)\n",
    "    plt.show()\n",
    "print(\"Average score: \", int(np.mean(scores*2)/2))"
   ]
  },
  {
   "cell_type": "markdown",
   "metadata": {},
   "source": [
    "t-SNE image-wise"
   ]
  },
  {
   "cell_type": "code",
   "execution_count": 2,
   "metadata": {},
   "outputs": [
    {
     "name": "stdout",
     "output_type": "stream",
     "text": [
      "Number of images for each score for patient 1051\n",
      "0    375\n",
      "1    298\n",
      "2    466\n",
      "3    100\n",
      "Name: score, dtype: int64\n",
      "Number of images for each score for patient 1067\n",
      "0      75\n",
      "1     829\n",
      "2    1111\n",
      "3    2245\n",
      "Name: score, dtype: int64\n",
      "Number of images for each score for patient 1069\n",
      "0     915\n",
      "1     522\n",
      "2     736\n",
      "3    1212\n",
      "Name: score, dtype: int64\n",
      "Number of images for each score for patient 1050\n",
      "0     317\n",
      "1     427\n",
      "2     746\n",
      "3    1270\n",
      "Name: score, dtype: int64\n",
      "Number of images for each score for patient 1017\n",
      "0    1478\n",
      "1    1388\n",
      "2    1256\n",
      "3     625\n",
      "Name: score, dtype: int64\n",
      "Number of images for each score for patient 1048\n",
      "0    3159\n",
      "1    1472\n",
      "2     336\n",
      "3    1440\n",
      "Name: score, dtype: int64\n",
      "Number of images for each score for patient 1052\n",
      "0    1026\n",
      "1    2248\n",
      "2    2494\n",
      "3     492\n",
      "Name: score, dtype: int64\n",
      "Number of images for each score for patient 1047\n",
      "0    543\n",
      "1    356\n",
      "2     44\n",
      "3    208\n",
      "Name: score, dtype: int64\n",
      "1408\n",
      "Number of images for each score for the selected images\n",
      "0    352\n",
      "1    352\n",
      "2    352\n",
      "3    352\n",
      "Name: score, dtype: int64\n"
     ]
    }
   ],
   "source": [
    "for patient in train_patients:\n",
    "    # print the number of images for each score based on image_df\n",
    "    print(\"Number of images for each score for patient\", patient)\n",
    "    result = images_df[images_df[\"patient_id\"] == patient][\"score\"].value_counts()\n",
    "    # sort the result by score\n",
    "    result = result.sort_index()\n",
    "    print(result)\n",
    "# select an equal number of images for each score maximizing the number of images for each patient\n",
    "# get 40 images for each score for each patient\n",
    "selected_df = pd.DataFrame()\n",
    "for patient in train_patients:\n",
    "    for score in range(0,4):\n",
    "        # get the images for the patient and score\n",
    "        patient_score_df = images_df[(images_df[\"patient_id\"] == patient) & (images_df[\"score\"] == f\"{score}\")]\n",
    "        # if the number of images is less than 40, select all of them\n",
    "        if len(patient_score_df) < 44:\n",
    "            selected_df = pd.concat([selected_df, patient_score_df])\n",
    "        else:\n",
    "            # select 40 images randomly\n",
    "            selected_df = pd.concat([selected_df, patient_score_df.sample(n=44, random_state=42)])\n",
    "print(len(selected_df))\n",
    "# print the number of images for each score based on selected_df\n",
    "print(\"Number of images for each score for the selected images\")\n",
    "result = selected_df[\"score\"].value_counts()\n",
    "# sort the result by score\n",
    "result = result.sort_index()\n",
    "print(result)\n",
    "\n",
    "# create a new dataframe using each entry of the selected_df as path\n",
    "paths_df = pd.DataFrame()\n",
    "import os\n",
    "for index, row in selected_df.iterrows():\n",
    "    # get the path\n",
    "    path = os.path.join(\"images/\", row[\"patient_id\"] + \"_\" + row[\"exam_id\"] + \"_\" + row[\"spot\"] + \"_\" + row[\"frame_number\"] + \"_\" + row[\"score\"] + \".png\" )\n",
    "    # create a new dataframe with the path\n",
    "    tmp_df = pd.DataFrame({\"path\": [path]})\n",
    "    # add the new dataframe to the values dataframe\n",
    "    paths_df = pd.concat([paths_df, tmp_df])\n",
    "\n"
   ]
  },
  {
   "cell_type": "code",
   "execution_count": 3,
   "metadata": {},
   "outputs": [
    {
     "name": "stdout",
     "output_type": "stream",
     "text": [
      "Number of images for each score for patient 1066\n",
      "0     210\n",
      "1     911\n",
      "2    1707\n",
      "3     677\n",
      "Name: score, dtype: int64\n",
      "Number of images for each score for patient 1068\n",
      "0     217\n",
      "1     781\n",
      "2    3458\n",
      "3    2552\n",
      "Name: score, dtype: int64\n",
      "Number of images for each score for patient 1045\n",
      "0    6198\n",
      "1      29\n",
      "2     370\n",
      "3     402\n",
      "Name: score, dtype: int64\n",
      "348\n",
      "Number of images for each score for the selected images\n",
      "0    87\n",
      "1    87\n",
      "2    87\n",
      "3    87\n",
      "Name: score, dtype: int64\n"
     ]
    }
   ],
   "source": [
    "for patient in test_patients:\n",
    "    # print the number of images for each score based on image_df\n",
    "    print(\"Number of images for each score for patient\", patient)\n",
    "    result = images_df[images_df[\"patient_id\"] == patient][\"score\"].value_counts()\n",
    "    # sort the result by score\n",
    "    result = result.sort_index()\n",
    "    print(result)\n",
    "\n",
    "selected_df_test = pd.DataFrame()\n",
    "for patient in test_patients:\n",
    "    for score in range(0,4):\n",
    "        # get the images for the patient and score\n",
    "        patient_score_df = images_df[(images_df[\"patient_id\"] == patient) & (images_df[\"score\"] == f\"{score}\")]\n",
    "        # if the number of images is less than 40, select all of them\n",
    "        if len(patient_score_df) < 29:\n",
    "            selected_df_test = pd.concat([selected_df_test, patient_score_df])\n",
    "        else:\n",
    "            # select 40 images randomly\n",
    "            selected_df_test = pd.concat([selected_df_test, patient_score_df.sample(n=29, random_state=42)])\n",
    "print(len(selected_df_test))\n",
    "# print the number of images for each score based on selected_df\n",
    "print(\"Number of images for each score for the selected images\")\n",
    "result = selected_df_test[\"score\"].value_counts()\n",
    "# sort the result by score\n",
    "result = result.sort_index()\n",
    "print(result)\n",
    "\n",
    "# create a new dataframe using each entry of the selected_df as path\n",
    "paths_test_df = pd.DataFrame()\n",
    "import os\n",
    "for index, row in selected_df_test.iterrows():\n",
    "    # get the path\n",
    "    path = os.path.join(\"images/\", row[\"patient_id\"] + \"_\" + row[\"exam_id\"] + \"_\" + row[\"spot\"] + \"_\" + row[\"frame_number\"] + \"_\" + row[\"score\"] + \".png\" )\n",
    "    # create a new dataframe with the path\n",
    "    tmp_df = pd.DataFrame({\"path\": [path]})\n",
    "    # add the new dataframe to the values dataframe\n",
    "    paths_test_df = pd.concat([paths_test_df, tmp_df])"
   ]
  },
  {
   "cell_type": "code",
   "execution_count": 21,
   "metadata": {},
   "outputs": [
    {
     "name": "stdout",
     "output_type": "stream",
     "text": [
      "Time elapsed:  12.791704416275024 - 1408 Image loaded\n"
     ]
    },
    {
     "name": "stderr",
     "output_type": "stream",
     "text": [
      "100%|██████████| 348/348 [1:52:39<00:00, 19.42s/it]  "
     ]
    },
    {
     "name": "stdout",
     "output_type": "stream",
     "text": [
      "With 0 neighbors, the accuracy with mean is 0.0%\n",
      "With 0 neighbors, the accuracy with min is 0.0%\n",
      "With 0 neighbors, the accuracy with avg is 0.0%\n",
      "\n",
      "With 1 neighbors, the accuracy with mean is 25.0%\n",
      "With 1 neighbors, the accuracy with min is 25.0%\n",
      "With 1 neighbors, the accuracy with avg is 25.0%\n",
      "\n",
      "With 2 neighbors, the accuracy with mean is 25.0%\n",
      "With 2 neighbors, the accuracy with min is 25.0%\n",
      "With 2 neighbors, the accuracy with avg is 24.42528735632184%\n",
      "\n",
      "With 3 neighbors, the accuracy with mean is 25.0%\n",
      "With 3 neighbors, the accuracy with min is 25.0%\n",
      "With 3 neighbors, the accuracy with avg is 12.35632183908046%\n",
      "\n",
      "With 4 neighbors, the accuracy with mean is 25.0%\n",
      "With 4 neighbors, the accuracy with min is 25.0%\n",
      "With 4 neighbors, the accuracy with avg is 14.655172413793101%\n",
      "\n",
      "With 5 neighbors, the accuracy with mean is 25.0%\n",
      "With 5 neighbors, the accuracy with min is 25.0%\n",
      "With 5 neighbors, the accuracy with avg is 15.517241379310345%\n",
      "\n",
      "With 6 neighbors, the accuracy with mean is 25.0%\n",
      "With 6 neighbors, the accuracy with min is 25.0%\n",
      "With 6 neighbors, the accuracy with avg is 13.793103448275861%\n",
      "\n",
      "With 7 neighbors, the accuracy with mean is 25.0%\n",
      "With 7 neighbors, the accuracy with min is 25.0%\n",
      "With 7 neighbors, the accuracy with avg is 14.080459770114942%\n",
      "\n",
      "With 8 neighbors, the accuracy with mean is 25.0%\n",
      "With 8 neighbors, the accuracy with min is 25.0%\n",
      "With 8 neighbors, the accuracy with avg is 15.804597701149426%\n",
      "\n",
      "With 9 neighbors, the accuracy with mean is 25.0%\n",
      "With 9 neighbors, the accuracy with min is 25.0%\n",
      "With 9 neighbors, the accuracy with avg is 16.954022988505745%\n",
      "\n",
      "With 10 neighbors, the accuracy with mean is 25.0%\n",
      "With 10 neighbors, the accuracy with min is 25.0%\n",
      "With 10 neighbors, the accuracy with avg is 17.81609195402299%\n",
      "\n",
      "With 11 neighbors, the accuracy with mean is 25.0%\n",
      "With 11 neighbors, the accuracy with min is 25.0%\n",
      "With 11 neighbors, the accuracy with avg is 18.39080459770115%\n",
      "\n",
      "With 12 neighbors, the accuracy with mean is 25.0%\n",
      "With 12 neighbors, the accuracy with min is 25.0%\n",
      "With 12 neighbors, the accuracy with avg is 17.24137931034483%\n",
      "\n",
      "With 13 neighbors, the accuracy with mean is 25.0%\n",
      "With 13 neighbors, the accuracy with min is 25.0%\n",
      "With 13 neighbors, the accuracy with avg is 16.379310344827587%\n",
      "\n",
      "With 14 neighbors, the accuracy with mean is 25.0%\n",
      "With 14 neighbors, the accuracy with min is 25.0%\n",
      "With 14 neighbors, the accuracy with avg is 16.091954022988507%\n",
      "\n",
      "With 15 neighbors, the accuracy with mean is 25.0%\n",
      "With 15 neighbors, the accuracy with min is 25.0%\n",
      "With 15 neighbors, the accuracy with avg is 16.091954022988507%\n",
      "\n",
      "With 16 neighbors, the accuracy with mean is 25.0%\n",
      "With 16 neighbors, the accuracy with min is 25.0%\n",
      "With 16 neighbors, the accuracy with avg is 17.81609195402299%\n",
      "\n",
      "With 17 neighbors, the accuracy with mean is 25.0%\n",
      "With 17 neighbors, the accuracy with min is 25.0%\n",
      "With 17 neighbors, the accuracy with avg is 18.103448275862068%\n",
      "\n",
      "With 18 neighbors, the accuracy with mean is 25.0%\n",
      "With 18 neighbors, the accuracy with min is 25.0%\n",
      "With 18 neighbors, the accuracy with avg is 18.96551724137931%\n",
      "\n",
      "With 19 neighbors, the accuracy with mean is 25.0%\n",
      "With 19 neighbors, the accuracy with min is 25.0%\n",
      "With 19 neighbors, the accuracy with avg is 18.96551724137931%\n",
      "\n",
      "With 20 neighbors, the accuracy with mean is 25.0%\n",
      "With 20 neighbors, the accuracy with min is 25.0%\n",
      "With 20 neighbors, the accuracy with avg is 19.82758620689655%\n",
      "\n"
     ]
    },
    {
     "name": "stderr",
     "output_type": "stream",
     "text": [
      "\n"
     ]
    }
   ],
   "source": [
    "import cv2\n",
    "import numpy as np\n",
    "from sklearn.manifold import TSNE\n",
    "import matplotlib.pyplot as plt\n",
    "import pandas as pd\n",
    "import gc\n",
    "from tqdm import tqdm\n",
    "gc.enable()\n",
    "# start timer\n",
    "import time\n",
    "start = time.time()\n",
    "# Load the images and normalize them\n",
    "values = pd.read_csv(\"values_train.csv\")\n",
    "# create a subset of the values due to the time required to compute the t-SNE\n",
    "# the idea is to keep the same number of images for each patient (based on the score)\n",
    "# select the same number of images for each score for each patient in the test_patients\n",
    "\n",
    "images = []\n",
    "colors = []\n",
    "for path in values[\"path\"].values:\n",
    "    # check if path in paths_df[\"path\"].values\n",
    "    if path not in paths_df[\"path\"].values:\n",
    "        continue\n",
    "    image = cv2.imread(path)\n",
    "    image = cv2.resize(image, (256, 256)) # Resize the image to a fixed size\n",
    "    image = cv2.cvtColor(image, cv2.COLOR_BGR2RGB) # Convert BGR to RGB\n",
    "    image = image.astype('float32') / 255.0 # Normalize the pixel values\n",
    "    images.append(image)\n",
    "    if values[values[\"path\"] == path][\"true\"].values[0] == 1:\n",
    "        colors.append(\"green\")\n",
    "    else:\n",
    "        colors.append(\"red\")\n",
    "    del image\n",
    "\n",
    "end = time.time()\n",
    "print(\"Time elapsed: \", end - start, \"-\",len(images), \"Image loaded\")\n",
    "correct_mean = [0 for i in range(21)]\n",
    "correct_min = [0 for i in range(21)]\n",
    "correct_max = [0 for i in range(21)]\n",
    "test_values = pd.read_csv(\"values_test.csv\")\n",
    "# take the test_values rows where path is in paths_test_df[\"path\"].values\n",
    "test_values = test_values[test_values[\"path\"].isin(paths_test_df[\"path\"].values)]\n",
    "# test_values = pd.read_csv(\"wrong_preds_test.csv\")\n",
    "iterations = len(test_values[\"path\"].values)\n",
    "# iterations = 1000\n",
    "# shuffle the test values\n",
    "# test_values = test_values.sample(frac=1).reset_index(drop=True)\n",
    "for index in tqdm(range(iterations)):\n",
    "    # print(f\"Starting {index} iteration\")\n",
    "    # if(index % 10 == 0):\n",
    "    #     print(f\"{index}/{iterations}\")\n",
    "    start = time.time()\n",
    "    new_image = cv2.imread(test_values.iloc[index][\"path\"])\n",
    "    new_image = cv2.resize(new_image, (256, 256)) # Resize the image to a fixed size\n",
    "    new_image = cv2.cvtColor(new_image, cv2.COLOR_BGR2RGB) # Convert BGR to RGB\n",
    "    new_image = new_image.astype('float32') / 255.0 # Normalize the pixel values\n",
    "    if(index == 0):\n",
    "        images.append(new_image)\n",
    "        colors.append(\"blue\")\n",
    "        images = np.array(images)\n",
    "        images_flattened = images.reshape(images.shape[0], -1)\n",
    "    else:\n",
    "        new_image = np.array(new_image)\n",
    "        new_image = new_image.reshape(1, -1)\n",
    "        images_flattened[len(images_flattened)-1] = new_image\n",
    "    # print(\"Loaded new image\")\n",
    " \n",
    "    # Fit the t-SNE model on the flattened images\n",
    "    tsne = TSNE(n_components=2, verbose=0, perplexity=40, n_iter=1000)\n",
    "    \n",
    "    # print(\"Created TNSE, fitting...\")\n",
    "    tsne_results = tsne.fit_transform(images_flattened)\n",
    "\n",
    "    # compute minimum distance between the last point in the tsne_results and the others to find the nearest 3 points\n",
    "    distances = np.linalg.norm(tsne_results - tsne_results[len(tsne_results)-1], axis=1)\n",
    "    \n",
    "    for nearest_points_number in range(2,22):\n",
    "        # save the indexes of the nearest points\n",
    "        # attach the indexes to the distances, so that we can sort them keeping the indexes\n",
    "        nearest_points = np.argsort(distances)[:nearest_points_number]\n",
    "        # remove the fist element because it is the point itself\n",
    "        nearest_points = np.delete(nearest_points, 0)\n",
    "        # print(\"Found nearest points\")\n",
    "        scores = []\n",
    "        for i in range(len(nearest_points)):\n",
    "            scores.append(values.iloc[np.argsort(distances)[i]][\"true\"])\n",
    "        mean_val = int(np.mean(scores*2)/2)\n",
    "        min_val = np.min(scores)\n",
    "        max_val = np.max(scores)\n",
    "        if(mean_val == int(test_values.iloc[index][\"true\"])):\n",
    "            correct_mean[nearest_points_number-1] += 1\n",
    "        if(min_val == int(test_values.iloc[index][\"true\"])):\n",
    "            correct_min[nearest_points_number-1] += 1\n",
    "        if(max_val == int(test_values.iloc[index][\"true\"])):\n",
    "            correct_max[nearest_points_number-1] += 1\n",
    "    # end = time.time()\n",
    "    # print(\"Time elapsed: \", end - start)\n",
    "    if(index == 0):\n",
    "        del images\n",
    "    del new_image\n",
    "    del tsne\n",
    "    del scores\n",
    "    del nearest_points\n",
    "    gc.collect()\n",
    "\n",
    "for i in range(len(correct_mean)):\n",
    "    print(f\"With {i} neighbors, the accuracy with mean is {correct_mean[i]/iterations*100}%\")\n",
    "    print(f\"With {i} neighbors, the accuracy with min is {correct_min[i]/iterations*100}%\")\n",
    "    print(f\"With {i} neighbors, the accuracy with avg is {correct_max[i]/iterations*100}%\\n\")\n",
    "\n",
    "# plt.scatter(tsne_results[:,0], tsne_results[:,1], c=colors)\n",
    "# plt.show()"
   ]
  },
  {
   "cell_type": "code",
   "execution_count": null,
   "metadata": {},
   "outputs": [],
   "source": [
    "# near-duplicate image search with Locality Sensitive Hashing\n",
    "# https://keras.io/examples/vision/near_dup_search/\n"
   ]
  }
 ],
 "metadata": {
  "kernelspec": {
   "display_name": "Python 3",
   "language": "python",
   "name": "python3"
  },
  "language_info": {
   "codemirror_mode": {
    "name": "ipython",
    "version": 3
   },
   "file_extension": ".py",
   "mimetype": "text/x-python",
   "name": "python",
   "nbconvert_exporter": "python",
   "pygments_lexer": "ipython3",
   "version": "3.10.9"
  },
  "orig_nbformat": 4,
  "vscode": {
   "interpreter": {
    "hash": "760bf3b9c43a19e2fe1b4d509841bd16027d034122dfd0e7f3a29ff3458619a9"
   }
  }
 },
 "nbformat": 4,
 "nbformat_minor": 2
}
