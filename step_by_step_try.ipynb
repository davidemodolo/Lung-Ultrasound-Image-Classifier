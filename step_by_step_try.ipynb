{
 "cells": [
  {
   "cell_type": "code",
   "execution_count": 22,
   "metadata": {},
   "outputs": [],
   "source": [
    "# define a model using pytorch\n",
    "# a pretrained model adding layers to classify the 4 classes of the images\n",
    "import torch.nn as nn\n",
    "from torchvision import models\n",
    "from torchvision.models import squeezenet1_1\n",
    "from torchvision.models.squeezenet import SqueezeNet1_1_Weights\n",
    "\n",
    "\n",
    "\n",
    "class MIDmodel(nn.Module):\n",
    "    def __init__(self):\n",
    "        super(MIDmodel, self).__init__()\n",
    "        self.pretrained = squeezenet1_1()\n",
    "        self.fc1 = nn.Linear(1000, 128)\n",
    "        self.fc2 = nn.Linear(128, 4)\n",
    "        self.dropout = nn.Dropout(0.7)\n",
    "\n",
    "    def forward(self, x):\n",
    "        x = self.pretrained(x)\n",
    "        x = self.dropout(x)\n",
    "        x = self.fc1(x)\n",
    "        x = self.dropout(x)\n",
    "        x = self.fc2(x)\n",
    "        return x"
   ]
  },
  {
   "cell_type": "code",
   "execution_count": 23,
   "metadata": {},
   "outputs": [],
   "source": [
    "from torch.utils.data import Dataset, DataLoader\n",
    "from torchvision import transforms\n",
    "import pandas as pd\n",
    "from PIL import Image\n",
    "import os\n",
    "\n",
    "class ImageDataset(Dataset):\n",
    "    def __init__(self, root_dir, patients_ids, patients_df, transform=None):\n",
    "        # select the rows of the dataframe that correspond to the patients in the list\n",
    "        self.patients_df = patients_df[patients_df[\"patient_id\"].isin(patients_ids)]\n",
    "        self.root_dir = root_dir\n",
    "        self.idxs = set()\n",
    "        if transform:\n",
    "            self.transform = transform\n",
    "            # duplicate the patients_df, so the network will see each image twice, one standard and one transformed\n",
    "            # self.patients_df = pd.concat([self.patients_df] * 2, ignore_index=True)\n",
    "        else:\n",
    "            self.transform = None\n",
    "               \n",
    "            \n",
    "    def __len__(self):\n",
    "        return len(self.patients_df)\n",
    "\n",
    "    def __getitem__(self, idx):\n",
    "        # get idx row of the dataframe\n",
    "        row = self.patients_df.iloc[idx]\n",
    "        # path = root_dir/patientid_examid_spot_framenumber_score.png\n",
    "        path = os.path.join(self.root_dir, row[\"patient_id\"] + \"_\" + row[\"exam_id\"] + \"_\" + row[\"spot\"] + \"_\" + row[\"frame_number\"] + \"_\" + row[\"score\"] + \".png\")\n",
    "        image = Image.open(path)\n",
    "        label = row[\"score\"]\n",
    "        # if the image is grayscale, convert it to RGB (used to test with the smaller dataset)\n",
    "        # if image.mode != \"RGB\":\n",
    "        #     image = image.convert(\"RGB\")\n",
    "               \n",
    "        if self.transform:\n",
    "            image = self.transform(image)\n",
    "            # if path not in self.idxs: # if it's the first time we see the image, add its path to the set\n",
    "            #     self.idxs.add(path)\n",
    "            # else: # if it's the second time we see the image, apply the transform and remove its path from the set \n",
    "            #     image = self.transform(image)\n",
    "            #     self.idxs.remove(path)\n",
    "        # in any case, transform to tensor\n",
    "        image = transforms.ToTensor()(image)\n",
    "        image = transforms.Resize((224, 224))(image)\n",
    "        # Finally the values are first rescaled to [0.0, 1.0] and then normalized using mean=[0.485, 0.456, 0.406] and std=[0.229, 0.224, 0.225].\n",
    "        image = transforms.Normalize(mean=[0.485, 0.456, 0.406], std=[0.229, 0.224, 0.225])(image)\n",
    "        return image, int(label)"
   ]
  },
  {
   "cell_type": "code",
   "execution_count": 24,
   "metadata": {},
   "outputs": [
    {
     "name": "stdout",
     "output_type": "stream",
     "text": [
      "['1051', '1017', '1050', '1052', '1069', '1048', '1067', '1047']\n",
      "score\n",
      "0    7888\n",
      "1    7540\n",
      "2    7189\n",
      "3    7592\n",
      "Name: patient_id, dtype: int64\n",
      "['1066', '1068', '1045']\n",
      "score\n",
      "0    6625\n",
      "1    1721\n",
      "2    5535\n",
      "3    3631\n",
      "Name: patient_id, dtype: int64\n"
     ]
    }
   ],
   "source": [
    "import pandas as pd\n",
    "import torch\n",
    "import glob\n",
    "data_dir = \"images/\"\n",
    "device = torch.device(\"cuda\" if torch.cuda.is_available() else \"cpu\")\n",
    "images_paths = glob.glob(f\"{data_dir}*.png\", recursive=True)\n",
    "# images are named as: patientid_examid_spotnumber_framenumber_score.png\n",
    "# create a dataframe with the data removing \"images/\"\n",
    "images_df = pd.DataFrame([path[len(data_dir):-4].split(\"_\") for path in images_paths], columns=[\"patient_id\", \"exam_id\", \"spot\", \"frame_number\", \"score\"])\n",
    "images_df[\"score\"] = images_df[\"score\"].astype(str)\n",
    "images_df[\"frame_number\"] = images_df[\"frame_number\"].astype(str)\n",
    "images_df[\"spot\"] = images_df[\"spot\"].astype(str)\n",
    "images_df[\"patient_id\"] = images_df[\"patient_id\"].astype(str)\n",
    "images_df[\"exam_id\"] = images_df[\"exam_id\"].astype(str)\n",
    "patients_ids = set(images_df[\"patient_id\"])\n",
    "patients_ids = list(patients_ids)\n",
    "\n",
    "# select the 8 patients for training based on the most balanced distribution of the scores\n",
    "import itertools\n",
    "combs = list(itertools.combinations(patients_ids, 8))\n",
    "stds = []\n",
    "for i, c in enumerate(combs):\n",
    "    stds.append((images_df[images_df[\"patient_id\"].isin(c)].groupby(\"score\").count()[\"patient_id\"].std(), i))\n",
    "\n",
    "train_patients = [x for x in combs[min(stds)[1]]]\n",
    "print(train_patients)\n",
    "print(images_df[images_df[\"patient_id\"].isin(train_patients)].groupby(\"score\").count()[\"patient_id\"])\n",
    "test_patients = [x for x in patients_ids if x not in train_patients]\n",
    "print(test_patients)\n",
    "print(images_df[images_df[\"patient_id\"].isin(test_patients)].groupby(\"score\").count()[\"patient_id\"])\n"
   ]
  },
  {
   "attachments": {},
   "cell_type": "markdown",
   "metadata": {},
   "source": [
    "transformations from the paper Deep Learning for Classification and Localization of COVID-19 Markers in Point-of-Care Lung Ultrasound\n",
    "were each activated on the image-label pair with a probability of 0.33. The set of augmentation functions, each applied with a randomly sampled strength bounded by a set maximum, consists of:\n",
    "- affine transformations (translation (max. ±15%), rotation (max. ±15◦), scaling (max. ±45%), and shearing (max. ±4.5◦))\n",
    "- multiplication with a constant (max. ±45%)\n",
    "- Gaussian blurring (σmax = 3/4 )\n",
    "- contrast distortion (max. ±45%)\n",
    "- horizontal flipping (p = 0.5)\n",
    "- additive white Gaussian noise (σmax = 0.015)"
   ]
  },
  {
   "cell_type": "code",
   "execution_count": 25,
   "metadata": {},
   "outputs": [],
   "source": [
    "transformations = transforms.Compose([\n",
    "    transforms.RandomApply([transforms.RandomAffine(degrees=15, translate=(0.15, 0.15), scale=(0.55, 1.45), shear=4.5)], p=1/3),\n",
    "    transforms.RandomApply([transforms.ColorJitter(brightness=0.45, contrast=0.45, saturation=0.45, hue=0.45)], p=1/3),\n",
    "    transforms.RandomApply([transforms.GaussianBlur(kernel_size=3, sigma=(0.75))], p=1/3),\n",
    "    transforms.RandomApply([transforms.RandomHorizontalFlip(p=0.5)], p=1/3)\n",
    "    ])"
   ]
  },
  {
   "cell_type": "code",
   "execution_count": 26,
   "metadata": {},
   "outputs": [],
   "source": [
    "from torch import optim\n",
    "from tqdm import tqdm\n",
    "\n",
    "def train_model(model, dataloader, optimizer, criterion, device):\n",
    "    model.train()\n",
    "    running_loss = 0.0\n",
    "    running_corrects = 0\n",
    "    for inputs, labels in tqdm(dataloader):\n",
    "        inputs = inputs.to(device)\n",
    "        labels = labels.to(device)\n",
    "        optimizer.zero_grad()\n",
    "        outputs = model(inputs)\n",
    "        _, preds = torch.max(outputs, 1)\n",
    "        loss = criterion(outputs, labels)\n",
    "        loss.backward()\n",
    "        optimizer.step()\n",
    "        running_loss += loss.item() * inputs.size(0)\n",
    "        running_corrects += torch.sum(preds == labels.data)\n",
    "    epoch_loss = running_loss / len(dataloader.dataset)\n",
    "    epoch_acc = running_corrects/ len(dataloader.dataset)\n",
    "    return epoch_loss, epoch_acc\n",
    "\n",
    "def test_model(model, dataloader, criterion, device):\n",
    "    model.eval()\n",
    "    running_loss = 0.0\n",
    "    running_corrects = 0\n",
    "    with torch.no_grad():\n",
    "        for inputs, labels in tqdm(dataloader):\n",
    "            inputs = inputs.to(device)\n",
    "            labels = labels.to(device)\n",
    "            outputs = model(inputs)\n",
    "            _, preds = torch.max(outputs, 1)\n",
    "            loss = criterion(outputs, labels)\n",
    "            running_loss += loss.item() * inputs.size(0)\n",
    "            running_corrects += torch.sum(preds == labels.data)\n",
    "    epoch_loss = running_loss / len(dataloader.dataset)\n",
    "    epoch_acc = running_corrects / len(dataloader.dataset)\n",
    "    return epoch_loss, epoch_acc\n"
   ]
  },
  {
   "cell_type": "code",
   "execution_count": 27,
   "metadata": {},
   "outputs": [],
   "source": [
    "data_dir = \"images/\"\n",
    "num_epochs = 10\n",
    "learning_rate = 0.00001\n",
    "batch_size = 8\n",
    "\n",
    "model = MIDmodel()\n",
    "model = model.to(device)\n",
    "criterion = nn.CrossEntropyLoss()\n",
    "optimizer = optim.Adam(model.parameters(), lr=learning_rate)\n",
    "\n",
    "\n",
    "train_dataset = ImageDataset(data_dir, train_patients, images_df, transformations)\n",
    "test_dataset = ImageDataset(data_dir, test_patients, images_df)\n",
    "train_dataloader = DataLoader(train_dataset, batch_size=batch_size, shuffle=True)\n",
    "test_dataloader = DataLoader(test_dataset, batch_size=batch_size, shuffle=False)"
   ]
  },
  {
   "cell_type": "code",
   "execution_count": 21,
   "metadata": {},
   "outputs": [
    {
     "name": "stdout",
     "output_type": "stream",
     "text": [
      "Epoch 0\n"
     ]
    },
    {
     "name": "stderr",
     "output_type": "stream",
     "text": [
      "100%|██████████| 3777/3777 [17:01<00:00,  3.70it/s]\n"
     ]
    },
    {
     "name": "stdout",
     "output_type": "stream",
     "text": [
      "Training Loss: 1.4453 Training Accuracy: 0.2713\n"
     ]
    },
    {
     "name": "stderr",
     "output_type": "stream",
     "text": [
      "100%|██████████| 2189/2189 [04:26<00:00,  8.21it/s]\n"
     ]
    },
    {
     "name": "stdout",
     "output_type": "stream",
     "text": [
      "Test Loss: 1.3651 Test Accuracy: 0.3936\n",
      "Epoch 1\n"
     ]
    },
    {
     "name": "stderr",
     "output_type": "stream",
     "text": [
      "100%|██████████| 3777/3777 [16:30<00:00,  3.81it/s]\n"
     ]
    },
    {
     "name": "stdout",
     "output_type": "stream",
     "text": [
      "Training Loss: 1.2787 Training Accuracy: 0.4056\n"
     ]
    },
    {
     "name": "stderr",
     "output_type": "stream",
     "text": [
      "100%|██████████| 2189/2189 [04:31<00:00,  8.05it/s]\n"
     ]
    },
    {
     "name": "stdout",
     "output_type": "stream",
     "text": [
      "Test Loss: 1.3009 Test Accuracy: 0.4223\n",
      "Epoch 2\n"
     ]
    },
    {
     "name": "stderr",
     "output_type": "stream",
     "text": [
      "100%|██████████| 3777/3777 [17:32<00:00,  3.59it/s]\n"
     ]
    },
    {
     "name": "stdout",
     "output_type": "stream",
     "text": [
      "Training Loss: 1.0871 Training Accuracy: 0.5218\n"
     ]
    },
    {
     "name": "stderr",
     "output_type": "stream",
     "text": [
      "100%|██████████| 2189/2189 [04:25<00:00,  8.25it/s]\n"
     ]
    },
    {
     "name": "stdout",
     "output_type": "stream",
     "text": [
      "Test Loss: 1.5074 Test Accuracy: 0.3301\n",
      "Epoch 3\n"
     ]
    },
    {
     "name": "stderr",
     "output_type": "stream",
     "text": [
      "100%|██████████| 3777/3777 [17:42<00:00,  3.56it/s]\n"
     ]
    },
    {
     "name": "stdout",
     "output_type": "stream",
     "text": [
      "Training Loss: 0.9238 Training Accuracy: 0.6007\n"
     ]
    },
    {
     "name": "stderr",
     "output_type": "stream",
     "text": [
      "100%|██████████| 2189/2189 [04:17<00:00,  8.49it/s]\n"
     ]
    },
    {
     "name": "stdout",
     "output_type": "stream",
     "text": [
      "Test Loss: 1.6293 Test Accuracy: 0.4055\n",
      "Epoch 4\n"
     ]
    },
    {
     "name": "stderr",
     "output_type": "stream",
     "text": [
      "100%|██████████| 3777/3777 [16:56<00:00,  3.72it/s]\n"
     ]
    },
    {
     "name": "stdout",
     "output_type": "stream",
     "text": [
      "Training Loss: 0.8184 Training Accuracy: 0.6576\n"
     ]
    },
    {
     "name": "stderr",
     "output_type": "stream",
     "text": [
      "100%|██████████| 2189/2189 [04:08<00:00,  8.79it/s]\n"
     ]
    },
    {
     "name": "stdout",
     "output_type": "stream",
     "text": [
      "Test Loss: 1.5699 Test Accuracy: 0.4069\n",
      "Epoch 5\n"
     ]
    },
    {
     "name": "stderr",
     "output_type": "stream",
     "text": [
      "100%|██████████| 3777/3777 [16:41<00:00,  3.77it/s]\n"
     ]
    },
    {
     "name": "stdout",
     "output_type": "stream",
     "text": [
      "Training Loss: 0.7403 Training Accuracy: 0.6972\n"
     ]
    },
    {
     "name": "stderr",
     "output_type": "stream",
     "text": [
      "100%|██████████| 2189/2189 [04:18<00:00,  8.46it/s]\n"
     ]
    },
    {
     "name": "stdout",
     "output_type": "stream",
     "text": [
      "Test Loss: 1.5488 Test Accuracy: 0.4343\n",
      "Epoch 6\n"
     ]
    },
    {
     "name": "stderr",
     "output_type": "stream",
     "text": [
      "100%|██████████| 3777/3777 [16:40<00:00,  3.78it/s]\n"
     ]
    },
    {
     "name": "stdout",
     "output_type": "stream",
     "text": [
      "Training Loss: 0.6809 Training Accuracy: 0.7247\n"
     ]
    },
    {
     "name": "stderr",
     "output_type": "stream",
     "text": [
      "100%|██████████| 2189/2189 [04:02<00:00,  9.02it/s]\n"
     ]
    },
    {
     "name": "stdout",
     "output_type": "stream",
     "text": [
      "Test Loss: 1.4956 Test Accuracy: 0.4344\n",
      "Epoch 7\n"
     ]
    },
    {
     "name": "stderr",
     "output_type": "stream",
     "text": [
      "100%|██████████| 3777/3777 [16:38<00:00,  3.78it/s]\n"
     ]
    },
    {
     "name": "stdout",
     "output_type": "stream",
     "text": [
      "Training Loss: 0.6463 Training Accuracy: 0.7430\n"
     ]
    },
    {
     "name": "stderr",
     "output_type": "stream",
     "text": [
      "100%|██████████| 2189/2189 [04:32<00:00,  8.03it/s]\n"
     ]
    },
    {
     "name": "stdout",
     "output_type": "stream",
     "text": [
      "Test Loss: 1.7523 Test Accuracy: 0.4585\n",
      "Epoch 8\n"
     ]
    },
    {
     "name": "stderr",
     "output_type": "stream",
     "text": [
      "100%|██████████| 3777/3777 [16:42<00:00,  3.77it/s]\n"
     ]
    },
    {
     "name": "stdout",
     "output_type": "stream",
     "text": [
      "Training Loss: 0.6038 Training Accuracy: 0.7579\n"
     ]
    },
    {
     "name": "stderr",
     "output_type": "stream",
     "text": [
      "100%|██████████| 2189/2189 [04:23<00:00,  8.30it/s]\n"
     ]
    },
    {
     "name": "stdout",
     "output_type": "stream",
     "text": [
      "Test Loss: 1.4515 Test Accuracy: 0.4854\n",
      "Epoch 9\n"
     ]
    },
    {
     "name": "stderr",
     "output_type": "stream",
     "text": [
      "100%|██████████| 3777/3777 [16:44<00:00,  3.76it/s]\n"
     ]
    },
    {
     "name": "stdout",
     "output_type": "stream",
     "text": [
      "Training Loss: 0.5772 Training Accuracy: 0.7737\n"
     ]
    },
    {
     "name": "stderr",
     "output_type": "stream",
     "text": [
      "100%|██████████| 2189/2189 [03:58<00:00,  9.18it/s]"
     ]
    },
    {
     "name": "stdout",
     "output_type": "stream",
     "text": [
      "Test Loss: 1.5062 Test Accuracy: 0.4978\n",
      "Train:  [[1.4453151551324965, tensor(0.2713, device='cuda:0')], [1.278736829047383, tensor(0.4056, device='cuda:0')], [1.0870531683799356, tensor(0.5218, device='cuda:0')], [0.923765770988631, tensor(0.6007, device='cuda:0')], [0.8183876516514437, tensor(0.6576, device='cuda:0')], [0.7402640066483773, tensor(0.6972, device='cuda:0')], [0.6809365507032136, tensor(0.7247, device='cuda:0')], [0.6463492192383963, tensor(0.7430, device='cuda:0')], [0.6037752303301651, tensor(0.7579, device='cuda:0')], [0.5771569872453134, tensor(0.7737, device='cuda:0')]]\n",
      "Test:  [[1.3650751340982847, tensor(0.3936, device='cuda:0')], [1.3009044412419697, tensor(0.4223, device='cuda:0')], [1.507390807594214, tensor(0.3301, device='cuda:0')], [1.6292844691393364, tensor(0.4055, device='cuda:0')], [1.5698632373725132, tensor(0.4069, device='cuda:0')], [1.5488062066295345, tensor(0.4343, device='cuda:0')], [1.4955579021049161, tensor(0.4344, device='cuda:0')], [1.7522860151780884, tensor(0.4585, device='cuda:0')], [1.4514575060982429, tensor(0.4854, device='cuda:0')], [1.5062046581609094, tensor(0.4978, device='cuda:0')]]\n"
     ]
    },
    {
     "name": "stderr",
     "output_type": "stream",
     "text": [
      "\n"
     ]
    }
   ],
   "source": [
    "results_train = []\n",
    "results_test = []\n",
    "\n",
    "for epoch in range(num_epochs):\n",
    "    print(f\"Epoch {epoch}\")\n",
    "    train_loss, train_acc = train_model(model, train_dataloader, optimizer, criterion, device)\n",
    "    results_train.append([train_loss, train_acc])\n",
    "    print(f\"Training Loss: {train_loss:.4f} Training Accuracy: {train_acc:.4f}\")\n",
    "    test_loss, test_acc = test_model(model, test_dataloader, criterion, device)\n",
    "    results_test.append([test_loss, test_acc])\n",
    "    print(f\"Test Loss: {test_loss:.4f} Test Accuracy: {test_acc:.4f}\")\n",
    "    if epoch % 5 == 0:\n",
    "        torch.save(model.state_dict(), f\"MIDmodel_{epoch}.pt\")\n",
    "    if epoch % 2 == 1:\n",
    "        learning_rate = learning_rate/2\n",
    "        optimizer = optim.Adam(model.parameters(), lr=learning_rate)\n",
    "\n",
    "print(\"Train: \", results_train)\n",
    "print(\"Test: \", results_test)\n",
    "\n",
    "# save the model\n",
    "torch.save(model.state_dict(), f\"MIDmodel.pt\")"
   ]
  },
  {
   "attachments": {},
   "cell_type": "markdown",
   "metadata": {},
   "source": [
    "Classifier to predict if the confidence is high enough, created on the entire dataset"
   ]
  },
  {
   "cell_type": "code",
   "execution_count": 36,
   "metadata": {},
   "outputs": [
    {
     "name": "stderr",
     "output_type": "stream",
     "text": [
      "100%|██████████| 2760/2760 [00:48<00:00, 56.65it/s]\n"
     ]
    }
   ],
   "source": [
    "# load the last model\n",
    "model = MIDmodel()\n",
    "model.load_state_dict(torch.load(\"MIDmodel.pt\"))\n",
    "model.to(device)\n",
    "model.eval()\n",
    "\n",
    "correct_preds = pd.DataFrame(columns=[\"true\", \"predicted\", \"sm0\", \"sm1\", \"sm2\", \"sm3\"])\n",
    "wrong_preds = pd.DataFrame(columns=[\"true\", \"predicted\", \"sm0\", \"sm1\", \"sm2\", \"sm3\"])\n",
    "\n",
    "entire_dataset = ImageDataset(data_dir, patients_ids, images_df)\n",
    "\n",
    "for i in tqdm(range(len(entire_dataset))):\n",
    "    img, label = entire_dataset[i]\n",
    "    img = img.unsqueeze(0)\n",
    "    img = img.to(device)\n",
    "    output = model(img)\n",
    "    sm = nn.Softmax(dim=1)\n",
    "    sm = sm(output)\n",
    "    sm = sm.cpu().detach().numpy()\n",
    "    sm = sm[0]\n",
    "    if torch.argmax(output) == label:\n",
    "        correct_preds = pd.concat([correct_preds, pd.DataFrame([[label, torch.argmax(output).cpu().detach().numpy(), sm[0], sm[1], sm[2], sm[3]]], columns=[\"true\", \"predicted\", \"sm0\", \"sm1\", \"sm2\", \"sm3\"])])\n",
    "    else:\n",
    "        wrong_preds = pd.concat([wrong_preds, pd.DataFrame([[label, torch.argmax(output).cpu().detach().numpy(), sm[0], sm[1], sm[2], sm[3]]], columns=[\"true\", \"predicted\", \"sm0\", \"sm1\", \"sm2\", \"sm3\"])])\n",
    "\n",
    "correct_preds.to_csv(\"correct_preds.csv\", index=False)\n",
    "wrong_preds.to_csv(\"wrong_preds.csv\", index=False)\n"
   ]
  },
  {
   "cell_type": "code",
   "execution_count": 56,
   "metadata": {},
   "outputs": [
    {
     "name": "stdout",
     "output_type": "stream",
     "text": [
      "Epoch 0\n"
     ]
    },
    {
     "name": "stderr",
     "output_type": "stream",
     "text": [
      "100%|██████████| 276/276 [00:01<00:00, 165.11it/s]\n"
     ]
    },
    {
     "name": "stdout",
     "output_type": "stream",
     "text": [
      "Training Loss: 0.7122 Training Accuracy: 0.1187\n"
     ]
    },
    {
     "name": "stderr",
     "output_type": "stream",
     "text": [
      "100%|██████████| 69/69 [00:00<00:00, 270.97it/s]\n"
     ]
    },
    {
     "name": "stdout",
     "output_type": "stream",
     "text": [
      "Test Loss: 0.7153 Test Accuracy: 0.0851\n",
      "Epoch 1\n"
     ]
    },
    {
     "name": "stderr",
     "output_type": "stream",
     "text": [
      "100%|██████████| 276/276 [00:01<00:00, 183.82it/s]\n"
     ]
    },
    {
     "name": "stdout",
     "output_type": "stream",
     "text": [
      "Training Loss: 0.7123 Training Accuracy: 0.1168\n"
     ]
    },
    {
     "name": "stderr",
     "output_type": "stream",
     "text": [
      "100%|██████████| 69/69 [00:00<00:00, 281.85it/s]\n"
     ]
    },
    {
     "name": "stdout",
     "output_type": "stream",
     "text": [
      "Test Loss: 0.7151 Test Accuracy: 0.0851\n",
      "Epoch 2\n"
     ]
    },
    {
     "name": "stderr",
     "output_type": "stream",
     "text": [
      "100%|██████████| 276/276 [00:01<00:00, 190.86it/s]\n"
     ]
    },
    {
     "name": "stdout",
     "output_type": "stream",
     "text": [
      "Training Loss: 0.7115 Training Accuracy: 0.1196\n"
     ]
    },
    {
     "name": "stderr",
     "output_type": "stream",
     "text": [
      "100%|██████████| 69/69 [00:00<00:00, 266.63it/s]\n"
     ]
    },
    {
     "name": "stdout",
     "output_type": "stream",
     "text": [
      "Test Loss: 0.7151 Test Accuracy: 0.0851\n",
      "Epoch 3\n"
     ]
    },
    {
     "name": "stderr",
     "output_type": "stream",
     "text": [
      "100%|██████████| 276/276 [00:01<00:00, 166.71it/s]\n"
     ]
    },
    {
     "name": "stdout",
     "output_type": "stream",
     "text": [
      "Training Loss: 0.7122 Training Accuracy: 0.1223\n"
     ]
    },
    {
     "name": "stderr",
     "output_type": "stream",
     "text": [
      "100%|██████████| 69/69 [00:00<00:00, 241.12it/s]\n"
     ]
    },
    {
     "name": "stdout",
     "output_type": "stream",
     "text": [
      "Test Loss: 0.7150 Test Accuracy: 0.0851\n",
      "Epoch 4\n"
     ]
    },
    {
     "name": "stderr",
     "output_type": "stream",
     "text": [
      "100%|██████████| 276/276 [00:01<00:00, 173.03it/s]\n"
     ]
    },
    {
     "name": "stdout",
     "output_type": "stream",
     "text": [
      "Training Loss: 0.7117 Training Accuracy: 0.1191\n"
     ]
    },
    {
     "name": "stderr",
     "output_type": "stream",
     "text": [
      "100%|██████████| 69/69 [00:00<00:00, 238.54it/s]\n"
     ]
    },
    {
     "name": "stdout",
     "output_type": "stream",
     "text": [
      "Test Loss: 0.7150 Test Accuracy: 0.0851\n",
      "Epoch 5\n"
     ]
    },
    {
     "name": "stderr",
     "output_type": "stream",
     "text": [
      "100%|██████████| 276/276 [00:01<00:00, 179.52it/s]\n"
     ]
    },
    {
     "name": "stdout",
     "output_type": "stream",
     "text": [
      "Training Loss: 0.7118 Training Accuracy: 0.1191\n"
     ]
    },
    {
     "name": "stderr",
     "output_type": "stream",
     "text": [
      "100%|██████████| 69/69 [00:00<00:00, 239.35it/s]\n"
     ]
    },
    {
     "name": "stdout",
     "output_type": "stream",
     "text": [
      "Test Loss: 0.7149 Test Accuracy: 0.0851\n",
      "Epoch 6\n"
     ]
    },
    {
     "name": "stderr",
     "output_type": "stream",
     "text": [
      "100%|██████████| 276/276 [00:01<00:00, 177.85it/s]\n"
     ]
    },
    {
     "name": "stdout",
     "output_type": "stream",
     "text": [
      "Training Loss: 0.7122 Training Accuracy: 0.1227\n"
     ]
    },
    {
     "name": "stderr",
     "output_type": "stream",
     "text": [
      "100%|██████████| 69/69 [00:00<00:00, 285.51it/s]\n"
     ]
    },
    {
     "name": "stdout",
     "output_type": "stream",
     "text": [
      "Test Loss: 0.7149 Test Accuracy: 0.0851\n",
      "Epoch 7\n"
     ]
    },
    {
     "name": "stderr",
     "output_type": "stream",
     "text": [
      "100%|██████████| 276/276 [00:01<00:00, 196.92it/s]\n"
     ]
    },
    {
     "name": "stdout",
     "output_type": "stream",
     "text": [
      "Training Loss: 0.7117 Training Accuracy: 0.1209\n"
     ]
    },
    {
     "name": "stderr",
     "output_type": "stream",
     "text": [
      "100%|██████████| 69/69 [00:00<00:00, 298.73it/s]\n"
     ]
    },
    {
     "name": "stdout",
     "output_type": "stream",
     "text": [
      "Test Loss: 0.7149 Test Accuracy: 0.0851\n",
      "Epoch 8\n"
     ]
    },
    {
     "name": "stderr",
     "output_type": "stream",
     "text": [
      "100%|██████████| 276/276 [00:01<00:00, 180.01it/s]\n"
     ]
    },
    {
     "name": "stdout",
     "output_type": "stream",
     "text": [
      "Training Loss: 0.7118 Training Accuracy: 0.1259\n"
     ]
    },
    {
     "name": "stderr",
     "output_type": "stream",
     "text": [
      "100%|██████████| 69/69 [00:00<00:00, 236.55it/s]\n"
     ]
    },
    {
     "name": "stdout",
     "output_type": "stream",
     "text": [
      "Test Loss: 0.7149 Test Accuracy: 0.0851\n",
      "Epoch 9\n"
     ]
    },
    {
     "name": "stderr",
     "output_type": "stream",
     "text": [
      " 52%|█████▏    | 144/276 [00:00<00:00, 169.03it/s]\n"
     ]
    },
    {
     "ename": "KeyboardInterrupt",
     "evalue": "",
     "output_type": "error",
     "traceback": [
      "\u001b[1;31m---------------------------------------------------------------------------\u001b[0m",
      "\u001b[1;31mKeyboardInterrupt\u001b[0m                         Traceback (most recent call last)",
      "\u001b[1;32mc:\\Users\\Davide\\Documents\\MID\\step_by_step_try.ipynb Cell 11\u001b[0m in \u001b[0;36m7\n\u001b[0;32m     <a href='vscode-notebook-cell:/c%3A/Users/Davide/Documents/MID/step_by_step_try.ipynb#X11sZmlsZQ%3D%3D?line=70'>71</a>\u001b[0m \u001b[39mfor\u001b[39;00m epoch \u001b[39min\u001b[39;00m \u001b[39mrange\u001b[39m(num_epochs):\n\u001b[0;32m     <a href='vscode-notebook-cell:/c%3A/Users/Davide/Documents/MID/step_by_step_try.ipynb#X11sZmlsZQ%3D%3D?line=71'>72</a>\u001b[0m     \u001b[39mprint\u001b[39m(\u001b[39mf\u001b[39m\u001b[39m\"\u001b[39m\u001b[39mEpoch \u001b[39m\u001b[39m{\u001b[39;00mepoch\u001b[39m}\u001b[39;00m\u001b[39m\"\u001b[39m)\n\u001b[1;32m---> <a href='vscode-notebook-cell:/c%3A/Users/Davide/Documents/MID/step_by_step_try.ipynb#X11sZmlsZQ%3D%3D?line=72'>73</a>\u001b[0m     train_loss, train_acc \u001b[39m=\u001b[39m train_model(binary_model, train_dataloader_bin, optimizer, criterion, device)\n\u001b[0;32m     <a href='vscode-notebook-cell:/c%3A/Users/Davide/Documents/MID/step_by_step_try.ipynb#X11sZmlsZQ%3D%3D?line=73'>74</a>\u001b[0m     results_train\u001b[39m.\u001b[39mappend([train_loss, train_acc\u001b[39m.\u001b[39mitem()])\n\u001b[0;32m     <a href='vscode-notebook-cell:/c%3A/Users/Davide/Documents/MID/step_by_step_try.ipynb#X11sZmlsZQ%3D%3D?line=74'>75</a>\u001b[0m     \u001b[39mprint\u001b[39m(\u001b[39mf\u001b[39m\u001b[39m\"\u001b[39m\u001b[39mTraining Loss: \u001b[39m\u001b[39m{\u001b[39;00mtrain_loss\u001b[39m:\u001b[39;00m\u001b[39m.4f\u001b[39m\u001b[39m}\u001b[39;00m\u001b[39m Training Accuracy: \u001b[39m\u001b[39m{\u001b[39;00mtrain_acc\u001b[39m:\u001b[39;00m\u001b[39m.4f\u001b[39m\u001b[39m}\u001b[39;00m\u001b[39m\"\u001b[39m)\n",
      "\u001b[1;32mc:\\Users\\Davide\\Documents\\MID\\step_by_step_try.ipynb Cell 11\u001b[0m in \u001b[0;36m8\n\u001b[0;32m      <a href='vscode-notebook-cell:/c%3A/Users/Davide/Documents/MID/step_by_step_try.ipynb#X11sZmlsZQ%3D%3D?line=5'>6</a>\u001b[0m running_loss \u001b[39m=\u001b[39m \u001b[39m0.0\u001b[39m\n\u001b[0;32m      <a href='vscode-notebook-cell:/c%3A/Users/Davide/Documents/MID/step_by_step_try.ipynb#X11sZmlsZQ%3D%3D?line=6'>7</a>\u001b[0m running_corrects \u001b[39m=\u001b[39m \u001b[39m0\u001b[39m\n\u001b[1;32m----> <a href='vscode-notebook-cell:/c%3A/Users/Davide/Documents/MID/step_by_step_try.ipynb#X11sZmlsZQ%3D%3D?line=7'>8</a>\u001b[0m \u001b[39mfor\u001b[39;00m inputs, labels \u001b[39min\u001b[39;00m tqdm(dataloader):\n\u001b[0;32m      <a href='vscode-notebook-cell:/c%3A/Users/Davide/Documents/MID/step_by_step_try.ipynb#X11sZmlsZQ%3D%3D?line=8'>9</a>\u001b[0m     inputs \u001b[39m=\u001b[39m inputs\u001b[39m.\u001b[39mto(device)\n\u001b[0;32m     <a href='vscode-notebook-cell:/c%3A/Users/Davide/Documents/MID/step_by_step_try.ipynb#X11sZmlsZQ%3D%3D?line=9'>10</a>\u001b[0m     labels \u001b[39m=\u001b[39m labels\u001b[39m.\u001b[39mto(device)\n",
      "File \u001b[1;32mc:\\Users\\Davide\\AppData\\Local\\Programs\\Python\\Python310\\lib\\site-packages\\tqdm\\std.py:1195\u001b[0m, in \u001b[0;36mtqdm.__iter__\u001b[1;34m(self)\u001b[0m\n\u001b[0;32m   1192\u001b[0m time \u001b[39m=\u001b[39m \u001b[39mself\u001b[39m\u001b[39m.\u001b[39m_time\n\u001b[0;32m   1194\u001b[0m \u001b[39mtry\u001b[39;00m:\n\u001b[1;32m-> 1195\u001b[0m     \u001b[39mfor\u001b[39;00m obj \u001b[39min\u001b[39;00m iterable:\n\u001b[0;32m   1196\u001b[0m         \u001b[39myield\u001b[39;00m obj\n\u001b[0;32m   1197\u001b[0m         \u001b[39m# Update and possibly print the progressbar.\u001b[39;00m\n\u001b[0;32m   1198\u001b[0m         \u001b[39m# Note: does not call self.update(1) for speed optimisation.\u001b[39;00m\n",
      "File \u001b[1;32mc:\\Users\\Davide\\AppData\\Local\\Programs\\Python\\Python310\\lib\\site-packages\\torch\\utils\\data\\dataloader.py:628\u001b[0m, in \u001b[0;36m_BaseDataLoaderIter.__next__\u001b[1;34m(self)\u001b[0m\n\u001b[0;32m    625\u001b[0m \u001b[39mif\u001b[39;00m \u001b[39mself\u001b[39m\u001b[39m.\u001b[39m_sampler_iter \u001b[39mis\u001b[39;00m \u001b[39mNone\u001b[39;00m:\n\u001b[0;32m    626\u001b[0m     \u001b[39m# TODO(https://github.com/pytorch/pytorch/issues/76750)\u001b[39;00m\n\u001b[0;32m    627\u001b[0m     \u001b[39mself\u001b[39m\u001b[39m.\u001b[39m_reset()  \u001b[39m# type: ignore[call-arg]\u001b[39;00m\n\u001b[1;32m--> 628\u001b[0m data \u001b[39m=\u001b[39m \u001b[39mself\u001b[39;49m\u001b[39m.\u001b[39;49m_next_data()\n\u001b[0;32m    629\u001b[0m \u001b[39mself\u001b[39m\u001b[39m.\u001b[39m_num_yielded \u001b[39m+\u001b[39m\u001b[39m=\u001b[39m \u001b[39m1\u001b[39m\n\u001b[0;32m    630\u001b[0m \u001b[39mif\u001b[39;00m \u001b[39mself\u001b[39m\u001b[39m.\u001b[39m_dataset_kind \u001b[39m==\u001b[39m _DatasetKind\u001b[39m.\u001b[39mIterable \u001b[39mand\u001b[39;00m \\\n\u001b[0;32m    631\u001b[0m         \u001b[39mself\u001b[39m\u001b[39m.\u001b[39m_IterableDataset_len_called \u001b[39mis\u001b[39;00m \u001b[39mnot\u001b[39;00m \u001b[39mNone\u001b[39;00m \u001b[39mand\u001b[39;00m \\\n\u001b[0;32m    632\u001b[0m         \u001b[39mself\u001b[39m\u001b[39m.\u001b[39m_num_yielded \u001b[39m>\u001b[39m \u001b[39mself\u001b[39m\u001b[39m.\u001b[39m_IterableDataset_len_called:\n",
      "File \u001b[1;32mc:\\Users\\Davide\\AppData\\Local\\Programs\\Python\\Python310\\lib\\site-packages\\torch\\utils\\data\\dataloader.py:671\u001b[0m, in \u001b[0;36m_SingleProcessDataLoaderIter._next_data\u001b[1;34m(self)\u001b[0m\n\u001b[0;32m    669\u001b[0m \u001b[39mdef\u001b[39;00m \u001b[39m_next_data\u001b[39m(\u001b[39mself\u001b[39m):\n\u001b[0;32m    670\u001b[0m     index \u001b[39m=\u001b[39m \u001b[39mself\u001b[39m\u001b[39m.\u001b[39m_next_index()  \u001b[39m# may raise StopIteration\u001b[39;00m\n\u001b[1;32m--> 671\u001b[0m     data \u001b[39m=\u001b[39m \u001b[39mself\u001b[39;49m\u001b[39m.\u001b[39;49m_dataset_fetcher\u001b[39m.\u001b[39;49mfetch(index)  \u001b[39m# may raise StopIteration\u001b[39;00m\n\u001b[0;32m    672\u001b[0m     \u001b[39mif\u001b[39;00m \u001b[39mself\u001b[39m\u001b[39m.\u001b[39m_pin_memory:\n\u001b[0;32m    673\u001b[0m         data \u001b[39m=\u001b[39m _utils\u001b[39m.\u001b[39mpin_memory\u001b[39m.\u001b[39mpin_memory(data, \u001b[39mself\u001b[39m\u001b[39m.\u001b[39m_pin_memory_device)\n",
      "File \u001b[1;32mc:\\Users\\Davide\\AppData\\Local\\Programs\\Python\\Python310\\lib\\site-packages\\torch\\utils\\data\\_utils\\fetch.py:58\u001b[0m, in \u001b[0;36m_MapDatasetFetcher.fetch\u001b[1;34m(self, possibly_batched_index)\u001b[0m\n\u001b[0;32m     56\u001b[0m         data \u001b[39m=\u001b[39m \u001b[39mself\u001b[39m\u001b[39m.\u001b[39mdataset\u001b[39m.\u001b[39m__getitems__(possibly_batched_index)\n\u001b[0;32m     57\u001b[0m     \u001b[39melse\u001b[39;00m:\n\u001b[1;32m---> 58\u001b[0m         data \u001b[39m=\u001b[39m [\u001b[39mself\u001b[39m\u001b[39m.\u001b[39mdataset[idx] \u001b[39mfor\u001b[39;00m idx \u001b[39min\u001b[39;00m possibly_batched_index]\n\u001b[0;32m     59\u001b[0m \u001b[39melse\u001b[39;00m:\n\u001b[0;32m     60\u001b[0m     data \u001b[39m=\u001b[39m \u001b[39mself\u001b[39m\u001b[39m.\u001b[39mdataset[possibly_batched_index]\n",
      "File \u001b[1;32mc:\\Users\\Davide\\AppData\\Local\\Programs\\Python\\Python310\\lib\\site-packages\\torch\\utils\\data\\_utils\\fetch.py:58\u001b[0m, in \u001b[0;36m<listcomp>\u001b[1;34m(.0)\u001b[0m\n\u001b[0;32m     56\u001b[0m         data \u001b[39m=\u001b[39m \u001b[39mself\u001b[39m\u001b[39m.\u001b[39mdataset\u001b[39m.\u001b[39m__getitems__(possibly_batched_index)\n\u001b[0;32m     57\u001b[0m     \u001b[39melse\u001b[39;00m:\n\u001b[1;32m---> 58\u001b[0m         data \u001b[39m=\u001b[39m [\u001b[39mself\u001b[39;49m\u001b[39m.\u001b[39;49mdataset[idx] \u001b[39mfor\u001b[39;00m idx \u001b[39min\u001b[39;00m possibly_batched_index]\n\u001b[0;32m     59\u001b[0m \u001b[39melse\u001b[39;00m:\n\u001b[0;32m     60\u001b[0m     data \u001b[39m=\u001b[39m \u001b[39mself\u001b[39m\u001b[39m.\u001b[39mdataset[possibly_batched_index]\n",
      "File \u001b[1;32mc:\\Users\\Davide\\AppData\\Local\\Programs\\Python\\Python310\\lib\\site-packages\\torch\\utils\\data\\dataset.py:295\u001b[0m, in \u001b[0;36mSubset.__getitem__\u001b[1;34m(self, idx)\u001b[0m\n\u001b[0;32m    293\u001b[0m \u001b[39mif\u001b[39;00m \u001b[39misinstance\u001b[39m(idx, \u001b[39mlist\u001b[39m):\n\u001b[0;32m    294\u001b[0m     \u001b[39mreturn\u001b[39;00m \u001b[39mself\u001b[39m\u001b[39m.\u001b[39mdataset[[\u001b[39mself\u001b[39m\u001b[39m.\u001b[39mindices[i] \u001b[39mfor\u001b[39;00m i \u001b[39min\u001b[39;00m idx]]\n\u001b[1;32m--> 295\u001b[0m \u001b[39mreturn\u001b[39;00m \u001b[39mself\u001b[39;49m\u001b[39m.\u001b[39;49mdataset[\u001b[39mself\u001b[39;49m\u001b[39m.\u001b[39;49mindices[idx]]\n",
      "\u001b[1;32mc:\\Users\\Davide\\Documents\\MID\\step_by_step_try.ipynb Cell 11\u001b[0m in \u001b[0;36m3\n\u001b[0;32m     <a href='vscode-notebook-cell:/c%3A/Users/Davide/Documents/MID/step_by_step_try.ipynb#X11sZmlsZQ%3D%3D?line=32'>33</a>\u001b[0m label \u001b[39m=\u001b[39m \u001b[39mself\u001b[39m\u001b[39m.\u001b[39mpreds\u001b[39m.\u001b[39miloc[idx][\u001b[39m\"\u001b[39m\u001b[39mcorrect\u001b[39m\u001b[39m\"\u001b[39m]\n\u001b[0;32m     <a href='vscode-notebook-cell:/c%3A/Users/Davide/Documents/MID/step_by_step_try.ipynb#X11sZmlsZQ%3D%3D?line=33'>34</a>\u001b[0m sms \u001b[39m=\u001b[39m \u001b[39mself\u001b[39m\u001b[39m.\u001b[39mpreds\u001b[39m.\u001b[39miloc[idx][[\u001b[39m\"\u001b[39m\u001b[39msm0\u001b[39m\u001b[39m\"\u001b[39m, \u001b[39m\"\u001b[39m\u001b[39msm1\u001b[39m\u001b[39m\"\u001b[39m, \u001b[39m\"\u001b[39m\u001b[39msm2\u001b[39m\u001b[39m\"\u001b[39m, \u001b[39m\"\u001b[39m\u001b[39msm3\u001b[39m\u001b[39m\"\u001b[39m]]\n\u001b[1;32m---> <a href='vscode-notebook-cell:/c%3A/Users/Davide/Documents/MID/step_by_step_try.ipynb#X11sZmlsZQ%3D%3D?line=34'>35</a>\u001b[0m sms \u001b[39m=\u001b[39m torch\u001b[39m.\u001b[39;49mtensor(\u001b[39mlist\u001b[39;49m(sms\u001b[39m.\u001b[39;49mvalues), dtype\u001b[39m=\u001b[39;49mtorch\u001b[39m.\u001b[39;49mfloat32)\n\u001b[0;32m     <a href='vscode-notebook-cell:/c%3A/Users/Davide/Documents/MID/step_by_step_try.ipynb#X11sZmlsZQ%3D%3D?line=35'>36</a>\u001b[0m \u001b[39mreturn\u001b[39;00m sms, \u001b[39mint\u001b[39m(label)\n",
      "\u001b[1;31mKeyboardInterrupt\u001b[0m: "
     ]
    }
   ],
   "source": [
    "\n",
    "class MIDbinary(nn.Module):\n",
    "    def __init__(self):\n",
    "        super(MIDbinary, self).__init__()\n",
    "        self.fc1 = nn.Linear(4, 32)\n",
    "        self.fc2 = nn.Linear(32, 64)\n",
    "        self.fc3 = nn.Linear(64, 32)\n",
    "        self.fc4 = nn.Linear(32, 2)\n",
    "        self.dropout = nn.Dropout(0.2)\n",
    "        self.relu = nn.ReLU()\n",
    "        self.softmax = nn.Softmax(dim=1)\n",
    "\n",
    "    def forward(self, x):\n",
    "        x = self.relu(self.fc1(x))\n",
    "        x = self.dropout(x)\n",
    "        x = self.relu(self.fc2(x))\n",
    "        x = self.dropout(x)\n",
    "        x = self.relu(self.fc3(x))\n",
    "        x = self.dropout(x)\n",
    "        x = self.fc4(x)\n",
    "        x = self.softmax(x)\n",
    "        return x\n",
    "    \n",
    "# BinaryDataset\n",
    "class BinaryDataset(Dataset):\n",
    "    def __init__(self, preds):\n",
    "        # add a clumn to correct_preds and wrong_preds that says if it's correct or not\n",
    "        self.preds = preds\n",
    "\n",
    "    def __len__(self):\n",
    "        return len(self.preds)\n",
    "\n",
    "    def __getitem__(self, idx):\n",
    "        label = self.preds.iloc[idx][\"correct\"]\n",
    "        sms = self.preds.iloc[idx][[\"sm0\", \"sm1\", \"sm2\", \"sm3\"]]\n",
    "        sms = torch.tensor(list(sms.values), dtype=torch.float32)\n",
    "        return sms, int(label)\n",
    "\n",
    "# train the binary model\n",
    "binary_model = MIDbinary()\n",
    "binary_model = binary_model.to(device)\n",
    "criterion = nn.CrossEntropyLoss()\n",
    "learning_rate = 0.0000001\n",
    "optimizer = optim.Adam(binary_model.parameters(), lr=learning_rate)\n",
    "\n",
    "correct_preds = pd.read_csv(\"correct_preds.csv\")\n",
    "wrong_preds = pd.read_csv(\"wrong_preds.csv\")\n",
    "\n",
    "# add a clumn to correct_preds and wrong_preds that says if it's correct or not\n",
    "correct_preds[\"correct\"] = 1\n",
    "wrong_preds[\"correct\"] = 0\n",
    "# stack the two dataframes\n",
    "preds_total = pd.concat([correct_preds, wrong_preds])\n",
    "# remove true and predicted columns\n",
    "preds_total = preds_total.drop([\"true\", \"predicted\"], axis=1)\n",
    "# save the values\n",
    "preds_total.to_csv(\"values.csv\", index=False)\n",
    "\n",
    "# divide train and test data\n",
    "train_size_bin = int(0.8 * (len(preds_total)))\n",
    "test_size_bin = len(preds_total) - train_size_bin\n",
    "# TODO: better split\n",
    "from torch.utils.data import random_split\n",
    "train_dataset_bin, test_dataset_bin = random_split(BinaryDataset(preds_total), [train_size_bin, test_size_bin])\n",
    "\n",
    "train_dataloader_bin = DataLoader(train_dataset_bin, batch_size=batch_size, shuffle=True)\n",
    "test_dataloader_bin = DataLoader(test_dataset_bin, batch_size=batch_size, shuffle=False)\n",
    "\n",
    "results_train = []\n",
    "results_test = []\n",
    "num_epochs = 10\n",
    "\n",
    "for epoch in range(num_epochs):\n",
    "    print(f\"Epoch {epoch}\")\n",
    "    train_loss, train_acc = train_model(binary_model, train_dataloader_bin, optimizer, criterion, device)\n",
    "    results_train.append([train_loss, train_acc.item()])\n",
    "    print(f\"Training Loss: {train_loss:.4f} Training Accuracy: {train_acc:.4f}\")\n",
    "    test_loss, test_acc = test_model(binary_model, test_dataloader_bin, criterion, device)\n",
    "    results_test.append([test_loss, test_acc.item()])\n",
    "    print(f\"Test Loss: {test_loss:.4f} Test Accuracy: {test_acc:.4f}\")\n",
    "    if epoch % 2 == 1:\n",
    "        learning_rate = learning_rate/2\n",
    "        optimizer = optim.Adam(binary_model.parameters(), lr=learning_rate)\n",
    "\n",
    "print(\"Train: \", results_train)\n",
    "print(\"Test: \", results_test)\n",
    "\n",
    "import matplotlib.pyplot as plt\n",
    "# subplots with train[0], train[1], test[0], test[1]\n",
    "fig, axs = plt.subplots(2, 2)\n",
    "axs[0, 0].plot([i[0] for i in results_train])\n",
    "axs[0, 0].set_title(\"Train Loss\")\n",
    "axs[0, 1].plot([i[1] for i in results_train])\n",
    "axs[0, 1].set_title(\"Train Accuracy\")\n",
    "axs[1, 0].plot([i[0] for i in results_test])\n",
    "axs[1, 0].set_title(\"Test Loss\")\n",
    "axs[1, 1].plot([i[1] for i in results_test])\n",
    "axs[1, 1].set_title(\"Test Accuracy\")\n",
    "plt.show()\n",
    "\n"
   ]
  },
  {
   "cell_type": "code",
   "execution_count": 50,
   "metadata": {},
   "outputs": [
    {
     "name": "stderr",
     "output_type": "stream",
     "text": [
      "  0%|          | 10/17512 [00:00<05:29, 53.06it/s]"
     ]
    },
    {
     "name": "stdout",
     "output_type": "stream",
     "text": [
      "tensor([[9.7090e-01, 2.8933e-02, 1.6503e-04, 4.9146e-06]], device='cuda:0',\n",
      "       grad_fn=<SoftmaxBackward0>)\n",
      "True label: 0 Predicted label: 0 Binary output: 1\n",
      "tensor([[0.8456, 0.1463, 0.0071, 0.0010]], device='cuda:0',\n",
      "       grad_fn=<SoftmaxBackward0>)\n",
      "True label: 0 Predicted label: 0 Binary output: 1\n",
      "tensor([[0.8400, 0.1505, 0.0080, 0.0015]], device='cuda:0',\n",
      "       grad_fn=<SoftmaxBackward0>)\n",
      "True label: 0 Predicted label: 0 Binary output: 1\n",
      "tensor([[0.7110, 0.2551, 0.0271, 0.0068]], device='cuda:0',\n",
      "       grad_fn=<SoftmaxBackward0>)\n",
      "True label: 0 Predicted label: 0 Binary output: 1\n",
      "tensor([[0.4896, 0.3659, 0.0943, 0.0502]], device='cuda:0',\n",
      "       grad_fn=<SoftmaxBackward0>)\n",
      "True label: 0 Predicted label: 0 Binary output: 1\n",
      "tensor([[0.1935, 0.3295, 0.1501, 0.3269]], device='cuda:0',\n",
      "       grad_fn=<SoftmaxBackward0>)\n",
      "True label: 0 Predicted label: 1 Binary output: 1\n",
      "tensor([[0.2936, 0.4087, 0.1444, 0.1534]], device='cuda:0',\n",
      "       grad_fn=<SoftmaxBackward0>)\n",
      "True label: 0 Predicted label: 1 Binary output: 1\n",
      "tensor([[0.4945, 0.3756, 0.0838, 0.0461]], device='cuda:0',\n",
      "       grad_fn=<SoftmaxBackward0>)\n",
      "True label: 0 Predicted label: 0 Binary output: 1\n",
      "tensor([[0.1165, 0.2660, 0.2420, 0.3754]], device='cuda:0',\n",
      "       grad_fn=<SoftmaxBackward0>)\n",
      "True label: 0 Predicted label: 3 Binary output: 1\n",
      "tensor([[0.1192, 0.2571, 0.2484, 0.3753]], device='cuda:0',\n",
      "       grad_fn=<SoftmaxBackward0>)\n",
      "True label: 0 Predicted label: 3 Binary output: 1\n",
      "tensor([[0.1601, 0.2758, 0.2119, 0.3522]], device='cuda:0',\n",
      "       grad_fn=<SoftmaxBackward0>)\n",
      "True label: 0 Predicted label: 3 Binary output: 1\n",
      "Zero count:  0\n",
      "One count:  11\n"
     ]
    },
    {
     "name": "stderr",
     "output_type": "stream",
     "text": [
      "\n"
     ]
    }
   ],
   "source": [
    "model = MIDmodel()\n",
    "model.load_state_dict(torch.load(\"MIDmodel.pt\"))\n",
    "model.to(device)\n",
    "model.eval()\n",
    "\n",
    "# get the predictions for the test set and pass it to the binary model\n",
    "zero_count = 0\n",
    "one_count = 0\n",
    "for i in tqdm(range(len(test_dataset))):\n",
    "    img, label = test_dataset[i]\n",
    "    img = img.to(device)\n",
    "    img = img.unsqueeze(0)\n",
    "    output = model(img)\n",
    "    sm = torch.nn.functional.softmax(output, dim=1)\n",
    "    print(sm)\n",
    "    binary_output = binary_model(sm)\n",
    "    predicted_label = torch.argmax(output).cpu().detach().numpy()\n",
    "    predicted_binary = torch.argmax(binary_output).cpu().detach().numpy()\n",
    "    if predicted_binary == 0:\n",
    "        zero_count += 1\n",
    "    else:\n",
    "        one_count += 1\n",
    "    print(f\"True label: {label} Predicted label: {predicted_label} Binary output: {predicted_binary}\")\n",
    "    if i == 10:\n",
    "        break\n",
    "\n",
    "print(\"Zero count: \", zero_count)\n",
    "print(\"One count: \", one_count)\n",
    "\n",
    "    \n"
   ]
  },
  {
   "attachments": {},
   "cell_type": "markdown",
   "metadata": {},
   "source": [
    "t-SNE to visualize only the correct prediction (but still in both train and test)"
   ]
  },
  {
   "cell_type": "code",
   "execution_count": 12,
   "metadata": {},
   "outputs": [],
   "source": [
    "# impiort TNSE\n",
    "from sklearn.manifold import TSNE\n",
    "import matplotlib.pyplot as plt\n",
    "\n",
    "plt.show()\n"
   ]
  }
 ],
 "metadata": {
  "kernelspec": {
   "display_name": "Python 3",
   "language": "python",
   "name": "python3"
  },
  "language_info": {
   "codemirror_mode": {
    "name": "ipython",
    "version": 3
   },
   "file_extension": ".py",
   "mimetype": "text/x-python",
   "name": "python",
   "nbconvert_exporter": "python",
   "pygments_lexer": "ipython3",
   "version": "3.10.9"
  },
  "orig_nbformat": 4,
  "vscode": {
   "interpreter": {
    "hash": "760bf3b9c43a19e2fe1b4d509841bd16027d034122dfd0e7f3a29ff3458619a9"
   }
  }
 },
 "nbformat": 4,
 "nbformat_minor": 2
}
