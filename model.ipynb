{
 "cells": [
  {
   "cell_type": "code",
   "execution_count": 1,
   "metadata": {},
   "outputs": [],
   "source": [
    "import torch\n",
    "import torch.nn as nn\n",
    "from torch.utils.data import Dataset\n",
    "\n",
    "from torchvision import transforms\n",
    "from torchvision.models import resnet18\n",
    "from torchvision.models.resnet import ResNet18_Weights\n",
    "\n",
    "import pandas as pd\n",
    "import numpy as np\n",
    "import glob\n",
    "from PIL import Image\n",
    "import matplotlib.pyplot as plt\n",
    "import seaborn as sns\n",
    "\n",
    "from sklearn.metrics import confusion_matrix, accuracy_score, precision_score\n",
    "from sklearn.svm import SVC\n",
    "from sklearn.manifold import TSNE\n",
    "\n",
    "import itertools\n",
    "from tqdm import tqdm\n",
    "import pickle\n",
    "import os\n",
    "\n",
    "device = torch.device(\"cuda:0\" if torch.cuda.is_available() else \"cpu\")"
   ]
  },
  {
   "cell_type": "code",
   "execution_count": 2,
   "metadata": {},
   "outputs": [],
   "source": [
    "class MIDmodel2(nn.Module):\n",
    "    def __init__(self):\n",
    "        super(MIDmodel2, self).__init__()\n",
    "        self.pretrained = resnet18(weights = ResNet18_Weights.DEFAULT)\n",
    "        self.pretrained.fc = nn.Identity()\n",
    "        self.fc1 = nn.Linear(512, 4)\n",
    "\n",
    "    def get_embeddings(self, x):\n",
    "        x = self.pretrained(x)\n",
    "        return x\n",
    "\n",
    "    def forward(self, x):\n",
    "        x = self.pretrained(x)\n",
    "        x = self.fc1(x)\n",
    "        return x\n",
    "    \n",
    "class ImageDataset(Dataset):\n",
    "    def __init__(self, root_dir, patients_ids, patients_df, transform=None):\n",
    "        self.patients_df = patients_df[patients_df[\"patient_id\"].isin(patients_ids)]\n",
    "        self.root_dir = root_dir\n",
    "        self.transform = transform\n",
    "        \n",
    "    def __len__(self):\n",
    "        return len(self.patients_df)\n",
    "\n",
    "    def __getitem__(self, idx):\n",
    "        row = self.patients_df.iloc[idx]\n",
    "        path = os.path.join(self.root_dir, row[\"patient_id\"] + \"_\" + row[\"exam_id\"] + \"_\" + row[\"spot\"] + \"_\" + row[\"frame_number\"] + \"_\" + row[\"score\"] + \".png\")\n",
    "        image = Image.open(path)\n",
    "        label = row[\"score\"]\n",
    "\n",
    "        if self.transform:\n",
    "            image = self.transform(image)\n",
    "            \n",
    "        image = transforms.ToTensor()(image)\n",
    "        image = transforms.Resize((224, 224))(image)\n",
    "        image = transforms.Normalize(mean=[0.485, 0.456, 0.406], std=[0.229, 0.224, 0.225])(image)\n",
    "\n",
    "        return image, int(label), path"
   ]
  },
  {
   "cell_type": "code",
   "execution_count": 4,
   "metadata": {},
   "outputs": [
    {
     "name": "stdout",
     "output_type": "stream",
     "text": [
      "['1048', '1069', '1017', '1051', '1052', '1067', '1047', '1050']\n",
      "score\n",
      "0    7888\n",
      "1    7540\n",
      "2    7189\n",
      "3    7592\n",
      "Name: patient_id, dtype: int64\n",
      "['1045', '1066', '1068']\n",
      "score\n",
      "0    6625\n",
      "1    1721\n",
      "2    5535\n",
      "3    3631\n",
      "Name: patient_id, dtype: int64\n"
     ]
    }
   ],
   "source": [
    "data_dir = \"images/\"\n",
    "images_paths = glob.glob(f\"{data_dir}*.png\", recursive=True)\n",
    "images_df = pd.DataFrame([path[len(data_dir):-4].split(\"_\") for path in images_paths], columns=[\"patient_id\", \"exam_id\", \"spot\", \"frame_number\", \"score\"])\n",
    "images_df[\"score\"] = images_df[\"score\"].astype(str)\n",
    "images_df[\"frame_number\"] = images_df[\"frame_number\"].astype(str)\n",
    "images_df[\"spot\"] = images_df[\"spot\"].astype(str)\n",
    "images_df[\"patient_id\"] = images_df[\"patient_id\"].astype(str)\n",
    "images_df[\"exam_id\"] = images_df[\"exam_id\"].astype(str)\n",
    "patients_ids = set(images_df[\"patient_id\"])\n",
    "patients_ids = list(patients_ids)\n",
    "\n",
    "# select the 8 patients for training based on the most balanced distribution of the scores\n",
    "combs = list(itertools.combinations(patients_ids, 8))\n",
    "stds = []\n",
    "for i, c in enumerate(combs):\n",
    "    stds.append((images_df[images_df[\"patient_id\"].isin(c)].groupby(\"score\").count()[\"patient_id\"].std(), i))\n",
    "# sort the stds\n",
    "train_patients = [x for x in combs[min(stds)[1]]]\n",
    "print(train_patients)\n",
    "print(images_df[images_df[\"patient_id\"].isin(train_patients)].groupby(\"score\").count()[\"patient_id\"])\n",
    "test_patients = [x for x in patients_ids if x not in train_patients]\n",
    "print(test_patients)\n",
    "print(images_df[images_df[\"patient_id\"].isin(test_patients)].groupby(\"score\").count()[\"patient_id\"])"
   ]
  },
  {
   "cell_type": "code",
   "execution_count": 5,
   "metadata": {},
   "outputs": [
    {
     "name": "stdout",
     "output_type": "stream",
     "text": [
      "Number of images for each score for patient 1045\n",
      "0    6198\n",
      "1      29\n",
      "2     370\n",
      "3     402\n",
      "Name: score, dtype: int64\n",
      "Number of images for each score for patient 1066\n",
      "0     210\n",
      "1     911\n",
      "2    1707\n",
      "3     677\n",
      "Name: score, dtype: int64\n",
      "Number of images for each score for patient 1068\n",
      "0     217\n",
      "1     781\n",
      "2    3458\n",
      "3    2552\n",
      "Name: score, dtype: int64\n",
      "348\n",
      "Number of images for each score for the selected images\n",
      "0    87\n",
      "1    87\n",
      "2    87\n",
      "3    87\n",
      "Name: score, dtype: int64\n"
     ]
    }
   ],
   "source": [
    "for patient in test_patients:\n",
    "    # print the number of images for each score based on image_df\n",
    "    print(\"Number of images for each score for patient\", patient)\n",
    "    result = images_df[images_df[\"patient_id\"] == patient][\"score\"].value_counts()\n",
    "    # sort the result by score\n",
    "    result = result.sort_index()\n",
    "    print(result)\n",
    "\n",
    "max_number = 29\n",
    "selected_df_test = pd.DataFrame()\n",
    "for patient in test_patients:\n",
    "    for score in range(0,4):\n",
    "        # get the images for the patient and score\n",
    "        patient_score_df = images_df[(images_df[\"patient_id\"] == patient) & (images_df[\"score\"] == f\"{score}\")]\n",
    "        # if the number of images is less than 40, select all of them\n",
    "        if len(patient_score_df) < max_number:\n",
    "            selected_df_test = pd.concat([selected_df_test, patient_score_df])\n",
    "        else:\n",
    "            # select 29 images randomly\n",
    "            selected_df_test = pd.concat([selected_df_test, patient_score_df.sample(n=max_number, random_state=42)])\n",
    "print(len(selected_df_test))\n",
    "# print the number of images for each score based on selected_df\n",
    "print(\"Number of images for each score for the selected images\")\n",
    "result = selected_df_test[\"score\"].value_counts()\n",
    "# sort the result by score\n",
    "result = result.sort_index()\n",
    "print(result)\n",
    "\n",
    "# create a new dataframe using each entry of the selected_df as path\n",
    "paths_test_df = pd.DataFrame()\n",
    "for index, row in selected_df_test.iterrows():\n",
    "    # get the path\n",
    "    path = os.path.join(\"images/\", row[\"patient_id\"] + \"_\" + row[\"exam_id\"] + \"_\" + row[\"spot\"] + \"_\" + row[\"frame_number\"] + \"_\" + row[\"score\"] + \".png\" )\n",
    "    # create a new dataframe with the path\n",
    "    tmp_df = pd.DataFrame({\"path\": [path]})\n",
    "    # add the new dataframe to the values dataframe\n",
    "    paths_test_df = pd.concat([paths_test_df, tmp_df])"
   ]
  },
  {
   "cell_type": "code",
   "execution_count": 6,
   "metadata": {},
   "outputs": [],
   "source": [
    "def getPath(row):\n",
    "    return os.path.join(\"images/\", row[\"patient_id\"] + \"_\" + row[\"exam_id\"] + \"_\" + row[\"spot\"] + \"_\" + row[\"frame_number\"] + \"_\" + row[\"score\"] + \".png\")"
   ]
  },
  {
   "cell_type": "code",
   "execution_count": 7,
   "metadata": {},
   "outputs": [],
   "source": [
    "test_images_tmp = images_df[images_df[\"patient_id\"].isin(test_patients)]\n",
    "test_images_df = test_images_tmp.reset_index(drop=True)\n",
    "test_images_df[\"path\"] = test_images_df.apply(getPath, axis=1)\n",
    "test_images_df = test_images_df[test_images_df[\"path\"].isin(paths_test_df[\"path\"])]\n",
    "test_dataset = ImageDataset(data_dir, test_patients, test_images_df)\n",
    "\n",
    "values_train = pd.read_csv(\"data/values_train.csv\")\n",
    "values_test = pd.read_csv(\"data/values_test.csv\")\n",
    "values_test = values_test[values_test[\"path\"].isin(paths_test_df[\"path\"])]\n",
    "values_test = values_test.drop(values_test[values_test[\"correct\"] == 1].sample(n=48, random_state=42).index)\n"
   ]
  },
  {
   "cell_type": "code",
   "execution_count": 8,
   "metadata": {},
   "outputs": [
    {
     "name": "stderr",
     "output_type": "stream",
     "text": [
      "100%|██████████| 348/348 [00:12<00:00, 26.80it/s]\n"
     ]
    },
    {
     "data": {
      "image/png": "[encoded data removed]",
      "text/plain": [
       "<Figure size 640x480 with 2 Axes>"
      ]
     },
     "metadata": {},
     "output_type": "display_data"
    },
    {
     "name": "stdout",
     "output_type": "stream",
     "text": [
      "accuracy: 0.5689655172413793\n",
      "precision: 0.571448955168922\n"
     ]
    }
   ],
   "source": [
    "# confusion matrix of the models/MIDmodel2.pt\n",
    "model = MIDmodel2()\n",
    "model.load_state_dict(torch.load(\"models/MIDmodel2.pt\"))\n",
    "model.eval()\n",
    "model.to(device)\n",
    "test_dataset = ImageDataset(data_dir, test_patients, test_images_df)\n",
    "y_true = []\n",
    "y_pred = []\n",
    "for i in tqdm(range(len(test_dataset))):\n",
    "    image, label, path = test_dataset[i]\n",
    "    image = image.unsqueeze(0)\n",
    "    image = image.to(device)\n",
    "    output = model(image)\n",
    "    _, predicted = torch.max(output.data, 1)\n",
    "    y_true.append(label)\n",
    "    y_pred.append(predicted.cpu().detach().numpy())\n",
    "\n",
    "cm = confusion_matrix(y_true, y_pred)\n",
    "sns.heatmap(cm, annot=True, fmt=\"d\", cmap=\"Blues\")\n",
    "plt.show()\n",
    "\n",
    "print(\"accuracy:\", accuracy_score(y_true, y_pred))\n",
    "print(\"precision:\", precision_score(y_true, y_pred, average=\"macro\"))"
   ]
  },
  {
   "cell_type": "code",
   "execution_count": 10,
   "metadata": {},
   "outputs": [
    {
     "name": "stdout",
     "output_type": "stream",
     "text": [
      "Accuracy: 0.5433333333333333\n",
      "Precision: 0.5437710437710438\n"
     ]
    },
    {
     "data": {
      "image/png": "[encoded data removed]",
      "text/plain": [
       "<Figure size 640x480 with 2 Axes>"
      ]
     },
     "metadata": {},
     "output_type": "display_data"
    }
   ],
   "source": [
    "# confusion matrix of the binary model\n",
    "with open(\"models/svc.pkl\", \"rb\") as f:\n",
    "    svc = pickle.load(f)\n",
    "\n",
    "X_test = values_test.drop([\"path\", \"correct\", \"predicted\", \"true\"], axis=1)\n",
    "y_true = values_test[\"correct\"]\n",
    "y_pred = svc.predict(X_test)\n",
    "print(\"Accuracy:\", accuracy_score(y_true, y_pred))\n",
    "print(\"Precision:\", precision_score(y_true, y_pred, average=\"macro\"))\n",
    "\n",
    "cm = confusion_matrix(y_true, y_pred)\n",
    "sns.heatmap(cm, annot=True, fmt=\"d\", cmap=\"Blues\")\n",
    "plt.show()"
   ]
  },
  {
   "cell_type": "code",
   "execution_count": 11,
   "metadata": {},
   "outputs": [
    {
     "name": "stderr",
     "output_type": "stream",
     "text": [
      "100%|██████████| 300/300 [2:01:21<00:00, 24.27s/it]\n"
     ]
    },
    {
     "data": {
      "image/png": "[encoded data removed]",
      "text/plain": [
       "<Figure size 640x480 with 2 Axes>"
      ]
     },
     "metadata": {},
     "output_type": "display_data"
    }
   ],
   "source": [
    "# confusion matrix of t-SNE\n",
    "values_tsne = values_train.copy()\n",
    "values_tsne.drop(columns=[\"path\", \"true\", \"predicted\", \"correct\"], inplace=True)\n",
    "y_true = []\n",
    "y_pred = []\n",
    "for i in tqdm(range(len(values_test))):\n",
    "    element = values_test.iloc[i]\n",
    "    sm0 = element[\"sm0\"]\n",
    "    sm1 = element[\"sm1\"]\n",
    "    sm2 = element[\"sm2\"]\n",
    "    sm3 = element[\"sm3\"]\n",
    "    values_tsne = pd.concat([values_tsne, pd.DataFrame([[sm0, sm1, sm2, sm3]], columns=[\"sm0\", \"sm1\", \"sm2\", \"sm3\"])])\n",
    "    points = values_tsne[[\"sm0\", \"sm1\", \"sm2\", \"sm3\"]].values\n",
    "    tsne = TSNE(n_components=2, verbose=0, perplexity=40, n_iter=400)\n",
    "    tsne_results = tsne.fit_transform(points)\n",
    "    distances = np.linalg.norm(tsne_results - tsne_results[len(tsne_results)-1], axis=1)\n",
    "    points_num = 12\n",
    "    nearest_points = np.argsort(distances)[:points_num]\n",
    "    nearest_points = np.delete(nearest_points, 0)\n",
    "    scores = []\n",
    "    for k in range(len(nearest_points)):\n",
    "        scores.append(values_train.iloc[nearest_points[k]][\"true\"])\n",
    "    mode_val = np.median(scores)\n",
    "    values_tsne = values_tsne[:-1]\n",
    "    y_true.append(element[\"true\"])\n",
    "    y_pred.append(mode_val)\n",
    "\n",
    "\n",
    "cm = confusion_matrix(y_true, y_pred)\n",
    "sns.heatmap(cm, annot=True, fmt=\"d\", cmap=\"Blues\")\n",
    "plt.show()"
   ]
  },
  {
   "cell_type": "code",
   "execution_count": 12,
   "metadata": {},
   "outputs": [
    {
     "name": "stdout",
     "output_type": "stream",
     "text": [
      "accuracy: 0.48\n",
      "precision: 0.47247812831389185\n"
     ]
    }
   ],
   "source": [
    "print(\"accuracy:\", accuracy_score(y_true, y_pred))\t\n",
    "print(\"precision:\", precision_score(y_true, y_pred, average=\"macro\"))"
   ]
  },
  {
   "attachments": {},
   "cell_type": "markdown",
   "metadata": {},
   "source": [
    "# FINAL MODEL"
   ]
  },
  {
   "cell_type": "code",
   "execution_count": 46,
   "metadata": {},
   "outputs": [],
   "source": [
    "class MIDfinal2(nn.Module):\n",
    "    def __init__(self, values_train: pd.DataFrame):\n",
    "        super(MIDfinal2, self).__init__()\n",
    "        self.MIDmodel = MIDmodel2()\n",
    "        self.MIDmodel.load_state_dict(torch.load(\"models/MIDmodel2.pt\"))\n",
    "        self.MIDmodel.to(device)\n",
    "        self.MIDmodel.eval()\n",
    "        self.binary_classifier = pickle.load(open(\"models/svc.pkl\", \"rb\"))\n",
    "        self.values_train = values_train\n",
    "\n",
    "    def forward(self, x):\n",
    "        # get the output from the MIDmodel\n",
    "        res = self.MIDmodel(x)\n",
    "        predicted_label =torch.nn.functional.softmax(res, dim=1)\n",
    "        predicted_label = predicted_label.cpu().detach().numpy()\n",
    "        predicted_label = pd.DataFrame(predicted_label, columns=[\"sm0\", \"sm1\", \"sm2\", \"sm3\"])\n",
    "        label_value = torch.argmax(res)\n",
    "\n",
    "        results = []\n",
    "        results.append(label_value)\n",
    "\n",
    "        binary_output = self.binary_classifier.predict(predicted_label)\n",
    "        binary_output = binary_output[0]\n",
    "        results.append(binary_output)\n",
    "\n",
    "        if binary_output == 0:\n",
    "            values_tsne = self.values_train.copy()\n",
    "            values_tsne.drop(columns=[\"path\", \"true\", \"predicted\", \"correct\"], inplace=True)\n",
    "            res = predicted_label\n",
    "            res = pd.DataFrame(res, columns=[\"sm0\", \"sm1\", \"sm2\", \"sm3\"])\n",
    "            values_tsne = pd.concat([values_tsne, res])\n",
    "            points = values_tsne[[\"sm0\", \"sm1\", \"sm2\", \"sm3\"]].values\n",
    "            tsne = TSNE(n_components=2, verbose=0, perplexity=40, n_iter=400)\n",
    "            tsne_results = tsne.fit_transform(points)\n",
    "            distances = np.linalg.norm(tsne_results - tsne_results[len(tsne_results)-1], axis=1)\n",
    "            points_num = 12\n",
    "            nearest_points = np.argsort(distances)[:points_num]\n",
    "            nearest_points = np.delete(nearest_points, 0)\n",
    "            scores = []\n",
    "            for k in range(len(nearest_points)):\n",
    "                scores.append(self.values_train.iloc[nearest_points[k]][\"true\"])\n",
    "            mode_val = max(set(scores), key=scores.count)\n",
    "            results.append(mode_val)\n",
    "            return results\n",
    "        # trasform res to the final label\n",
    "        res = torch.argmax(res).cpu().detach().numpy()\n",
    "        results.append(res)\n",
    "        return results"
   ]
  },
  {
   "cell_type": "code",
   "execution_count": 49,
   "metadata": {},
   "outputs": [
    {
     "name": "stderr",
     "output_type": "stream",
     "text": [
      "100%|██████████| 348/348 [1:15:31<00:00, 13.02s/it]\n"
     ]
    },
    {
     "data": {
      "image/png": "[encoded data removed]",
      "text/plain": [
       "<Figure size 640x480 with 2 Axes>"
      ]
     },
     "metadata": {},
     "output_type": "display_data"
    },
    {
     "name": "stdout",
     "output_type": "stream",
     "text": [
      "accuracy: 0.5488505747126436\n",
      "precision: 0.5446881684577992\n"
     ]
    }
   ],
   "source": [
    "model = MIDfinal2(values_train)\n",
    "model.eval()\n",
    "y_true = []\n",
    "y_pred = []\n",
    "test_dataset = ImageDataset(data_dir, test_patients, test_images_df)\n",
    "for i in tqdm(range(len(test_dataset))):\n",
    "    image, label, path = test_dataset[i]\n",
    "    image = image.unsqueeze(0)\n",
    "    image = image.to(device)\n",
    "    output = model(image)\n",
    "    binary = output[0]\n",
    "    resnet = output[1]\n",
    "    output = output[2]\n",
    "    y_true.append(label)\n",
    "    y_pred.append(output)\n",
    "\n",
    "cm = confusion_matrix(y_true, y_pred)\n",
    "sns.heatmap(cm, annot=True, fmt=\"d\", cmap=\"Blues\")\n",
    "plt.show()\n",
    "\n",
    "print(\"accuracy:\", accuracy_score(y_true, y_pred))\n",
    "print(\"precision:\", precision_score(y_true, y_pred, average=\"macro\"))"
   ]
  }
 ],
 "metadata": {
  "kernelspec": {
   "display_name": "Python 3",
   "language": "python",
   "name": "python3"
  },
  "language_info": {
   "codemirror_mode": {
    "name": "ipython",
    "version": 3
   },
   "file_extension": ".py",
   "mimetype": "text/x-python",
   "name": "python",
   "nbconvert_exporter": "python",
   "pygments_lexer": "ipython3",
   "version": "3.10.9"
  },
  "orig_nbformat": 4
 },
 "nbformat": 4,
 "nbformat_minor": 2
}
