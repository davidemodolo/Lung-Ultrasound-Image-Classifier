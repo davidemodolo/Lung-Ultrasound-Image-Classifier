{
 "cells": [
  {
   "cell_type": "code",
   "execution_count": 9,
   "metadata": {},
   "outputs": [
    {
     "data": {
      "text/html": [
       "<div>\n",
       "<style scoped>\n",
       "    .dataframe tbody tr th:only-of-type {\n",
       "        vertical-align: middle;\n",
       "    }\n",
       "\n",
       "    .dataframe tbody tr th {\n",
       "        vertical-align: top;\n",
       "    }\n",
       "\n",
       "    .dataframe thead th {\n",
       "        text-align: right;\n",
       "    }\n",
       "</style>\n",
       "<table border=\"1\" class=\"dataframe\">\n",
       "  <thead>\n",
       "    <tr style=\"text-align: right;\">\n",
       "      <th></th>\n",
       "      <th>patient_id</th>\n",
       "      <th>exam_id</th>\n",
       "      <th>spot</th>\n",
       "      <th>frame_number</th>\n",
       "      <th>score</th>\n",
       "    </tr>\n",
       "  </thead>\n",
       "  <tbody>\n",
       "    <tr>\n",
       "      <th>47716</th>\n",
       "      <td>1069</td>\n",
       "      <td>1158</td>\n",
       "      <td>9</td>\n",
       "      <td>96</td>\n",
       "      <td>0</td>\n",
       "    </tr>\n",
       "    <tr>\n",
       "      <th>47717</th>\n",
       "      <td>1069</td>\n",
       "      <td>1158</td>\n",
       "      <td>9</td>\n",
       "      <td>97</td>\n",
       "      <td>0</td>\n",
       "    </tr>\n",
       "    <tr>\n",
       "      <th>47718</th>\n",
       "      <td>1069</td>\n",
       "      <td>1158</td>\n",
       "      <td>9</td>\n",
       "      <td>98</td>\n",
       "      <td>0</td>\n",
       "    </tr>\n",
       "    <tr>\n",
       "      <th>47719</th>\n",
       "      <td>1069</td>\n",
       "      <td>1158</td>\n",
       "      <td>9</td>\n",
       "      <td>99</td>\n",
       "      <td>0</td>\n",
       "    </tr>\n",
       "    <tr>\n",
       "      <th>47720</th>\n",
       "      <td>1069</td>\n",
       "      <td>1158</td>\n",
       "      <td>9</td>\n",
       "      <td>9</td>\n",
       "      <td>0</td>\n",
       "    </tr>\n",
       "  </tbody>\n",
       "</table>\n",
       "</div>"
      ],
      "text/plain": [
       "      patient_id exam_id spot frame_number score\n",
       "47716       1069    1158    9           96     0\n",
       "47717       1069    1158    9           97     0\n",
       "47718       1069    1158    9           98     0\n",
       "47719       1069    1158    9           99     0\n",
       "47720       1069    1158    9            9     0"
      ]
     },
     "execution_count": 9,
     "metadata": {},
     "output_type": "execute_result"
    }
   ],
   "source": [
    "import pandas as pd\n",
    "import torch\n",
    "device = torch.device(\"cuda\" if torch.cuda.is_available() else \"cpu\")\n",
    "# \"patient_id exam_id spot[1-14] frame_number score\"\n",
    "# load patients data in a dataframe from images folder\n",
    "import glob\n",
    "images_paths = glob.glob(\"images/*.png\", recursive=True)\n",
    "# images are named as: patientid_examid_spotnumber_framenumber_score.png\n",
    "# create a dataframe with the data removing \"images/\"\n",
    "images_df = pd.DataFrame([path[7:-4].split(\"_\") for path in images_paths], columns=[\"patient_id\", \"exam_id\", \"spot\", \"frame_number\", \"score\"])\n",
    "images_df[\"score\"] = images_df[\"score\"].astype(str)\n",
    "images_df[\"frame_number\"] = images_df[\"frame_number\"].astype(str)\n",
    "images_df[\"spot\"] = images_df[\"spot\"].astype(str)\n",
    "images_df[\"patient_id\"] = images_df[\"patient_id\"].astype(str)\n",
    "images_df[\"exam_id\"] = images_df[\"exam_id\"].astype(str)\n",
    "images_df.tail()\n"
   ]
  },
  {
   "cell_type": "code",
   "execution_count": 10,
   "metadata": {},
   "outputs": [
    {
     "name": "stdout",
     "output_type": "stream",
     "text": [
      "train patients:  ['1048', '1052', '1068', '1069', '1066', '1047', '1050'] test patients:  ['1051', '1067', '1045', '1017']\n"
     ]
    }
   ],
   "source": [
    "# PREPARING DATA SPLITTING\n",
    "\n",
    "# get the set of patients id\n",
    "patients_ids = set(images_df[\"patient_id\"])\n",
    "patients_ids = list(patients_ids)\n",
    "import random\n",
    "random.shuffle(patients_ids)\n",
    "train_patients = patients_ids[:int(len(patients_ids)*0.7)]\n",
    "test_patients = patients_ids[int(len(patients_ids)*0.7):]\n",
    "print(\"train patients: \", train_patients, \"test patients: \", test_patients)"
   ]
  },
  {
   "cell_type": "code",
   "execution_count": 11,
   "metadata": {},
   "outputs": [],
   "source": [
    "from torch.utils.data import Dataset\n",
    "import numpy as np\n",
    "import torch\n",
    "from torchvision.io import read_image\n",
    "import os\n",
    "class MIDataset(Dataset):\n",
    "    def __init__(self, dataset: pd.DataFrame, patient_list: list):\n",
    "        tmp = dataset[dataset[\"patient_id\"].isin(patient_list)]\n",
    "        # create a list with the path of the images\n",
    "        self.images_paths = [\"images/\" + \"_\".join(row) + \".png\" for row in tmp.values]\n",
    "        # self.images_paths to np array\n",
    "        self.images_paths = np.array(self.images_paths)\n",
    "        # create a list with the score of the images\n",
    "        self.images_scores = tmp[\"score\"].values\n",
    "\n",
    "    \n",
    "    def __len__(self):\n",
    "        return len(self.images_paths)\n",
    "    \n",
    "    def __getitem__(self, idx):\n",
    "        image = read_image(self.images_paths[idx])\n",
    "        label = self.images_scores[idx]\n",
    "\n",
    "        return image, label"
   ]
  },
  {
   "cell_type": "code",
   "execution_count": 12,
   "metadata": {},
   "outputs": [],
   "source": [
    "import torch\n",
    "train_dataset = MIDataset(images_df, train_patients)\n",
    "train_loader = torch.utils.data.DataLoader(train_dataset, batch_size=2, shuffle=True)\n",
    "\n",
    "test_dataset = MIDataset(images_df, test_patients)\n",
    "test_loader = torch.utils.data.DataLoader(test_dataset, batch_size=2, shuffle=True)\n",
    "\n",
    "loss_function = torch.nn.CrossEntropyLoss()"
   ]
  },
  {
   "cell_type": "code",
   "execution_count": 13,
   "metadata": {},
   "outputs": [],
   "source": [
    "import torchvision\n",
    "def initialize_resnet18(num_classes = 4):\n",
    "    resnet18 = torchvision.models.resnet18(pretrained=True)\n",
    "    \n",
    "    in_features = resnet18.fc.in_features\n",
    "    \n",
    "    resnet18.fc = torch.nn.Linear(in_features=in_features,\n",
    "                                  out_features=num_classes)\n",
    "    return resnet18\n",
    "\n",
    "def get_optimizer(model, lr=0.001):\n",
    "    final_layer_weights = []\n",
    "    rest_of_the_net_weights = []\n",
    "    \n",
    "    for name, param in model.named_parameters():\n",
    "        if name.startswith('fc'):\n",
    "            final_layer_weights.append(param)\n",
    "        else:\n",
    "            rest_of_the_net_weights.append(param)\n",
    "    \n",
    "    optimizer = torch.optim.Adam([\n",
    "            {'params': rest_of_the_net_weights},\n",
    "            {'params': final_layer_weights, 'lr': lr}\n",
    "        ], lr=lr)\n",
    "    \n",
    "    return optimizer"
   ]
  },
  {
   "cell_type": "code",
   "execution_count": 14,
   "metadata": {},
   "outputs": [],
   "source": [
    "def training_step(net, dataloader, optimizer, loss_function, device='cuda'):\n",
    "    \n",
    "    samples = 0.\n",
    "    cumulative_loss = 0.\n",
    "    cumulative_accuracy = 0.\n",
    "    \n",
    "    net.train()\n",
    "    \n",
    "    for batch_idx, inputs in enumerate(dataloader):\n",
    "        \n",
    "        inputs = inputs.to(device)\n",
    "        targets = targets.to(device)\n",
    "        \n",
    "        outputs = net(inputs)\n",
    "        \n",
    "        loss = loss_function(outputs, targets)\n",
    "        \n",
    "        loss.backward()\n",
    "        optimizer.step()\n",
    "        optimizer.zero_grad()\n",
    "        \n",
    "        samples += inputs.shape[0]\n",
    "        cumulative_loss += loss.item()\n",
    "        _, predicted = outputs.max(dim=1)\n",
    "        \n",
    "        cumulative_accuracy += predicted.eq(targets).sum().item()\n",
    "    \n",
    "    return cumulative_loss/samples, cumulative_accuracy/samples*100"
   ]
  },
  {
   "cell_type": "code",
   "execution_count": 15,
   "metadata": {},
   "outputs": [],
   "source": [
    "def test_step(net, dataloader, loss_function, device='cuda'):\n",
    "    \n",
    "    samples = 0.\n",
    "    cumulative_loss = 0.\n",
    "    cumulative_accuracy = 0.\n",
    "    \n",
    "    net.eval()\n",
    "    \n",
    "    with torch.no_grad():\n",
    "        \n",
    "        for batch_idx, inputs in enumerate(dataloader):\n",
    "            inputs = inputs.to(device)\n",
    "            targets = targets.to(device)\n",
    "            \n",
    "            outputs = net(inputs)\n",
    "            loss = loss_function(outputs, targets)\n",
    "            \n",
    "            samples += inputs.shape[0]\n",
    "            cumulative_loss += loss.item()\n",
    "            _, predicted = outputs.max(dim=1)\n",
    "            \n",
    "            cumulative_accuracy += predicted.eq(targets).sum().item()\n",
    "    \n",
    "    return cumulative_loss/samples, cumulative_accuracy/samples*100"
   ]
  },
  {
   "cell_type": "code",
   "execution_count": 16,
   "metadata": {},
   "outputs": [
    {
     "name": "stderr",
     "output_type": "stream",
     "text": [
      "c:\\Users\\Davide\\AppData\\Local\\Programs\\Python\\Python310\\lib\\site-packages\\torchvision\\models\\_utils.py:208: UserWarning: The parameter 'pretrained' is deprecated since 0.13 and may be removed in the future, please use 'weights' instead.\n",
      "  warnings.warn(\n",
      "c:\\Users\\Davide\\AppData\\Local\\Programs\\Python\\Python310\\lib\\site-packages\\torchvision\\models\\_utils.py:223: UserWarning: Arguments other than a weight enum or `None` for 'weights' are deprecated since 0.13 and may be removed in the future. The current behavior is equivalent to passing `weights=ResNet18_Weights.IMAGENET1K_V1`. You can also use `weights=ResNet18_Weights.DEFAULT` to get the most up-to-date weights.\n",
      "  warnings.warn(msg)\n"
     ]
    },
    {
     "ename": "AttributeError",
     "evalue": "'list' object has no attribute 'to'",
     "output_type": "error",
     "traceback": [
      "\u001b[1;31m---------------------------------------------------------------------------\u001b[0m",
      "\u001b[1;31mAttributeError\u001b[0m                            Traceback (most recent call last)",
      "Cell \u001b[1;32mIn [16], line 5\u001b[0m\n\u001b[0;32m      2\u001b[0m optimizer \u001b[39m=\u001b[39m get_optimizer(net, lr\u001b[39m=\u001b[39m\u001b[39m0.001\u001b[39m)\n\u001b[0;32m      4\u001b[0m \u001b[39mfor\u001b[39;00m e \u001b[39min\u001b[39;00m \u001b[39mrange\u001b[39m(\u001b[39m20\u001b[39m):   \n\u001b[1;32m----> 5\u001b[0m         train_loss, train_accuracy \u001b[39m=\u001b[39m training_step(net, train_loader, optimizer, loss_function, device)\n\u001b[0;32m      6\u001b[0m         test_loss, test_accuracy \u001b[39m=\u001b[39m test_step(net, test_loader, loss_function, device)\n",
      "Cell \u001b[1;32mIn [14], line 11\u001b[0m, in \u001b[0;36mtraining_step\u001b[1;34m(net, dataloader, optimizer, loss_function, device)\u001b[0m\n\u001b[0;32m      7\u001b[0m net\u001b[39m.\u001b[39mtrain()\n\u001b[0;32m      9\u001b[0m \u001b[39mfor\u001b[39;00m batch_idx, inputs \u001b[39min\u001b[39;00m \u001b[39menumerate\u001b[39m(dataloader):\n\u001b[1;32m---> 11\u001b[0m     inputs \u001b[39m=\u001b[39m inputs\u001b[39m.\u001b[39;49mto(device)\n\u001b[0;32m     12\u001b[0m     targets \u001b[39m=\u001b[39m targets\u001b[39m.\u001b[39mto(device)\n\u001b[0;32m     14\u001b[0m     outputs \u001b[39m=\u001b[39m net(inputs)\n",
      "\u001b[1;31mAttributeError\u001b[0m: 'list' object has no attribute 'to'"
     ]
    }
   ],
   "source": [
    "net = initialize_resnet18(4).to(device)\n",
    "optimizer = get_optimizer(net, lr=0.001)\n",
    "\n",
    "for e in range(20):   \n",
    "        train_loss, train_accuracy = training_step(net, train_loader, optimizer, loss_function, device)\n",
    "        test_loss, test_accuracy = test_step(net, test_loader, loss_function, device)"
   ]
  }
 ],
 "metadata": {
  "kernelspec": {
   "display_name": "Python 3.10.5 64-bit",
   "language": "python",
   "name": "python3"
  },
  "language_info": {
   "codemirror_mode": {
    "name": "ipython",
    "version": 3
   },
   "file_extension": ".py",
   "mimetype": "text/x-python",
   "name": "python",
   "nbconvert_exporter": "python",
   "pygments_lexer": "ipython3",
   "version": "3.10.5"
  },
  "orig_nbformat": 4,
  "vscode": {
   "interpreter": {
    "hash": "760bf3b9c43a19e2fe1b4d509841bd16027d034122dfd0e7f3a29ff3458619a9"
   }
  }
 },
 "nbformat": 4,
 "nbformat_minor": 2
}
